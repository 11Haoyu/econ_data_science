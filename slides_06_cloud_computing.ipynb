{
 "cells": [
  {
   "cell_type": "markdown",
   "id": "1244bb18",
   "metadata": {
    "slideshow": {
     "slide_type": "slide"
    }
   },
   "source": [
    "# Cloud Computing\n",
    "\n",
    "Zhentao Shi"
   ]
  },
  {
   "cell_type": "markdown",
   "id": "71572d05",
   "metadata": {
    "slideshow": {
     "slide_type": "slide"
    }
   },
   "source": [
    "* Remote server is more useful than powerful personal computer\n",
    "* Instruments for serious jobs\n",
    "\n",
    "* Cloud storage: Dropbox"
   ]
  },
  {
   "cell_type": "markdown",
   "id": "6f3133fd",
   "metadata": {
    "slideshow": {
     "slide_type": "slide"
    }
   },
   "source": [
    "### Workflow \n",
    "\n",
    "* No fundamental difference lies between local and cloud\n",
    "* Prepare in the cloud serve the data and code\n",
    "* Open a shell for communication, run the code, and collect the results\n",
    "\n",
    "* Command-line interface (CLI)"
   ]
  },
  {
   "cell_type": "markdown",
   "id": "3fe51256",
   "metadata": {
    "slideshow": {
     "slide_type": "fragment"
    }
   },
   "source": [
    "### Windows users\n",
    "\n",
    "* [`PUTTY`](https://www.putty.org/)\n",
    "* [`WinSCP`](http://winscp.net/eng/download.php)"
   ]
  },
  {
   "cell_type": "markdown",
   "id": "57a62da3",
   "metadata": {
    "slideshow": {
     "slide_type": "subslide"
    }
   },
   "source": [
    "### Open Source\n",
    "\n",
    "* Strong justification for open-source languages\n",
    "* Installation with no limitations"
   ]
  },
  {
   "cell_type": "markdown",
   "id": "ab034290",
   "metadata": {
    "slideshow": {
     "slide_type": "slide"
    }
   },
   "source": [
    "### User Experience\n",
    "\n",
    "* Cost and barrier of remote computing have reduced significantly\n",
    "* Remote desktop best mimics the familiar operation system on a local computer\n",
    "* Internet latency\n",
    "* CLI flexible"
   ]
  },
  {
   "cell_type": "markdown",
   "id": "b9536189",
   "metadata": {
    "slideshow": {
     "slide_type": "subslide"
    }
   },
   "source": [
    "* Remote Jupyter and Rstudio works via a web browser as an interface\n",
    "* Mouse and keyboard are still local\n",
    "* Command is send from the browser to the remote computer\n",
    "* Results are send back to the browser for display\n",
    "* IDEs also have file management, to partially replace WinSCP\n",
    "\n"
   ]
  },
  {
   "cell_type": "markdown",
   "id": "45f38e07",
   "metadata": {
    "slideshow": {
     "slide_type": "slide"
    }
   },
   "source": [
    "### CUHK Econ\n",
    "\n",
    "* Students have access to powerful multi-core computers"
   ]
  },
  {
   "cell_type": "markdown",
   "id": "890227fd",
   "metadata": {
    "slideshow": {
     "slide_type": "fragment"
    }
   },
   "source": [
    "1. Log in `econsuper.econ.cuhk.edu.hk`;\n",
    "2. Upload R scripts and data to the server;\n",
    "3. In a shell, run `R --no-save <file_name.R> result_file_name.out`;\n",
    "4. To run a command in the background, add `&` at the end of the above command."
   ]
  },
  {
   "cell_type": "markdown",
   "id": "9a8bd6fe",
   "metadata": {
    "slideshow": {
     "slide_type": "subslide"
    }
   },
   "source": [
    "* This example comes from @lin2020. \n",
    "* Only use 15% of the data and a sparse grid of tuning parameters\n",
    "* It takes about 9 minutes with 24 cores"
   ]
  },
  {
   "cell_type": "markdown",
   "id": "054f32ef",
   "metadata": {
    "slideshow": {
     "slide_type": "slide"
    }
   },
   "source": [
    "```\n",
    "ssh ztshi@econsuper.econ.cuhk.edu.hk\n",
    "cd data_example\n",
    "R --no-save <Beijing_housing_gbm.R> GBM_BJ.out & \n",
    "```"
   ]
  },
  {
   "cell_type": "markdown",
   "id": "ccdfa35c",
   "metadata": {
    "slideshow": {
     "slide_type": "subslide"
    }
   },
   "source": [
    "On SCRP, the user's package library matters\n",
    "\n",
    "```\n",
    "R --no-save <Beijing_housing_gbm.R> GBM_BJ.out & \n",
    "```"
   ]
  },
  {
   "cell_type": "markdown",
   "id": "69ec5434",
   "metadata": {
    "slideshow": {
     "slide_type": "slide"
    }
   },
   "source": [
    "### Long jobs\n",
    "\n",
    "* Keep jobs running on the background \n",
    "* Terminal can be freed for other task\n",
    "\n",
    "* Disconnect with the server and the task is still running\n",
    "* Otherwise, the task will be terminated immediately once we close window, disconnect with the server, or lose Internet or VPN connection."
   ]
  },
  {
   "cell_type": "markdown",
   "id": "46e71735",
   "metadata": {
    "slideshow": {
     "slide_type": "slide"
    }
   },
   "source": [
    "### Prepare in Advance\n",
    "\n",
    "* Before we run script in CLI, test the input and output in small scale on your local computer.\n",
    "\n",
    "* Working without a graphic interface means that we cannot interact with intermediate results\n",
    "* Think in advance how to retrieve the results.\n",
    "* Although we can save the screen print in a text file, it will be convenient to export the key results as physical data files (rds, csv, xls...) or graph files (pdf, jpeg, png). \n"
   ]
  },
  {
   "cell_type": "markdown",
   "id": "9670f4d6",
   "metadata": {
    "slideshow": {
     "slide_type": "slide"
    }
   },
   "source": [
    "### RStudio Server\n",
    "\n",
    "The command line shells lack a graphic interface for interactive data analysis. \n",
    "[RStudio server](https://rstudio.com/products/rstudio/#rstudio-server) offers a local-like\n",
    "environment via a web browser to communicate with a remote server. \n",
    "The remote server can be specified for users' need.\n",
    "\n",
    "* Rstudio on SCRP\n",
    "* Jupyter Notebook on SCRP\n"
   ]
  },
  {
   "cell_type": "markdown",
   "id": "3ab6bd9e",
   "metadata": {
    "slideshow": {
     "slide_type": "skip"
    }
   },
   "source": [
    "* `RStudio Cloud` is a free service to facilitate teaching and demonstration. The underlying computation unit is \n",
    "too weak to execute serious tasks.\n",
    "* `Econsuper` is our department's service, which resembles a workplace environment in a small company. We can contact the technicians for our needs. The service is always online (with VPN connection), and much more powerful than the \n",
    "best local computer we can afford.\n",
    "* `Amazon Web Service Cloud` is commercial service that can be tailored according to one's budget, from tiny demonstrative display to big enterprise business applications."
   ]
  },
  {
   "cell_type": "markdown",
   "id": "93685a22",
   "metadata": {
    "slideshow": {
     "slide_type": "slide"
    }
   },
   "source": [
    "## Reproducibility\n",
    "\n",
    "* Keep the same environment across local computers and remote clusters\n",
    "* Virtual machine\n",
    "* [Docker](https://hub.docker.com/repository/docker/ztshi/econ_data_sci/general)\n",
    "* Gitpod"
   ]
  },
  {
   "cell_type": "markdown",
   "id": "50175ce6",
   "metadata": {
    "slideshow": {
     "slide_type": "skip"
    }
   },
   "source": [
    "`renv` provides a system to easily reproduce an environment."
   ]
  },
  {
   "cell_type": "markdown",
   "id": "a8fdc56e",
   "metadata": {
    "slideshow": {
     "slide_type": "skip"
    }
   },
   "source": [
    "```\n",
    "renv::init() # initiate a local environment\n",
    "renv::snapshot() # scan the folder for packages and dependencies\n",
    "renv::restore() # restore the environment recorded in `renv.lock`\n",
    "```"
   ]
  }
 ],
 "metadata": {
  "celltoolbar": "Slideshow",
  "kernelspec": {
   "display_name": "R",
   "language": "R",
   "name": "ir"
  },
  "language_info": {
   "codemirror_mode": "r",
   "file_extension": ".r",
   "mimetype": "text/x-r-source",
   "name": "R",
   "pygments_lexer": "r",
   "version": "4.2.2"
  },
  "rise": {
   "enable_chalkboard": true,
   "scroll": true,
   "theme": "serif"
  }
 },
 "nbformat": 4,
 "nbformat_minor": 5
}
