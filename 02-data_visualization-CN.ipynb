{
 "cells": [
  {
   "cell_type": "markdown",
   "id": "61000cf8",
   "metadata": {},
   "source": [
    "# 图表\n",
    "\n",
    "中国宏观经济数据 [link](https://zhuanlan.zhihu.com/p/30588976)\n",
    "\n",
    "\n",
    "中国人健康寿命调查 [link](https://www.icpsr.umich.edu/web/NACDA/studies/36692)\n",
    "\n",
    "\n",
    "中国家庭金融调查 [link](https://chfs.swufe.edu.cn/)\n"
   ]
  },
  {
   "cell_type": "markdown",
   "id": "6dadb20d",
   "metadata": {},
   "source": [
    "英国有一句老话：“一张图片胜过千言万语。”著名的统计学家John Tukeya，是计算机时代统计图表的先驱者之一。如今，功能强大的软件能够生成各种各样令人眼花缭乱的统计图表，有些是基于网络且可交互的。除了学术研究外，新闻行业也通过许多专业的数据图表吸引了大量的读者。《纽约时报》和《经济学人》就是很好的例子，《南华早报》在这方面也有不错的表现。精美的图表可以直观有力地传达信息。相较于表格，我在撰写论文以及报告时更加青睐图表。因为图表生动而吸引人，表格则单调沉闷。"
   ]
  },
  {
   "cell_type": "markdown",
   "id": "6fa29a0c",
   "metadata": {},
   "source": [
    "## 简单的图表\n",
    "\n",
    "### 时间序列\n"
   ]
  },
  {
   "cell_type": "code",
   "execution_count": null,
   "id": "87d4867a",
   "metadata": {},
   "outputs": [],
   "source": [
    "library(magrittr)\n",
    "library(dplyr)\n",
    "library(doBy)\n",
    "library(zoo)\n",
    "library(rvest)\n",
    "library(Quandl)"
   ]
  },
  {
   "cell_type": "markdown",
   "id": "3456f619",
   "metadata": {},
   "source": [
    "实际应用：\n",
    "- 宏观经济学领域\n",
    "  - 国家统计局 [National Bureau of Statistics](https://data.stats.gov.cn/easyquery.htm?cn=B01)\n",
    "  - 美联储 [FRED database](https://research.stlouisfed.org/econ/mccracken/fred-databases/)\n",
    "\n",
    "- 金融领域\n",
    "  - 雅虎金融 [Yahoo Finance](https://finance.yahoo.com/)"
   ]
  },
  {
   "cell_type": "markdown",
   "id": "b9452d99",
   "metadata": {},
   "source": [
    "### 香港 GDP\n",
    "\n",
    "香港GDP数据 [链接](https://www.censtatd.gov.hk/en/web_table.html?id=33#)"
   ]
  },
  {
   "cell_type": "markdown",
   "id": "db56a78f",
   "metadata": {},
   "source": [
    "### 美国GDP\n",
    "\n",
    "美国GDP [经济统计局](https://www.bea.gov/data/gdp/gross-domestic-product)"
   ]
  },
  {
   "cell_type": "markdown",
   "id": "8953069c",
   "metadata": {},
   "source": [
    "### 中国 GDP\n",
    "\n",
    "* 国家统计局 [National Bureau of Statistics](https://data.stats.gov.cn/easyquery.htm?cn=B01)\n",
    "* 应用编程接口 (Application Programming Interface, API) [FRED's webpage](https://fred.stlouisfed.org/series/MKTGDPCNA646NWDB)"
   ]
  },
  {
   "cell_type": "code",
   "execution_count": null,
   "id": "91e4508b",
   "metadata": {},
   "outputs": [],
   "source": [
    "quantmod::getSymbols.FRED(Symbols = \"MKTGDPCNA646NWDB\", env = .GlobalEnv) \n",
    "plot(MKTGDPCNA646NWDB)"
   ]
  },
  {
   "cell_type": "markdown",
   "id": "b6a3a8f0",
   "metadata": {},
   "source": [
    "## 上证综合指数"
   ]
  },
  {
   "cell_type": "code",
   "execution_count": null,
   "id": "8dd3be95",
   "metadata": {},
   "outputs": [],
   "source": [
    "tick = \"000001.SS\" # need to find the tick \n",
    "SH <- quantmod::getSymbols(tick, auto.assign = FALSE, \n",
    "         from = \"2000-01-01\")[, paste0(tick,\".Close\")]\n",
    "\n",
    "plot(SH)"
   ]
  },
  {
   "cell_type": "markdown",
   "id": "5d8405da",
   "metadata": {},
   "source": [
    "### 000001.SS 收益率"
   ]
  },
  {
   "cell_type": "code",
   "execution_count": null,
   "id": "1a80da1c",
   "metadata": {},
   "outputs": [],
   "source": [
    "diff(log(SH)) %>% plot"
   ]
  },
  {
   "cell_type": "markdown",
   "id": "ee96bd4e",
   "metadata": {},
   "source": [
    "### 比特币"
   ]
  },
  {
   "cell_type": "code",
   "execution_count": null,
   "id": "b68d8ad4",
   "metadata": {},
   "outputs": [],
   "source": [
    "BTC <- quantmod::getSymbols(\"BTC-USD\",auto.assign = FALSE, from = \"2021-07-01\")[,4]\n",
    "plot(BTC)\n",
    "\n",
    "ETH <- quantmod::getSymbols(\"ETH-USD\",auto.assign = FALSE, from = \"2021-07-01\")[,4]\n",
    "plot(ETH)\n",
    "\n",
    "plot( x = as.vector(ETH), y = as.vector(BTC), type = \"l\")"
   ]
  },
  {
   "cell_type": "markdown",
   "id": "be441fcf",
   "metadata": {},
   "source": [
    "### 比特币收益率"
   ]
  },
  {
   "cell_type": "code",
   "execution_count": null,
   "id": "4fb1a609",
   "metadata": {},
   "outputs": [],
   "source": [
    "diff( log(BTC) ) %>% plot( )"
   ]
  },
  {
   "cell_type": "markdown",
   "id": "995b3256",
   "metadata": {},
   "source": [
    "### 汇率"
   ]
  },
  {
   "cell_type": "code",
   "execution_count": null,
   "id": "99f9777e",
   "metadata": {},
   "outputs": [],
   "source": [
    "quantmod::getFX(\"USD/JPY\")\n",
    "quantmod::getFX(\"HKD/JPY\")\n",
    "matplot( y = cbind(USDJPY, HKDJPY*7.8), x = index(USDJPY), type = \"l\", xlab = \"time\"  )"
   ]
  },
  {
   "cell_type": "markdown",
   "id": "ed5c2f07",
   "metadata": {},
   "source": [
    "## 图形可视化(GGplot2)"
   ]
  },
  {
   "cell_type": "markdown",
   "id": "8961770a",
   "metadata": {},
   "source": [
    "在第一章中，我们已经见过如何用R给OLS回归制作图表。\n",
    "`plot` 是一个图表制作的通用指令，也是默认的R语言图表引擎。\n",
    "它能够生成各种功能的统计图表。\n",
    "\n",
    "许多年来，各国的开发者推出了各种复杂的统计图表程序包。当中最成功的还是 Hadley Wickham 的 \n",
    "`ggplot2`。\n",
    "\n",
    "`ggplot2` 一个进阶的画图软件，它能够生成许多高质量的精美图表。它的功能繁多，不可能仅用一章就能介绍完。幸运的是，原作者编写了全面的操作手册\n",
    "[**ggplot2 book**](http://link.springer.com/book/10.1007%2F978-0-387-98141-3)，通过VPN就能够用港中文的校园网下载下来。\n",
    "\n",
    "\n",
    "`ggplot2` 支持特定格式的数据框。 `reshape2` 能够帮助我们调整数据为`ggplot2`支持的格式。\n",
    "\n",
    "ggplot的操作流程是一个一个地在图表中添加元素，然后一起在图表中展示出来。相反， `plot` 先画出主要的图表，之后再补充其他的元素。\n",
    "\n",
    "`ggplot2`在绘制多个图表方面有其独特的优势，无论是相同格式的图表还是不同格式，它都能起到很好的作用。多个子图表可以呈现更丰富的信息，并有利于我们进行比较。\n",
    "\n",
    "\n",
    "```{prf:example}\n",
    "\n",
    "画出两个估计量在三种不同的数据生成过程(DGP)下的密度。这是一个生成相同同样类型图表的例子。\n",
    "```"
   ]
  },
  {
   "cell_type": "code",
   "execution_count": null,
   "id": "a6b256e9",
   "metadata": {},
   "outputs": [],
   "source": [
    "load(\"data_example/big150.Rdata\")\n",
    "library(ggplot2)\n",
    "library(reshape2)\n",
    "\n",
    "big150_1 <- big150[, c(\"typb\", \"b1\", \"b1_c\")]\n",
    "print(head(big150_1))\n",
    "\n",
    "big150_1 <- melt(big150_1, id.vars = \"typb\", measure.vars = c(\"b1\", \"b1_c\"))\n",
    "names(big150_1)[2] <- c(\"estimator\")\n",
    "print(head(big150_1))\n",
    "\n",
    "p1 <- ggplot(big150_1)\n",
    "p1 <- p1 + geom_area(\n",
    "  stat = \"density\", alpha = .25,\n",
    "  aes(x = value, fill = estimator), position = \"identity\"\n",
    ")\n",
    "p1 <- p1 + facet_grid(. ~ typb)\n",
    "p1 <- p1 + geom_vline(xintercept = 0)\n",
    "p1 <- p1 + theme_bw()\n",
    "p1 <- p1 + theme(\n",
    "  strip.text = element_text(size = 12),\n",
    "  axis.text = element_text(size = 12)\n",
    ")\n",
    "print(p1)"
   ]
  },
  {
   "cell_type": "markdown",
   "id": "5cc03e2f",
   "metadata": {},
   "source": [
    "函数 `ggplot` 选择用哪一个数据集进行绘制；`geom_***`决定图表的形状，例如散点图，折线图、曲线图等。`theme`用于调整细节的元素，比如背景、坐标轴的大小和文字等。\n",
    "\n",
    "\n",
    "```{prf:example}\n",
    "这个例子将两个不同类型的图表排版在同一页中。类似的图表也有出现在{cite}`shi2018structural`中。\n",
    "```"
   ]
  },
  {
   "cell_type": "code",
   "execution_count": null,
   "id": "0029a567",
   "metadata": {},
   "outputs": [],
   "source": [
    "# graph packages\n",
    "library(lattice)\n",
    "library(ggplot2)\n",
    "library(reshape2)\n",
    "library(gridExtra)\n",
    "\n",
    "load(\"data_example/multigraph.Rdata\") # load data\n",
    "\n",
    "\n",
    "# unify the theme in the two graphs\n",
    "theme1 <- theme_bw() + theme(\n",
    "  axis.title.x = element_blank(),\n",
    "  strip.text = element_text(size = 12),\n",
    "  axis.text = element_text(size = 12),\n",
    "  legend.position = \"bottom\", legend.title = element_blank()\n",
    ")\n",
    "\n",
    "# sub-graph 1\n",
    "d1 <- data.frame(month = 1:480, m = m_vec)\n",
    "p1 <- qplot(x = month, y = m, data = d1, geom = \"line\")\n",
    "p1 <- p1 + theme1 + ylab(\"fraction of chartists\")\n",
    "\n",
    "\n",
    "# sug-graph 2\n",
    "d2$month <- 1:480\n",
    "p2 <- ggplot(d2)\n",
    "p2 <- p2 + geom_line(aes(x = month, y = value, col = variable))\n",
    "p2 <- p2 + theme1 + ylab(\"price and fundamental\")\n",
    "\n",
    "# generate the grahp\n",
    "grid.arrange(p1, p2, nrow = 2)"
   ]
  },
  {
   "cell_type": "markdown",
   "id": "48af76bd",
   "metadata": {},
   "source": [
    "为了统一两个图表的主题，我们定义一个主题`theme1`，然后将其应用于两个图表`p1`和`p2`。"
   ]
  },
  {
   "cell_type": "markdown",
   "id": "e427db73",
   "metadata": {},
   "source": [
    "## Shiny 交互图表"
   ]
  },
  {
   "cell_type": "markdown",
   "id": "b2a8b148",
   "metadata": {},
   "source": [
    "随着时代的发展，人们越来越重视图表的“交互性”。“交互性”允许用户自行输入自身的需求，从而改变数据输出的形式。Shiny就是一个基于网络(web-based)的构建交互式图表的R包。它的使用可以参考网站[tutorial](https://shiny.rstudio.com/tutorial/)\n",
    "\n",
    "Shiny的主要组成结构有两个：1.负责显示交互界面的UI 2.负责处理输入信息的服务器(Server)。\n",
    "\n",
    "### 用户界面\n",
    "\n",
    "用户界面(User Interface)使用代码来定义Shiny在浏览器中的呈现形式，比如使用滑动条选择柱状图的矩形个数、提供一个输入窗口以输入观测值的个数、各种按钮和标签等等。\n",
    "\n",
    "### 服务器\n",
    "服务器用于处理通过UI输入数据。一般来说，服务器是远程运行的程序，它接收来自用户的输入（用户通过交互提出的请求），依照请求提供输出（例如文本、图表）并显示在浏览器中。服务器的处理是**反应式**的，这意味着每一次有新的输入，服务器就会对应重新进行一次新的运算，并将运算结果自动显示。\n",
    "\n",
    "```{prf:example}\n",
    "Shiny包内置有11个例子来展示Shiny的功能，我们可以通过`runExample()`来测试这些例子。在文件夹`data_example`中我也放入了一个shiny app的例子，名为`shiny`。\n",
    "```"
   ]
  },
  {
   "cell_type": "code",
   "execution_count": 1,
   "id": "b2f03ec8",
   "metadata": {},
   "outputs": [
    {
     "ename": "ERROR",
     "evalue": "Error in install.package(\"shiny\"): could not find function \"install.package\"\n",
     "output_type": "error",
     "traceback": [
      "Error in install.package(\"shiny\"): could not find function \"install.package\"\nTraceback:\n"
     ]
    }
   ],
   "source": [
    "install.package(\"shiny\")"
   ]
  },
  {
   "cell_type": "code",
   "execution_count": 5,
   "id": "1990b8e7",
   "metadata": {},
   "outputs": [
    {
     "name": "stderr",
     "output_type": "stream",
     "text": [
      "Warning message:\n",
      "\"package 'shiny' was built under R version 4.1.3\"\n"
     ]
    },
    {
     "ename": "ERROR",
     "evalue": "Error: package or namespace load failed for 'shiny' in loadNamespace(i, c(lib.loc, .libPaths()), versionCheck = vI[[i]]):\n namespace 'htmltools' 0.5.2 is already loaded, but >= 0.5.4 is required\n",
     "output_type": "error",
     "traceback": [
      "Error: package or namespace load failed for 'shiny' in loadNamespace(i, c(lib.loc, .libPaths()), versionCheck = vI[[i]]):\n namespace 'htmltools' 0.5.2 is already loaded, but >= 0.5.4 is required\nTraceback:\n",
      "1. library(shiny)",
      "2. tryCatch({\n .     attr(package, \"LibPath\") <- which.lib.loc\n .     ns <- loadNamespace(package, lib.loc)\n .     env <- attachNamespace(ns, pos = pos, deps, exclude, include.only)\n . }, error = function(e) {\n .     P <- if (!is.null(cc <- conditionCall(e))) \n .         paste(\" in\", deparse(cc)[1L])\n .     else \"\"\n .     msg <- gettextf(\"package or namespace load failed for %s%s:\\n %s\", \n .         sQuote(package), P, conditionMessage(e))\n .     if (logical.return && !quietly) \n .         message(paste(\"Error:\", msg), domain = NA)\n .     else stop(msg, call. = FALSE, domain = NA)\n . })",
      "3. tryCatchList(expr, classes, parentenv, handlers)",
      "4. tryCatchOne(expr, names, parentenv, handlers[[1L]])",
      "5. value[[3L]](cond)",
      "6. stop(msg, call. = FALSE, domain = NA)"
     ]
    }
   ],
   "source": [
    "library(shiny)\n",
    "runExample(\"01_hello\")"
   ]
  },
  {
   "cell_type": "code",
   "execution_count": 4,
   "id": "a3336abd",
   "metadata": {},
   "outputs": [
    {
     "ename": "ERROR",
     "evalue": "Error in runExample(\"02_text\"): could not find function \"runExample\"\n",
     "output_type": "error",
     "traceback": [
      "Error in runExample(\"02_text\"): could not find function \"runExample\"\nTraceback:\n"
     ]
    }
   ],
   "source": [
    "runExample(\"02_text\")"
   ]
  },
  {
   "cell_type": "code",
   "execution_count": null,
   "id": "a14db15a",
   "metadata": {},
   "outputs": [],
   "source": [
    "runExample(\"03_reactivity\")"
   ]
  },
  {
   "cell_type": "markdown",
   "id": "58091dbf",
   "metadata": {},
   "source": [
    "### 可交互图表\n",
    "\n",
    "在文件夹 `data_example`中，我们提供了一个\n",
    "`flexdashboard`的简单例子。使用`plotly::ggplotly()`就能很容易将一个GGplot2转化为HTML的可交互图表。\n",
    "\n",
    "\n",
    "\n",
    "### 后续写作计划\n",
    "\n",
    "* Shiny app [tutorial](https://shiny.rstudio.com/tutorial/). I have included a shiny app in `data_example/shiny`."
   ]
  }
 ],
 "metadata": {
  "kernelspec": {
   "display_name": "R",
   "language": "R",
   "name": "ir"
  },
  "language_info": {
   "codemirror_mode": "r",
   "file_extension": ".r",
   "mimetype": "text/x-r-source",
   "name": "R",
   "pygments_lexer": "r",
   "version": "4.1.2"
  }
 },
 "nbformat": 4,
 "nbformat_minor": 5
}
