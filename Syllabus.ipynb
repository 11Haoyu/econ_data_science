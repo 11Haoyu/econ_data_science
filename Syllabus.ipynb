{
 "cells": [
  {
   "cell_type": "markdown",
   "metadata": {},
   "source": [
    "# Data Science for Economists\n",
    "\n"
   ]
  },
  {
   "cell_type": "markdown",
   "metadata": {},
   "source": [
    "## Introduction\n",
    "\n",
    "The is a data science course with focus on economic problems. The data operations and analytics will be demonstrated in the `R` language. \n",
    "After completing this course, students are expected to be fluent in the programming language and be able to independently conduct data\n",
    "analysis. \n",
    "\n",
    "This course is design for students with economics training while are new to heavy duty data tasks.\n",
    "Programming experience is helpful, but not prerequisite."
   ]
  },
  {
   "cell_type": "markdown",
   "metadata": {},
   "source": [
    "## Textbooks\n",
    "\n",
    "* Wickham, Hadley and Grolemund, Garrett (2016). R for Data Science: Import, Tidy, Transform, Visualize, and Model Data. O’Reilly Media, Inc. (Open access at https://r4ds.had.co.nz/)\n",
    "\n",
    "* James, G., Witten, D., Hastie, T., & Tibshirani, R. (2017). An introduction to statistical learning (Vol. 112, p. 18). New York: springer. (Open access at https://www.statlearning.com/)\n",
    "\n",
    "\n",
    "**Reading**\n",
    "\n",
    "* R Core Team (2022), [R-Introduction](https://cran.r-project.org/doc/manuals/r-release/R-intro.pdf)\n",
    "\n",
    "* Efron, Bradley and Hastie, Trevor (2016): Computer Age Statistical Inference: Algorithms, Evidence, and Data Science, Cambridge University Press (Open access at https://web.stanford.edu/~hastie/CASI/index.html)"
   ]
  },
  {
   "cell_type": "markdown",
   "metadata": {},
   "source": [
    "## Contents\n",
    "\n",
    "(Tentative schemes subject to changes)\n",
    "\n",
    "1. Overview. Data structure. Linux. Git.\n",
    "  * Tools: Jupyter notebook. Markdown.\n",
    "  * SCRP as an environment\n",
    "2. R programming: basics. R Introduction.\n",
    "3. R programming: data wrangling.\n",
    "4. R programming: Time series data. time stamps.\n",
    "5. R programming: Visualization.\n",
    "5. R programming: scientific programming.\n",
    "4. R programming. Speed up computation. \n",
    "5. Reproduciable.  Markdown. Remote computing.\n",
    "\n",
    "\n",
    "6. Panel data (dynamic)\n",
    "7. nonparametrics\n",
    "8. machine learning I\n",
    "9. machine learning II\n",
    "10. Causality. treatment effects.\n",
    "11. Text. Xiu Dacheng has open data online.\n",
    "12. Economic theory vs. empirics. (philosophy). Harvard versus Asian.\n",
    "\n",
    "Backup\n",
    "- data source. web scrapping? Lianjia\n",
    "- Data presentation. Sunny board for interactive graphs\n",
    "\n",
    "- time series. nonstationary\n",
    "- high frequent financial data"
   ]
  },
  {
   "cell_type": "markdown",
   "metadata": {},
   "source": []
  }
 ],
 "metadata": {
  "kernelspec": {
   "display_name": "R [conda env:r]",
   "language": "R",
   "name": "conda-env-r-r"
  },
  "language_info": {
   "codemirror_mode": "r",
   "file_extension": ".r",
   "mimetype": "text/x-r-source",
   "name": "R",
   "pygments_lexer": "r",
   "version": "4.1.2"
  }
 },
 "nbformat": 4,
 "nbformat_minor": 4
}
