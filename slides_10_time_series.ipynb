{
 "cells": [
  {
   "cell_type": "markdown",
   "metadata": {
    "slideshow": {
     "slide_type": "slide"
    }
   },
   "source": [
    "# Time Series Analysis\n",
    "\n",
    "Zhentao Shi\n"
   ]
  },
  {
   "cell_type": "markdown",
   "metadata": {
    "slideshow": {
     "slide_type": "slide"
    }
   },
   "source": [
    "* Practical topics\n",
    "* Useful in business contexts\n",
    "* Modeling choices and challenges"
   ]
  },
  {
   "cell_type": "markdown",
   "metadata": {
    "slideshow": {
     "slide_type": "subslide"
    }
   },
   "source": [
    "* Time Series Regression\n",
    "* Univariate Time Series Models\n",
    "* Nonstationary Time Series\n",
    "* Multivariate Time Series"
   ]
  },
  {
   "cell_type": "markdown",
   "metadata": {},
   "source": [
    "* Traditionally, small models\n",
    "* High dimensional time series modeling is work in progress\n",
    "* Predictive regression"
   ]
  },
  {
   "cell_type": "markdown",
   "metadata": {
    "slideshow": {
     "slide_type": "slide"
    }
   },
   "source": [
    "### Common Operations\n",
    "\n",
    "* Lag Operator\n",
    "\n",
    "$$L x_t = x_{t-1}$$\n",
    "$$L^{\\tau} x_t = x_{t-\\tau}$$ \n",
    "\n",
    "* Difference operator\n",
    "$$\\Delta x_t = x_t - x_{t-1} = (1-L) x_t$$"
   ]
  },
  {
   "cell_type": "markdown",
   "metadata": {
    "slideshow": {
     "slide_type": "slide"
    }
   },
   "source": [
    "# Lagged Effect\n",
    "\n",
    "* Interpretation as a generative model\n",
    "\n",
    "$$y_t = \\alpha + \\sum_{i=0}^{\\infty} \\beta_i  x_{t-i} + e_t$$\n",
    "\n",
    "* Impact multiplier: $\\beta_0$\n",
    "* Cumulated effect (of $\\tau$ periods): $\\sum_{i=0}^{\\tau} \\beta_i $\n",
    "* Equilibrium multiplier: $\\sum_{i=0}^{\\infty} \\beta_i $\n",
    "\n"
   ]
  },
  {
   "cell_type": "markdown",
   "metadata": {
    "slideshow": {
     "slide_type": "slide"
    }
   },
   "source": [
    "# Stationary Time Series\n",
    "\n",
    "For a univariate time series $(y_t)_{t= - \\infty} ^ {\\infty}$,\n",
    "* **Strictly stationary**: joint distribution of any finite coordinate only depends on their relative position.\n",
    "* **Weakly stationary**: the first two moments of any pair $y_t$ and $y_s$ only depends on their relative position.\n",
    "    * $E[y_t] = \\mu$ for all $t$\n",
    "    * $\\mathrm{var}[y_t] = \\sigma^2$ for all $t$\n",
    "    * $\\mathrm{cov}[y_t, y_{t+\\tau} ] $ only depends on $\\tau$ independent of $t$\n"
   ]
  },
  {
   "cell_type": "markdown",
   "metadata": {
    "slideshow": {
     "slide_type": "fragment"
    }
   },
   "source": [
    "\n",
    "This notion can be extended to multiple-variate time series, for example $(y_t, x_t, e_t)$."
   ]
  },
  {
   "cell_type": "markdown",
   "metadata": {
    "slideshow": {
     "slide_type": "slide"
    }
   },
   "source": [
    "### Distributed Lags\n",
    "\n",
    "* Lagged $x$ on the right-hand side\n",
    "\n",
    "$$\n",
    "y_t = \\alpha + \\sum_{i=0}^{\\infty} \\beta_i  x_{t-i} + e_t = \\alpha + B(L) x_t + e_t \n",
    "$$\n",
    "\n",
    "where $$B(L) = \\sum_{i=0}^{\\infty} \\beta_i L^i$$ is a polynomial of the lag operators."
   ]
  },
  {
   "cell_type": "markdown",
   "metadata": {
    "slideshow": {
     "slide_type": "slide"
    }
   },
   "source": [
    "## Autoregressive model\n",
    "\n",
    "* Lagged $y$ on the right-hand side\n",
    "\n",
    "$$\n",
    "y_t = \\alpha + \\sum_{i=1}^p \\gamma_p y_{t-p} + e_t \n",
    "$$ \n",
    "\n",
    "can be written as \n",
    "\n",
    "$$\n",
    "C(L) y_t = \\alpha + e_t\n",
    "$$ \n",
    "\n",
    "where \n",
    "\n",
    "$$\n",
    "C(L) = 1 -\\gamma_1 L - \\cdots - \\gamma_p L^p\n",
    "$$ \n",
    "\n",
    "is a polynomial of the lag operators."
   ]
  },
  {
   "cell_type": "markdown",
   "metadata": {
    "slideshow": {
     "slide_type": "slide"
    }
   },
   "source": [
    "# Invertibility\n",
    "\n",
    "If the roots of the polynomial equation $C(z) = 0$ **all** lies **outside** of the unit circle, we say the autoregressive model is invertible.\n",
    "\n",
    "\n",
    "\n",
    "If $e_t$ is stationary with finite variance and $\\alpha=0$ (homogenous difference equation):\n",
    "* If the module of the smallest root is bigger than 1, $y_t$ is a stationary time series\n",
    "* If the module of the smallest root is equal to 1, $y_t$ is a **unit root** process\n",
    "* If the module of the smallest root is smaller than 1, $y_t$ is an **explosive** process"
   ]
  },
  {
   "cell_type": "markdown",
   "metadata": {
    "slideshow": {
     "slide_type": "slide"
    }
   },
   "source": [
    "\n",
    "### Numerical Example\n",
    "\n",
    "* $C(L) = 1 - 0.5L$ is invertible.\n",
    "* $C(L) = 1 - L$ is non-invertible.\n",
    "* $C(L) = 1 - 1.1L$ is non-invertible."
   ]
  },
  {
   "cell_type": "code",
   "execution_count": 11,
   "metadata": {
    "slideshow": {
     "slide_type": "fragment"
    },
    "vscode": {
     "languageId": "r"
    }
   },
   "outputs": [],
   "source": [
    "AR = function(b,T){\n",
    "    y = rep(0,T)\n",
    "    for (t in 1:T){\n",
    "        if (t > 1) {\n",
    "            y[t] = b * y[t - 1] + rnorm(1)\n",
    "        }\n",
    "    }\n",
    "    return(ts(y) )\n",
    "}"
   ]
  },
  {
   "cell_type": "code",
   "execution_count": 12,
   "metadata": {
    "slideshow": {
     "slide_type": "subslide"
    },
    "vscode": {
     "languageId": "r"
    }
   },
   "outputs": [
    {
     "data": {
      "image/png": "[encoded data removed]",
      "text/plain": [
       "plot without title"
      ]
     },
     "metadata": {
      "image/png": {
       "height": 420,
       "width": 420
      }
     },
     "output_type": "display_data"
    }
   ],
   "source": [
    "T = 100; plot( x = 1:T, y = AR(0.5, T), type = \"l\")"
   ]
  },
  {
   "cell_type": "code",
   "execution_count": 13,
   "metadata": {
    "scrolled": false,
    "slideshow": {
     "slide_type": "subslide"
    },
    "vscode": {
     "languageId": "r"
    }
   },
   "outputs": [
    {
     "data": {
      "image/png": "[encoded data removed]",
      "text/plain": [
       "plot without title"
      ]
     },
     "metadata": {
      "image/png": {
       "height": 420,
       "width": 420
      }
     },
     "output_type": "display_data"
    }
   ],
   "source": [
    "T = 100; plot( x = 1:T, y = AR(1.0, T), type = \"l\")"
   ]
  },
  {
   "cell_type": "code",
   "execution_count": 14,
   "metadata": {
    "scrolled": false,
    "slideshow": {
     "slide_type": "subslide"
    },
    "vscode": {
     "languageId": "r"
    }
   },
   "outputs": [
    {
     "data": {
      "image/png": "[encoded data removed]",
      "text/plain": [
       "plot without title"
      ]
     },
     "metadata": {
      "image/png": {
       "height": 420,
       "width": 420
      }
     },
     "output_type": "display_data"
    }
   ],
   "source": [
    "T = 100; plot( x = 1:T, y = AR(1.05,T), type = \"l\")"
   ]
  },
  {
   "cell_type": "markdown",
   "metadata": {
    "slideshow": {
     "slide_type": "slide"
    }
   },
   "source": [
    "### Autoregressive Distributed Lag Models\n",
    "\n",
    "\n",
    "* ARDL(p,r) model:\n",
    "\n",
    "$$\n",
    "C(L) y_t = \\mu + B(L) x_t + e_t \n",
    "$$ \n",
    "\n",
    "where \n",
    "\n",
    "$$\n",
    "C(L) = 1 -\\gamma_1 L - \\cdots - \\gamma_p L^p\n",
    "$$\n",
    "\n",
    "and \n",
    "\n",
    "$$\n",
    "B(L) =  \\beta_0 + \\beta_1 L + \\cdots + \\beta_r L^r.\n",
    "$$\n",
    "\n",
    "* **Granger causality**: \n",
    "\n",
    "$$\n",
    "\\beta_0 = \\beta_1 = \\cdots = \\beta_r = 0\n",
    "$$"
   ]
  },
  {
   "cell_type": "markdown",
   "metadata": {
    "slideshow": {
     "slide_type": "slide"
    }
   },
   "source": [
    "### Example\n",
    "\n",
    "* In simple regression form\n",
    "\n",
    "$$\n",
    "y_t = \\beta_1 + \\beta_2 x_t + \\beta_3 x_{t-1} + \\gamma y_{t-1} + e_t\n",
    "$$\n",
    "\n",
    "* Temporal lags of effect. eg: policy lag\n",
    "* Expectation formed from the past. eg: forecast\n",
    "* Explicitly depends on history. eg: wealth accumulation\n"
   ]
  },
  {
   "cell_type": "code",
   "execution_count": 6,
   "metadata": {
    "scrolled": false,
    "slideshow": {
     "slide_type": "subslide"
    },
    "vscode": {
     "languageId": "r"
    }
   },
   "outputs": [
    {
     "data": {
      "text/html": [
       "'POILBREUSDQ'"
      ],
      "text/latex": [
       "'POILBREUSDQ'"
      ],
      "text/markdown": [
       "'POILBREUSDQ'"
      ],
      "text/plain": [
       "[1] \"POILBREUSDQ\""
      ]
     },
     "metadata": {},
     "output_type": "display_data"
    },
    {
     "data": {
      "text/html": [
       "'IPB50001SQ'"
      ],
      "text/latex": [
       "'IPB50001SQ'"
      ],
      "text/markdown": [
       "'IPB50001SQ'"
      ],
      "text/plain": [
       "[1] \"IPB50001SQ\""
      ]
     },
     "metadata": {},
     "output_type": "display_data"
    },
    {
     "name": "stdout",
     "output_type": "stream",
     "text": [
      "           POILBREUSDQ IPB50001SQ        x       y\n",
      "1990-01-01    19.71918    62.2551 19.71918 62.2551\n",
      "1990-04-01    16.38344    62.6975 16.38344 62.6975\n",
      "1990-07-01    26.35708    62.9501 26.35708 62.9501\n",
      "1990-10-01    32.36676    61.9831 32.36676 61.9831\n",
      "1991-01-01    20.94640    60.8136 20.94640 60.8136\n",
      "1991-04-01    18.90951    61.1649 18.90951 61.1649\n"
     ]
    }
   ],
   "source": [
    "library(tidyverse)\n",
    "\n",
    "quantmod::getSymbols.FRED(Symbols = \"POILBREUSDQ\", env = .GlobalEnv) # Brent Oil price\n",
    "quantmod::getSymbols.FRED(Symbols = \"IPB50001SQ\", env = .GlobalEnv) # industrial Index (quarterly data)\n",
    "\n",
    "d0<- merge(POILBREUSDQ, IPB50001SQ, retclass = \"data.frame\") %>% \n",
    "  filter(!is.na(POILBREUSDQ)) %>%\n",
    "  mutate( x = ts(POILBREUSDQ), y = ts(IPB50001SQ))\n",
    "\n",
    "rm(POILBREUSDQ, IPB50001SQ)\n",
    "print(head(d0))\n"
   ]
  },
  {
   "cell_type": "code",
   "execution_count": 8,
   "metadata": {
    "scrolled": true,
    "slideshow": {
     "slide_type": "subslide"
    }
   },
   "outputs": [
    {
     "data": {
      "image/png": "[encoded data removed]",
      "text/plain": [
       "Plot with title \"\""
      ]
     },
     "metadata": {
      "image/png": {
       "height": 420,
       "width": 420
      }
     },
     "output_type": "display_data"
    }
   ],
   "source": [
    "matplot(y = d0, \n",
    "        x = as.Date(row.names(d0), \"%Y-%m-%d\"), \n",
    "        main = \"\", type = \"l\", xlab = \"year\")"
   ]
  },
  {
   "cell_type": "markdown",
   "metadata": {
    "slideshow": {
     "slide_type": "subslide"
    }
   },
   "source": [
    "### ARDL(1,1) regression example\n",
    "\n",
    "* `dynlm` only works with ojects `ts()`. The transformation is essential"
   ]
  },
  {
   "cell_type": "code",
   "execution_count": 9,
   "metadata": {
    "slideshow": {
     "slide_type": "fragment"
    }
   },
   "outputs": [
    {
     "data": {
      "text/plain": [
       "\n",
       "Time series regression with \"ts\" data:\n",
       "Start = 2, End = 132\n",
       "\n",
       "Call:\n",
       "dynlm::dynlm(formula = y ~ L(y, c(1)) + L(x, c(0:1)), data = d0)\n",
       "\n",
       "Residuals:\n",
       "     Min       1Q   Median       3Q      Max \n",
       "-11.3122  -0.4186   0.1981   0.7579   7.1331 \n",
       "\n",
       "Coefficients:\n",
       "              Estimate Std. Error t value Pr(>|t|)    \n",
       "(Intercept)    2.39560    1.11216   2.154   0.0331 *  \n",
       "L(y, c(1))     0.97443    0.01436  67.862  < 2e-16 ***\n",
       "L(x, c(0:1))0  0.07291    0.01536   4.747 5.47e-06 ***\n",
       "L(x, c(0:1))1 -0.06964    0.01548  -4.500 1.52e-05 ***\n",
       "---\n",
       "Signif. codes:  0 '***' 0.001 '**' 0.01 '*' 0.05 '.' 0.1 ' ' 1\n",
       "\n",
       "Residual standard error: 1.578 on 127 degrees of freedom\n",
       "Multiple R-squared:  0.9855,\tAdjusted R-squared:  0.9851 \n",
       "F-statistic:  2874 on 3 and 127 DF,  p-value: < 2.2e-16\n"
      ]
     },
     "metadata": {},
     "output_type": "display_data"
    }
   ],
   "source": [
    "dynlm::dynlm( y ~ L(y, c(1) ) + L(x,c(0:1) ), data = d0 )  %>%\n",
    "      summary( )"
   ]
  },
  {
   "cell_type": "markdown",
   "metadata": {
    "slideshow": {
     "slide_type": "subslide"
    }
   },
   "source": [
    "* Differenced dependent variable (`d( )`)"
   ]
  },
  {
   "cell_type": "code",
   "execution_count": 15,
   "metadata": {
    "scrolled": true,
    "slideshow": {
     "slide_type": "slide"
    }
   },
   "outputs": [
    {
     "data": {
      "text/plain": [
       "\n",
       "Time series regression with \"ts\" data:\n",
       "Start = 2, End = 132\n",
       "\n",
       "Call:\n",
       "dynlm::dynlm(formula = d(y) ~ L(y, c(1)) + L(x, c(0:1)), data = d0)\n",
       "\n",
       "Residuals:\n",
       "     Min       1Q   Median       3Q      Max \n",
       "-11.3122  -0.4186   0.1981   0.7579   7.1331 \n",
       "\n",
       "Coefficients:\n",
       "              Estimate Std. Error t value Pr(>|t|)    \n",
       "(Intercept)    2.39560    1.11216   2.154   0.0331 *  \n",
       "L(y, c(1))    -0.02557    0.01436  -1.781   0.0773 .  \n",
       "L(x, c(0:1))0  0.07291    0.01536   4.747 5.47e-06 ***\n",
       "L(x, c(0:1))1 -0.06964    0.01548  -4.500 1.52e-05 ***\n",
       "---\n",
       "Signif. codes:  0 '***' 0.001 '**' 0.01 '*' 0.05 '.' 0.1 ' ' 1\n",
       "\n",
       "Residual standard error: 1.578 on 127 degrees of freedom\n",
       "Multiple R-squared:  0.1726,\tAdjusted R-squared:  0.1531 \n",
       "F-statistic: 8.833 on 3 and 127 DF,  p-value: 2.313e-05\n"
      ]
     },
     "metadata": {},
     "output_type": "display_data"
    }
   ],
   "source": [
    "dynlm::dynlm( d(y) ~ L(y, c(1) ) + L(x,c(0:1) ), data = d0 )  %>%\n",
    "      summary( )"
   ]
  },
  {
   "cell_type": "markdown",
   "metadata": {
    "slideshow": {
     "slide_type": "slide"
    }
   },
   "source": [
    "\n",
    "# Spurious Regression\n",
    "\n",
    "\n",
    "* The two time series $\\{y_t\\}$ and $\\{x_t\\}$ are generated independently, so that $E[y_t|x_t] = 0$. \n",
    "* However, we observe a high $R^2$ and large t-value if we regression $y_t$ against $x_t$.\n"
   ]
  },
  {
   "cell_type": "code",
   "execution_count": 17,
   "metadata": {
    "scrolled": false,
    "slideshow": {
     "slide_type": "subslide"
    },
    "vscode": {
     "languageId": "r"
    }
   },
   "outputs": [
    {
     "data": {
      "image/png": "[encoded data removed]",
      "text/plain": [
       "plot without title"
      ]
     },
     "metadata": {
      "image/png": {
       "height": 420,
       "width": 420
      }
     },
     "output_type": "display_data"
    }
   ],
   "source": [
    "T = 50\n",
    "a = 1\n",
    "\n",
    "y <- AR(a, T)\n",
    "x <- AR(a, T)\n",
    "matplot( cbind(y, x), type = \"l\", ylab = \"\" )"
   ]
  },
  {
   "cell_type": "code",
   "execution_count": 18,
   "metadata": {
    "scrolled": true,
    "slideshow": {
     "slide_type": "subslide"
    },
    "vscode": {
     "languageId": "r"
    }
   },
   "outputs": [
    {
     "data": {
      "text/plain": [
       "\n",
       "Call:\n",
       "lm(formula = y ~ x)\n",
       "\n",
       "Residuals:\n",
       "    Min      1Q  Median      3Q     Max \n",
       "-2.7963 -1.5099 -0.6195  0.5792  5.6041 \n",
       "\n",
       "Coefficients:\n",
       "            Estimate Std. Error t value Pr(>|t|)    \n",
       "(Intercept)  -4.1002     0.3150 -13.016  < 2e-16 ***\n",
       "x             0.3952     0.1216   3.251  0.00211 ** \n",
       "---\n",
       "Signif. codes:  0 '***' 0.001 '**' 0.01 '*' 0.05 '.' 0.1 ' ' 1\n",
       "\n",
       "Residual standard error: 2.056 on 48 degrees of freedom\n",
       "Multiple R-squared:  0.1805,\tAdjusted R-squared:  0.1634 \n",
       "F-statistic: 10.57 on 1 and 48 DF,  p-value: 0.002106\n"
      ]
     },
     "metadata": {},
     "output_type": "display_data"
    }
   ],
   "source": [
    "reg <- lm(y ~ x)\n",
    "summary(reg)"
   ]
  },
  {
   "cell_type": "markdown",
   "metadata": {
    "slideshow": {
     "slide_type": "slide"
    }
   },
   "source": [
    "### Discovery\n",
    "\n",
    "* Granger and Newbold (1974): If we naively use 1.96 as the critical value for the $t$-ratio, how often we would reject the null hypothesis that $\\beta = 0$?  \n",
    "\n",
    "* The nominal asymptotic test size is $5\\%$ according to the standard asymptotic theory\n",
    "* The empirical size is about 0.80 in this simulation\n",
    "* The drastic deviation suggests that the standard asymptotic theory fails in the nonstationary environment.\n"
   ]
  },
  {
   "cell_type": "code",
   "execution_count": 19,
   "metadata": {
    "slideshow": {
     "slide_type": "subslide"
    },
    "vscode": {
     "languageId": "r"
    }
   },
   "outputs": [
    {
     "name": "stderr",
     "output_type": "stream",
     "text": [
      "------------------------------------------------------------------------------\n",
      "\n",
      "You have loaded plyr after dplyr - this is likely to cause problems.\n",
      "If you need functions from both plyr and dplyr, please load plyr first, then dplyr:\n",
      "library(plyr); library(dplyr)\n",
      "\n",
      "------------------------------------------------------------------------------\n",
      "\n",
      "\n",
      "Attaching package: 'plyr'\n",
      "\n",
      "\n",
      "The following objects are masked from 'package:dplyr':\n",
      "\n",
      "    arrange, count, desc, failwith, id, mutate, rename, summarise,\n",
      "    summarize\n",
      "\n",
      "\n",
      "The following object is masked from 'package:purrr':\n",
      "\n",
      "    compact\n",
      "\n",
      "\n"
     ]
    },
    {
     "name": "stdout",
     "output_type": "stream",
     "text": [
      "[1] 0.752\n"
     ]
    }
   ],
   "source": [
    "spurious <- function(i, a, T){\n",
    "    y <- AR(a, T)\n",
    "    x <- AR(a, T)\n",
    "    \n",
    "    reg <- lm(y ~ x)\n",
    "    p.val <- summary(reg)[[4]][2,4]\n",
    "    # save the p-value of the estimate of x's coefficient\n",
    "    return(p.val)\n",
    "}\n",
    "\n",
    "library(\"plyr\")\n",
    "out <- ldply(.data = 1:1000, .fun = spurious, a = 1.0 , T = 100)\n",
    "print( mean(out < 0.05) )"
   ]
  },
  {
   "cell_type": "markdown",
   "metadata": {
    "slideshow": {
     "slide_type": "slide"
    }
   },
   "source": [
    "### Autoregression and Moving Average\n",
    "\n",
    "* Box-Jenkins (1976): ARMA\n",
    "* No economic theory. For fitting and prediction only."
   ]
  },
  {
   "cell_type": "markdown",
   "metadata": {
    "slideshow": {
     "slide_type": "slide"
    }
   },
   "source": [
    "# A Simple Models\n",
    "\n",
    "* White noise: $(e_t)_{t=-\\infty}^{\\infty}$:\n",
    "    * $E[e_t] = 0$, $E[e_t^2] = \\sigma_e^2$, and $E[e_t, e_s] = 0$ for all $t\\neq s$. "
   ]
  },
  {
   "cell_type": "markdown",
   "metadata": {
    "slideshow": {
     "slide_type": "slide"
    }
   },
   "source": [
    "# ARMA\n",
    "\n",
    "\n",
    "* AR(p) $$ y_t = \\mu + \\gamma_1 y_{t-1} + \\cdots \\gamma_p y_{t-p} + e_t $$\n",
    "* MA(q) $$ y_t = \\mu + e_t - \\theta_1 e_{t-1} - \\theta_q e_{t-q} + e_t $$\n",
    "* ARMA(p,q) $$(1-\\Gamma(L) ) y_t = \\mu + \\Theta (L) e_t$$\n",
    "\n",
    "Stationarity: in AR form whether all roots lies out of the unit cycle."
   ]
  },
  {
   "cell_type": "markdown",
   "metadata": {
    "slideshow": {
     "slide_type": "subslide"
    }
   },
   "source": [
    "# Autocorrelation Pattern\n",
    "\n",
    "\n",
    "* MA(q): finite dependence\n",
    "* AR(1): geometric decline\n",
    "    * $E[ y_t ] = \\mu / (1-\\gamma_1)$\n",
    "    * $\\mathrm{var}[y_t] = \\sigma_e^2 / (1-\\gamma_1^2 )$\n",
    "    * $E[ y_t | y_{t-1} ] = \\mu + \\gamma_1 y_{t-1}$\n",
    "    * $\\mathrm{var}[y_t | y_{t-1} ] = \\sigma_e^2 $\n",
    "    \n"
   ]
  },
  {
   "cell_type": "markdown",
   "metadata": {
    "slideshow": {
     "slide_type": "slide"
    }
   },
   "source": [
    "# Modeling\n",
    "\n",
    "* ARIMA(p, r, q) $$(1-\\Gamma(L) ) \\Delta^r y_t = \\mu + \\Theta (L) e_t$$\n",
    "* Transform into stationary time series by taking logarithm and/or difference.\n",
    "* Fit ARMA(p,q)"
   ]
  },
  {
   "cell_type": "markdown",
   "metadata": {
    "slideshow": {
     "slide_type": "slide"
    }
   },
   "source": [
    "# Seasonality\n",
    "\n",
    "* Generated due to sampling frequency\n",
    "* Add dummies to control seasonality"
   ]
  },
  {
   "cell_type": "markdown",
   "metadata": {
    "slideshow": {
     "slide_type": "slide"
    }
   },
   "source": [
    "# Estimation\n",
    "\n",
    "* MLE for MA(q)\n",
    "* MLE for ARMA(p,q)\n",
    "* OLS for AR(p)"
   ]
  },
  {
   "cell_type": "markdown",
   "metadata": {
    "slideshow": {
     "slide_type": "slide"
    }
   },
   "source": [
    "# Model Choice\n",
    "\n",
    "Information criteria. \n",
    "\n",
    "Let $k$ be the total number of slope coefficient in the model.\n",
    "\n",
    "* Akaike information criterion: $\\log( \\hat{\\sigma}^2 ) + 2\\times (k / T )$. \n",
    "    * Tend to overfit, but better for prediction\n",
    "* Bayesian information criterion: $\\log( \\hat{\\sigma}^2 ) + \\log(T) \\times (k / T )$\n",
    "    * Model selection consistent\n",
    "    \n",
    "Information criteria are not restricted to time series regressions. They are general statistical measures for model/variable selection."
   ]
  },
  {
   "cell_type": "markdown",
   "metadata": {
    "slideshow": {
     "slide_type": "slide"
    }
   },
   "source": [
    "# Unit Root\n",
    "\n",
    "* AR(1) with AR coefficient equals 1. $$y_t = \\mu + y_{t-1} + e_t $$\n",
    "* Nonstationary\n",
    "* Brownian motion: normal innovation\n",
    "* Random walk"
   ]
  },
  {
   "cell_type": "markdown",
   "metadata": {
    "slideshow": {
     "slide_type": "slide"
    }
   },
   "source": [
    "## Implication\n",
    "* conditional and unconditional mean\n",
    "* conditional and unconditional variance\n",
    "* $h$-period ahead forecast"
   ]
  },
  {
   "cell_type": "markdown",
   "metadata": {
    "slideshow": {
     "slide_type": "slide"
    }
   },
   "source": [
    "The OLS estimator \n",
    "\n",
    "$$ \n",
    "T( \\hat{\\gamma}_1 - 1 ) \\stackrel{d}{\\to} \\mbox{ a stable distribution}.\n",
    "$$\n",
    "\n",
    "but the asymptotic distribution is not normal. "
   ]
  },
  {
   "cell_type": "code",
   "execution_count": null,
   "metadata": {
    "slideshow": {
     "slide_type": "slide"
    },
    "vscode": {
     "languageId": "r"
    }
   },
   "outputs": [],
   "source": [
    "library(quantmod, quietly = TRUE)\n",
    "getSymbols(\"^GSPC\") # S&P 500\n",
    "\n",
    "y = GSPC$GSPC.Close\n",
    "plot(y, type = \"l\")\n",
    "\n",
    "tail(y)"
   ]
  },
  {
   "cell_type": "markdown",
   "metadata": {
    "slideshow": {
     "slide_type": "slide"
    }
   },
   "source": [
    "* Null hypothesis: unit root.\n",
    "$$ \\Delta y_t = \\mu + (\\gamma_1 - 1 ) y_{t-1} + e_t = \\mu+ \\theta y_{t-1} + e_t$$\n",
    "where $ \\theta = \\gamma_1 - 1 $. Under the null, $\\theta = 0$.\n",
    "\n",
    "* The $t$-statistic is the test statistic for the Dicky-Fuller test.\n",
    "* Under the null, the $t$-statistic asymptotically follows a pivotal distribution.\n"
   ]
  },
  {
   "cell_type": "markdown",
   "metadata": {
    "slideshow": {
     "slide_type": "slide"
    }
   },
   "source": [
    "* In this numerical example, the test does not reject the null.\n",
    "\n",
    "Notice: the test is one-sided."
   ]
  },
  {
   "cell_type": "code",
   "execution_count": 14,
   "metadata": {
    "slideshow": {
     "slide_type": "slide"
    },
    "vscode": {
     "languageId": "r"
    }
   },
   "outputs": [
    {
     "name": "stderr",
     "output_type": "stream",
     "text": [
      "Warning message:\n",
      "\"package 'urca' was built under R version 4.2.3\"\n"
     ]
    },
    {
     "name": "stdout",
     "output_type": "stream",
     "text": [
      "\n",
      "############################################### \n",
      "# Augmented Dickey-Fuller Test Unit Root Test # \n",
      "############################################### \n",
      "\n",
      "Test regression drift \n",
      "\n",
      "\n",
      "Call:\n",
      "lm(formula = z.diff ~ z.lag.1 + 1)\n",
      "\n",
      "Residuals:\n",
      "     Min       1Q   Median       3Q      Max \n",
      "-2.60801 -0.54973  0.07856  0.69078  2.46568 \n",
      "\n",
      "Coefficients:\n",
      "            Estimate Std. Error t value Pr(>|t|)  \n",
      "(Intercept)  0.92862    0.36138   2.570   0.0134 *\n",
      "z.lag.1     -0.09966    0.04633  -2.151   0.0366 *\n",
      "---\n",
      "Signif. codes:  0 '***' 0.001 '**' 0.01 '*' 0.05 '.' 0.1 ' ' 1\n",
      "\n",
      "Residual standard error: 1.008 on 47 degrees of freedom\n",
      "Multiple R-squared:  0.08964,\tAdjusted R-squared:  0.07027 \n",
      "F-statistic: 4.628 on 1 and 47 DF,  p-value: 0.03663\n",
      "\n",
      "\n",
      "Value of test-statistic is: -2.1513 3.435 \n",
      "\n",
      "Critical values for test statistics: \n",
      "      1pct  5pct 10pct\n",
      "tau2 -3.58 -2.93 -2.60\n",
      "phi1  7.06  4.86  3.94\n",
      "\n"
     ]
    }
   ],
   "source": [
    "library(urca) # package for unit root and cointegration\n",
    "print( summary(ur.df(y, type = \"drift\", lags = 0) ) ) # y here is the S&P 500 index\n",
    "# the test does not reject the null of \"unit root\"\n",
    "# loosely speaking, it is evidence in support of random walk"
   ]
  },
  {
   "cell_type": "code",
   "execution_count": 15,
   "metadata": {
    "slideshow": {
     "slide_type": "slide"
    },
    "vscode": {
     "languageId": "r"
    }
   },
   "outputs": [
    {
     "data": {
      "image/png": "[encoded data removed]",
      "text/plain": [
       "plot without title"
      ]
     },
     "metadata": {
      "image/png": {
       "height": 420,
       "width": 420
      }
     },
     "output_type": "display_data"
    }
   ],
   "source": [
    "y = arima.sim( model = list(ar =.8), n = 100)\n",
    "plot(y)\n"
   ]
  },
  {
   "cell_type": "code",
   "execution_count": 16,
   "metadata": {
    "slideshow": {
     "slide_type": "slide"
    },
    "vscode": {
     "languageId": "r"
    }
   },
   "outputs": [
    {
     "data": {
      "text/plain": [
       "\n",
       "############################################### \n",
       "# Augmented Dickey-Fuller Test Unit Root Test # \n",
       "############################################### \n",
       "\n",
       "Test regression none \n",
       "\n",
       "\n",
       "Call:\n",
       "lm(formula = z.diff ~ z.lag.1 - 1 + z.diff.lag)\n",
       "\n",
       "Residuals:\n",
       "     Min       1Q   Median       3Q      Max \n",
       "-3.10385 -0.67933 -0.05143  0.89266  1.83314 \n",
       "\n",
       "Coefficients:\n",
       "           Estimate Std. Error t value Pr(>|t|)  \n",
       "z.lag.1    -0.15151    0.05921  -2.559   0.0121 *\n",
       "z.diff.lag -0.01732    0.10184  -0.170   0.8653  \n",
       "---\n",
       "Signif. codes:  0 '***' 0.001 '**' 0.01 '*' 0.05 '.' 0.1 ' ' 1\n",
       "\n",
       "Residual standard error: 1.061 on 96 degrees of freedom\n",
       "Multiple R-squared:  0.07172,\tAdjusted R-squared:  0.05238 \n",
       "F-statistic: 3.709 on 2 and 96 DF,  p-value: 0.02809\n",
       "\n",
       "\n",
       "Value of test-statistic is: -2.5587 \n",
       "\n",
       "Critical values for test statistics: \n",
       "     1pct  5pct 10pct\n",
       "tau1 -2.6 -1.95 -1.61\n"
      ]
     },
     "metadata": {},
     "output_type": "display_data"
    }
   ],
   "source": [
    "library(urca); summary( ur.df( y, type = \"none\", selectlags = \"AIC\" ) ) # , "
   ]
  },
  {
   "cell_type": "code",
   "execution_count": 17,
   "metadata": {
    "slideshow": {
     "slide_type": "slide"
    },
    "vscode": {
     "languageId": "r"
    }
   },
   "outputs": [
    {
     "data": {
      "image/png": "[encoded data removed]",
      "text/plain": [
       "Plot with title \"density.default(x = B)\""
      ]
     },
     "metadata": {
      "image/png": {
       "height": 420,
       "width": 420
      }
     },
     "output_type": "display_data"
    }
   ],
   "source": [
    "library(dynlm)\n",
    "\n",
    "DF.sim = function(ar){\n",
    "  Rep = 500\n",
    "  n = 100\n",
    "  \n",
    "  B.hat = rep(0, Rep)\n",
    "  \n",
    "  for (r in 1:Rep){\n",
    "    if (ar < 1) {\n",
    "      y = arima.sim( model = list(ar = ar), n = n)\n",
    "    } else if (ar == 1){\n",
    "      y = ts( cumsum( rnorm(n) ) )\n",
    "    }\n",
    "    reg.dyn = dynlm( y ~ L(y,1) )\n",
    "    B.hat[r] = coef(reg.dyn)[2]\n",
    "  }\n",
    "  return(B.hat)\n",
    "  print(\"simulation is done with ar = \", ar, \"\\n\")\n",
    "}\n",
    "\n",
    "\n",
    "B = DF.sim(1)\n",
    "plot(density(B), col = \"red\", xlim = c(0, 1.1))\n",
    "\n",
    "B = DF.sim(0.5)\n",
    "lines(density(B), col = \"blue\")\n",
    "\n",
    "B = DF.sim(0.9)\n",
    "lines( density(B), col = \"purple\" )\n"
   ]
  },
  {
   "cell_type": "markdown",
   "metadata": {
    "slideshow": {
     "slide_type": "slide"
    }
   },
   "source": [
    "## Specification of DF test\n",
    "\n",
    "* The error term must be a white noise for the DF distribution\n",
    "* DF test's critical values vary with the specfication of drift and/or trend\n",
    "* Augmented Dicky-Fuller test: add more differenced lag terms"
   ]
  },
  {
   "cell_type": "markdown",
   "metadata": {
    "slideshow": {
     "slide_type": "slide"
    }
   },
   "source": [
    "## Other tests\n",
    "* Phillips-Perron test\n",
    "* KPSS test"
   ]
  },
  {
   "cell_type": "markdown",
   "metadata": {
    "slideshow": {
     "slide_type": "slide"
    }
   },
   "source": [
    "# Time Series Filtering\n",
    "\n",
    "**Hodrick-Prescott filter**: Decompose a time series into *trend* and *cycle*\n",
    "\n",
    "$$\\hat{f}_{t}=\\arg \\min_{f_{t}}\\left\\{ \\sum_{t=1}^{n}\\left( y_{t}-f_{t}\\right)^{2}+\\lambda \\sum_{t=3}^{n}\\left( \\Delta ^{2}f_{t}\\right) ^{2}\\right\\}.$$\n",
    "    \n",
    "Hodrick Prescott (1980, 1997) suggest $\\lambda = 1600$ for quarterly data.\n",
    "$\\lambda = 1600$ is also the base of adjustment for different time series data frequency."
   ]
  },
  {
   "cell_type": "code",
   "execution_count": null,
   "metadata": {
    "slideshow": {
     "slide_type": "slide"
    },
    "vscode": {
     "languageId": "r"
    }
   },
   "outputs": [],
   "source": [
    "library(mFilter)\n",
    "data(unemp)\n",
    "\n",
    "unemp.hp <- hpfilter(unemp)\n",
    "plot(unemp.hp)"
   ]
  },
  {
   "cell_type": "markdown",
   "metadata": {
    "slideshow": {
     "slide_type": "slide"
    }
   },
   "source": [
    "# Boosted HP Filter\n",
    "\n",
    "* Phillips and Shi (2019): \"[Boosting: Why You Can Use the Hodrick-Prescott Filter](http://arxiv.org/abs/1905.00175),\" arXiv: 1905.00175\n",
    "* Chen and Shi (2019): R package **[BoostedHP](https://github.com/chenyang45/BoostedHP)**"
   ]
  },
  {
   "cell_type": "markdown",
   "metadata": {
    "slideshow": {
     "slide_type": "slide"
    }
   },
   "source": [
    "# Cointegration\n",
    "\n",
    "In a regression\n",
    "$$y_t = \\beta x_t  + e_t$$\n",
    "\n",
    "* If $y_t$ and $x_t$ are I(1) series\n",
    "* But a linear combination $e_t = y_t - \\beta x_t $ is I(0)\n",
    "\n",
    "then we say $y_t$ and $x_t$ are cointegrated."
   ]
  },
  {
   "cell_type": "code",
   "execution_count": null,
   "metadata": {
    "slideshow": {
     "slide_type": "slide"
    },
    "vscode": {
     "languageId": "r"
    }
   },
   "outputs": [],
   "source": [
    "data(denmark)"
   ]
  },
  {
   "cell_type": "markdown",
   "metadata": {
    "slideshow": {
     "slide_type": "slide"
    }
   },
   "source": [
    "period: Time index from 1974:Q1 until 1987:Q3.\n",
    "* `LRM`\tLogarithm of real money, M2.\n",
    "* `LRY`\tLogarithm of real income.\n",
    "* `LPY`\tLogarithm of price deflator.\n",
    "* `IBO`\tBond rate.\n",
    "* `IDE`\tBank deposit rate."
   ]
  },
  {
   "cell_type": "code",
   "execution_count": null,
   "metadata": {
    "slideshow": {
     "slide_type": "slide"
    },
    "vscode": {
     "languageId": "r"
    }
   },
   "outputs": [],
   "source": [
    "sjd <- denmark[, c(\"LRM\", \"LRY\", \"IBO\", \"IDE\")]\n",
    "matplot(sjd[,c(3,4)], type = \"l\") # Bond rate vs Bank deposit rate"
   ]
  },
  {
   "cell_type": "code",
   "execution_count": null,
   "metadata": {
    "vscode": {
     "languageId": "r"
    }
   },
   "outputs": [],
   "source": [
    "y = sjd[,3]; x = sjd[,4]\n",
    "reg = lm(y~x)\n",
    "plot(residuals(reg), type = \"l\")\n",
    "abline( h = 0, lty = 2)"
   ]
  },
  {
   "cell_type": "markdown",
   "metadata": {
    "slideshow": {
     "slide_type": "slide"
    }
   },
   "source": [
    "# Source of Cointegration\n",
    "\n",
    "Common shock is the source of cointegration\n",
    "\n",
    "For example, if $y_{1t} = \\mu_1 + \\beta_1 t + e_{1t}$ and $y_{2t} = \\mu_2 + \\beta_2 t + e_{2t}$, where $e_{1t}$ and $e_{2t}$ are two white noises, then the cointegration vector must be $(1,\\theta)$ where $$\\theta = - \\beta_1 / \\beta_2.$$ The first coefficient 1 in this cointegration vector is for normalization.\n",
    "\n",
    "In this example, the common trend is a determistic one. In other examples, they can also share a stochastic trend."
   ]
  },
  {
   "cell_type": "markdown",
   "metadata": {
    "slideshow": {
     "slide_type": "slide"
    }
   },
   "source": [
    "# Cointegration \n",
    "\n",
    "More generally, for an $m$-vector $y_t$ is cointegrated if there exists a parameter vector $\\gamma$ (normalize the first element to be 1) such that $y_t ' \\gamma$ is I(0).\n",
    "\n"
   ]
  },
  {
   "cell_type": "markdown",
   "metadata": {
    "slideshow": {
     "slide_type": "slide"
    }
   },
   "source": [
    "* The number of linear independent cointegrated vectors is called the **cointegration rank**. \n",
    "* The cointegration rank arranges from 1 to $m-1$."
   ]
  },
  {
   "cell_type": "markdown",
   "metadata": {
    "slideshow": {
     "slide_type": "slide"
    }
   },
   "source": [
    "# Error Correction Model\n",
    "\n",
    "Cliver Granger (Nobel prize 2001)\n",
    "\n",
    "Consider an ARDL(1,1) model\n",
    "$$ y_t  = \\mu + \\beta_0 x_t + \\beta_1 x_{t-1} + \\gamma_1 y_{t-1} + e_t. $$\n",
    "If $\\beta_0 = \\beta_1 = 0$, no *Granger causality* between $X$ and $Y$.\n",
    "When $X$ and $Y$ are both nonstationary, standard OLS inference is invalid.\n",
    "\n",
    "Subtract $y_{t-1}$ from both sides of \n",
    "$$\n",
    "\\begin{align*}\n",
    "\\Delta y_t & = \\mu + \\beta_0 x_t + \\beta_1 x_{t-1} + (\\gamma_1 -1 ) y_{t-1} + e_t  \\\\\n",
    "           & = \\mu + \\beta_0 \\Delta x_t + (\\beta_1 + \\beta_0) x_{t-1} + (\\gamma_1 -1 ) y_{t-1} + e_t  \\\\\n",
    "           & = \\mu + \\beta_0 \\Delta x_t + (\\gamma_1 -1 )( y_{t-1} - \\theta x_{t-1} ) + e_t  \n",
    "\\end{align*}\n",
    "$$\n",
    "where $\\theta =  (\\beta_1 + \\beta_0)/(1 - \\gamma_1)$.\n",
    "\n",
    "* A short-run relationship $\\Delta y_t \\sim \\mu + \\beta_0 \\Delta x_t + e_t$.\n",
    "* An long-run equilibrium error $(\\gamma_1 - 1 ) (y_{t-1} - \\theta x_{t-1} ) $.\n",
    "\n"
   ]
  },
  {
   "cell_type": "markdown",
   "metadata": {
    "slideshow": {
     "slide_type": "slide"
    }
   },
   "source": [
    "When $y_t$ is nonstationary\n",
    "\n",
    "\n",
    "* First difference recovers stationarity\n",
    "* Useful to identify spurious regression\n",
    "* Can be estimated either by OLS or by NLS"
   ]
  },
  {
   "cell_type": "markdown",
   "metadata": {
    "slideshow": {
     "slide_type": "slide"
    }
   },
   "source": [
    "# Predictive Regression\n",
    "\n",
    "In the regression \n",
    "\n",
    "$$\n",
    "y_t = \\mu_y + \\beta_1 x_{t-1} + e_{yt}\n",
    "$$\n",
    "\n",
    "* $y_t$ is stationary \n",
    "* The predictor $x_t$ is highly persistent:\n",
    "\n",
    "$$\n",
    "x_t = \\mu_x + \\gamma x_{t-1} + e_{xt}\n",
    "$$ \n",
    "\n",
    "with $\\gamma$ is close to 1.\n",
    "\n",
    "* Even if $E[e_{yt} | x_{t-1} ] = 0$, OLS estimator of $\\beta_1$ is biased in finite sample when $e_{yt}$ and $e_{xt}$ are correlated (Stambaugh, 1999)."
   ]
  },
  {
   "cell_type": "markdown",
   "metadata": {
    "slideshow": {
     "slide_type": "slide"
    }
   },
   "source": [
    "* Lee, Shi and Gao (2018): \"[On LASSO for Predictive Regression](https://arxiv.org/abs/1810.03140),\" arXiv: 1810.03140\n",
    "* Find new behavior of popular machine learning methods in predictive regression."
   ]
  },
  {
   "cell_type": "markdown",
   "metadata": {
    "slideshow": {
     "slide_type": "slide"
    }
   },
   "source": [
    "# Vector Autoregression (VAR)\n",
    "\n",
    "Christopher Sims (Nobel Prize 2011)\n",
    "\n",
    "An $m$-equation system\n",
    "$$ y_t = \\mu + \\Gamma_1 y_{t-1} + \\cdots + \\Gamma_p y_{t-p} + v_t $$\n",
    "where $E[ v_t v_t'] = \\Omega$.\n",
    "\n",
    "For prediction purpose, as a reduced-form of structural simultaneous equations."
   ]
  },
  {
   "cell_type": "markdown",
   "metadata": {
    "slideshow": {
     "slide_type": "slide"
    }
   },
   "source": [
    "### Estimation\n",
    "\n",
    "* For consistency and asymptotic normality, use OLS equation by equation\n",
    "* For asymptotic efficient, use multiple-equation GLS\n",
    "\n"
   ]
  },
  {
   "cell_type": "markdown",
   "metadata": {
    "slideshow": {
     "slide_type": "slide"
    }
   },
   "source": [
    "# Invertibility\n",
    "\n",
    "Write the VAR(p) as\n",
    "$$ (I_m - \\Gamma (L) ) y_t = \\mu + v_t $$ \n",
    "where $\\Gamma(z) = \\Gamma_1 z + \\cdots + \\Gamma_p z^p$. \n",
    "\n",
    "Stable means that all roots of the $p$th order polynomial equation $$ I_m - \\Gamma(z)  = 0_m $$ lies out of the unit circle."
   ]
  },
  {
   "cell_type": "markdown",
   "metadata": {
    "slideshow": {
     "slide_type": "slide"
    }
   },
   "source": [
    "# Impulse Response Function\n",
    "\n",
    "IRF characterizes the diffusion of an exogenous shock with the dynamic system.\n",
    "\n",
    "$$\n",
    "\\begin{align*}\n",
    "y_t & = (I_m - \\Gamma(L) )^{-1} (\\mu + v_t) \\\\\n",
    "    & = \\bar{y} + \\left( v_t + \\sum_{i=1}^{\\infty} A_i v_{t-i} \\right)\n",
    "\\end{align*}\n",
    "$$ where $\\bar{y} = (I_m - \\Gamma(L) )^{-1} \\mu = ( I_m + \\sum_{i=1}^{\\infty} A_i ) \\mu $."
   ]
  },
  {
   "cell_type": "code",
   "execution_count": 19,
   "metadata": {
    "slideshow": {
     "slide_type": "slide"
    },
    "vscode": {
     "languageId": "r"
    }
   },
   "outputs": [
    {
     "name": "stderr",
     "output_type": "stream",
     "text": [
      "Warning message:\n",
      "\"package 'tsDyn' was built under R version 4.2.3\"\n"
     ]
    },
    {
     "data": {
      "image/png": "[encoded data removed]",
      "text/plain": [
       "plot without title"
      ]
     },
     "metadata": {
      "image/png": {
       "height": 420,
       "width": 420
      }
     },
     "output_type": "display_data"
    }
   ],
   "source": [
    "library(tsDyn)\n",
    "data(barry)\n",
    "plot(barry)"
   ]
  },
  {
   "cell_type": "code",
   "execution_count": 20,
   "metadata": {
    "slideshow": {
     "slide_type": "slide"
    },
    "vscode": {
     "languageId": "r"
    }
   },
   "outputs": [
    {
     "name": "stdout",
     "output_type": "stream",
     "text": [
      "                 Intercept dolcan -1    cpiUSA -1     cpiCAN -1  dolcan -2\n",
      "Equation dolcan 0.01990322 1.1399804 -0.004066429 -0.0002021078 -0.1609825\n",
      "Equation cpiUSA 0.24882495 0.5057742  1.473457565 -0.0339894803 -0.5695014\n",
      "Equation cpiCAN 0.18849724 0.3767774  0.311281524  0.9816315731 -0.2280215\n",
      "                   cpiUSA -2     cpiCAN -2\n",
      "Equation dolcan  0.004722663 -0.0003366803\n",
      "Equation cpiUSA -0.474160066  0.0342943942\n",
      "Equation cpiCAN -0.316325397  0.0206687371\n"
     ]
    }
   ],
   "source": [
    "## For VAR\n",
    "mod_var <- lineVar(barry, lag = 2)\n",
    "print(mod_var)"
   ]
  },
  {
   "cell_type": "code",
   "execution_count": 21,
   "metadata": {
    "slideshow": {
     "slide_type": "slide"
    },
    "vscode": {
     "languageId": "r"
    }
   },
   "outputs": [
    {
     "name": "stdout",
     "output_type": "stream",
     "text": [
      "\n",
      "Impulse response coefficients\n",
      "$dolcan\n",
      "          dolcan        cpiUSA        cpiCAN\n",
      " [1,] 0.01276998 -0.0048795134 -0.0125329345\n",
      " [2,] 0.01457990 -0.0003050413 -0.0090101859\n",
      " [3,] 0.01454930  0.0018422630 -0.0050736143\n",
      " [4,] 0.01423393  0.0017779679 -0.0023393791\n",
      " [5,] 0.01388787  0.0005650593 -0.0003851082\n",
      " [6,] 0.01354745 -0.0011597063  0.0011740840\n",
      " [7,] 0.01321540 -0.0030870320  0.0025424613\n",
      " [8,] 0.01289057 -0.0050761614  0.0038160907\n",
      " [9,] 0.01257198 -0.0070647525  0.0050384137\n",
      "[10,] 0.01225911 -0.0090256962  0.0062288433\n",
      "[11,] 0.01195166 -0.0109475037  0.0073960680\n",
      "\n",
      "$cpiUSA\n",
      "             dolcan    cpiUSA    cpiCAN\n",
      " [1,]  0.0000000000 0.1580981 0.0669699\n",
      " [2,] -0.0006564298 0.2306746 0.1149528\n",
      " [3,] -0.0009854751 0.2629829 0.1357724\n",
      " [4,] -0.0010638945 0.2773202 0.1443263\n",
      " [5,] -0.0010147795 0.2836974 0.1474419\n",
      " [6,] -0.0009078966 0.2865527 0.1481632\n",
      " [7,] -0.0007766471 0.2878444 0.1478363\n",
      " [8,] -0.0006361764 0.2884352 0.1470543\n",
      " [9,] -0.0004932054 0.2887049 0.1460781\n",
      "[10,] -0.0003506807 0.2888209 0.1450227\n",
      "[11,] -0.0002098769 0.2888569 0.1439383\n",
      "\n",
      "$cpiCAN\n",
      "             dolcan       cpiUSA    cpiCAN\n",
      " [1,]  0.000000e+00  0.000000000 0.2307505\n",
      " [2,] -4.663648e-05 -0.007843089 0.2265120\n",
      " [3,] -1.447403e-04 -0.011365622 0.2246616\n",
      " [4,] -2.699842e-04 -0.012942570 0.2241158\n",
      " [5,] -4.064567e-04 -0.013648271 0.2241404\n",
      " [6,] -5.462696e-04 -0.013957616 0.2244095\n",
      " [7,] -6.858213e-04 -0.014080104 0.2247795\n",
      " [8,] -8.235284e-04 -0.014108214 0.2251874\n",
      " [9,] -9.587175e-04 -0.014082898 0.2256053\n",
      "[10,] -1.091120e-03 -0.014022438 0.2260212\n",
      "[11,] -1.220643e-03 -0.013935135 0.2264299\n",
      "\n"
     ]
    }
   ],
   "source": [
    "irf_var = irf(mod_var, impulse = \"dolcan\", response = c(\"dolcan\", \"cpiUSA\", \"cpiCAN\"), boot = FALSE)\n",
    "# no matter stationary or not, OLS point estimator is always valid\n",
    "print(irf_var)"
   ]
  },
  {
   "cell_type": "code",
   "execution_count": 22,
   "metadata": {
    "slideshow": {
     "slide_type": "slide"
    },
    "vscode": {
     "languageId": "r"
    }
   },
   "outputs": [
    {
     "data": {
      "image/png": "[encoded data removed]",
      "text/plain": [
       "plot without title"
      ]
     },
     "metadata": {
      "image/png": {
       "height": 420,
       "width": 420
      }
     },
     "output_type": "display_data"
    },
    {
     "data": {
      "image/png": "[encoded data removed]",
      "text/plain": [
       "plot without title"
      ]
     },
     "metadata": {
      "image/png": {
       "height": 420,
       "width": 420
      }
     },
     "output_type": "display_data"
    },
    {
     "data": {
      "image/png": "[encoded data removed]",
      "text/plain": [
       "plot without title"
      ]
     },
     "metadata": {
      "image/png": {
       "height": 420,
       "width": 420
      }
     },
     "output_type": "display_data"
    }
   ],
   "source": [
    "plot(irf_var)"
   ]
  },
  {
   "cell_type": "markdown",
   "metadata": {
    "slideshow": {
     "slide_type": "slide"
    }
   },
   "source": [
    "# Structural VAR\n",
    "\n",
    "* Unrestricted VAR: too many parameters? $m+p\\cdot m^2 + m(m+1)/2$\n",
    "* Use economic theory to reduce the number of unknown parameters"
   ]
  },
  {
   "cell_type": "markdown",
   "metadata": {
    "slideshow": {
     "slide_type": "slide"
    }
   },
   "source": [
    "# VECM Representation\n",
    "\n",
    "Suppose there are $r$ cointegration relationship in $y_t$. For the $m$-equation VAR system \n",
    "\n",
    "$$\n",
    "y_t = \\Gamma y_{t-1} + e_t,\n",
    "$$ \n",
    "\n",
    "we can rewrite it as\n",
    "\n",
    "$$ \n",
    "\\Delta y_t = (\\Gamma - I_m) y_{t-1} + e_t = \\Pi y_{t-1} + e_t.\n",
    "$$\n",
    "\n",
    "* Since LHS is stationary, the $m\\times m$ matrix $\\Pi = \\Gamma - I_m$ on the RHS must only have rank at most $r$. \n",
    "* Otherwise, the RHS will be I(1) and the two sides of the equation are unbalanced."
   ]
  },
  {
   "cell_type": "code",
   "execution_count": 23,
   "metadata": {
    "slideshow": {
     "slide_type": "slide"
    },
    "vscode": {
     "languageId": "r"
    }
   },
   "outputs": [
    {
     "name": "stdout",
     "output_type": "stream",
     "text": [
      "                       ECT1          ECT2  Intercept dolcan -1    cpiUSA -1\n",
      "Equation dolcan -0.02042246  0.0005673094 0.02193776 0.1631849 -0.003512162\n",
      "Equation cpiUSA -0.05190423  0.0013970958 0.20996826 0.6604052  0.472999555\n",
      "Equation cpiCAN  0.12661059 -0.0036778683 0.15127295 0.3462574  0.282921542\n",
      "                    cpiCAN -1   dolcan -2    cpiUSA -2    cpiCAN -2\n",
      "Equation dolcan  0.0004160986 -0.03139173 -0.000241599 -0.006599772\n",
      "Equation cpiUSA -0.0325415257 -0.56714589 -0.025142321  0.076688519\n",
      "Equation cpiCAN -0.0260677455 -0.33043721  0.013968232  0.170121385\n",
      "\n",
      "Impulse response coefficients\n",
      "$dolcan\n",
      "          dolcan        cpiUSA        cpiCAN\n",
      " [1,] 0.01272454 -0.0029721985 -7.489181e-03\n",
      " [2,] 0.01455027  0.0036165733 -2.116924e-03\n",
      " [3,] 0.01418388 -0.0006990462 -3.454855e-03\n",
      " [4,] 0.01375589 -0.0044594440 -2.571368e-03\n",
      " [5,] 0.01343874 -0.0070518593 -2.218720e-03\n",
      " [6,] 0.01312734 -0.0087977325 -1.107527e-03\n",
      " [7,] 0.01281880 -0.0102851047  8.324895e-05\n",
      " [8,] 0.01250937 -0.0116052699  1.453052e-03\n",
      " [9,] 0.01220354 -0.0128427984  2.848898e-03\n",
      "[10,] 0.01190170 -0.0140178032  4.269475e-03\n",
      "[11,] 0.01160484 -0.0151517962  5.680889e-03\n",
      "\n",
      "$cpiUSA\n",
      "             dolcan    cpiUSA     cpiCAN\n",
      " [1,]  0.0000000000 0.1577621 0.06308087\n",
      " [2,] -0.0004678703 0.2304487 0.10557504\n",
      " [3,] -0.0011453949 0.2641834 0.13703955\n",
      " [4,] -0.0015355628 0.2805710 0.15299496\n",
      " [5,] -0.0017257856 0.2897177 0.16210682\n",
      " [6,] -0.0017584613 0.2948857 0.16639644\n",
      " [7,] -0.0017112311 0.2979786 0.16839184\n",
      " [8,] -0.0016169307 0.2998569 0.16895689\n",
      " [9,] -0.0014992690 0.3010660 0.16879198\n",
      "[10,] -0.0013691325 0.3018878 0.16819926\n",
      "[11,] -0.0012334462 0.3024915 0.16738383\n",
      "\n",
      "$cpiCAN\n",
      "             dolcan       cpiUSA    cpiCAN\n",
      " [1,]  0.000000e+00  0.000000000 0.2288252\n",
      " [2,] -1.191345e-05 -0.007818110 0.2231667\n",
      " [3,] -1.607618e-03  0.005835561 0.2603523\n",
      " [4,] -1.946631e-03  0.009467813 0.2617491\n",
      " [5,] -2.290167e-03  0.014018932 0.2697363\n",
      " [6,] -2.429898e-03  0.015593081 0.2711168\n",
      " [7,] -2.569139e-03  0.016600785 0.2730117\n",
      " [8,] -2.665645e-03  0.016782311 0.2734815\n",
      " [9,] -2.754288e-03  0.016705565 0.2738367\n",
      "[10,] -2.830924e-03  0.016406738 0.2738459\n",
      "[11,] -2.903001e-03  0.016018843 0.2737712\n",
      "\n"
     ]
    }
   ],
   "source": [
    "## For VECM\n",
    "mod_VECM <- VECM(barry, lag = 2, estim=\"ML\", r=2)\n",
    "# VECM is better choice for standard inference when nonstationary time series is involved.\n",
    "print(mod_VECM)\n",
    "irf_vecm = irf(mod_VECM, impulse = \"dolcan\", response = c(\"dolcan\", \"cpiUSA\", \"cpiCAN\"), boot = FALSE)\n",
    "print(irf_vecm)"
   ]
  },
  {
   "cell_type": "code",
   "execution_count": 25,
   "metadata": {
    "slideshow": {
     "slide_type": "slide"
    },
    "vscode": {
     "languageId": "r"
    }
   },
   "outputs": [
    {
     "data": {
      "image/png": "[encoded data removed]",
      "text/plain": [
       "plot without title"
      ]
     },
     "metadata": {
      "image/png": {
       "height": 420,
       "width": 420
      }
     },
     "output_type": "display_data"
    },
    {
     "data": {
      "image/png": "[encoded data removed]",
      "text/plain": [
       "plot without title"
      ]
     },
     "metadata": {
      "image/png": {
       "height": 420,
       "width": 420
      }
     },
     "output_type": "display_data"
    },
    {
     "data": {
      "image/png": "[encoded data removed]",
      "text/plain": [
       "plot without title"
      ]
     },
     "metadata": {
      "image/png": {
       "height": 420,
       "width": 420
      }
     },
     "output_type": "display_data"
    }
   ],
   "source": [
    "plot(irf_vecm)"
   ]
  },
  {
   "cell_type": "markdown",
   "metadata": {
    "slideshow": {
     "slide_type": "slide"
    }
   },
   "source": [
    "# Johansen Test\n",
    "\n",
    "\n",
    "* VECM is the base for the cointegration rank test (Johansen, 1992).\n",
    "\n",
    "* Numerical examaple: The result shows that there is only 1 cointegration relationship among the 4 time series."
   ]
  },
  {
   "cell_type": "code",
   "execution_count": 24,
   "metadata": {
    "slideshow": {
     "slide_type": "slide"
    },
    "vscode": {
     "languageId": "r"
    }
   },
   "outputs": [
    {
     "ename": "ERROR",
     "evalue": "Error in as.matrix(x): object 'sjd' not found\n",
     "output_type": "error",
     "traceback": [
      "Error in as.matrix(x): object 'sjd' not found\nTraceback:\n",
      "1. ca.jo(sjd, ecdet = \"const\", type = \"eigen\", K = 2, spec = \"longrun\")",
      "2. as.matrix(x)"
     ]
    }
   ],
   "source": [
    "sjd.vecm = ca.jo(sjd, ecdet = \"const\", type=\"eigen\", K=2, spec=\"longrun\")\n",
    "summary(sjd.vecm)\n",
    "# the result rejects \"r = 0\", but do not reject \"r<=1,2,3\"\n"
   ]
  },
  {
   "cell_type": "markdown",
   "metadata": {
    "slideshow": {
     "slide_type": "slide"
    }
   },
   "source": [
    "#  Future of Time Series Study\n",
    "\n",
    "* Classical methods\n",
    "* Time series model for discrete choice model\n",
    "* Time series dimension of big data\n",
    "    * Unstructured data\n",
    "    * Panel data"
   ]
  }
 ],
 "metadata": {
  "celltoolbar": "Slideshow",
  "kernel_info": {
   "name": "ir"
  },
  "kernelspec": {
   "display_name": "R",
   "language": "R",
   "name": "ir"
  },
  "language_info": {
   "codemirror_mode": "r",
   "file_extension": ".r",
   "mimetype": "text/x-r-source",
   "name": "R",
   "pygments_lexer": "r",
   "version": "4.2.2"
  },
  "nteract": {
   "version": "0.15.0"
  },
  "rise": {
   "enable_chalkboard": true,
   "scroll": true,
   "theme": "serif"
  }
 },
 "nbformat": 4,
 "nbformat_minor": 2
}
