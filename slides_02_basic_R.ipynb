{
 "cells": [
  {
   "cell_type": "markdown",
   "metadata": {
    "slideshow": {
     "slide_type": "slide"
    }
   },
   "source": [
    "# Basic R\n",
    "\n",
    "Zhentao Shi"
   ]
  },
  {
   "cell_type": "markdown",
   "metadata": {
    "slideshow": {
     "slide_type": "slide"
    }
   },
   "source": [
    "## Statistical Languages\n",
    "\n",
    "* To learn, time investment is essential\n",
    "* Python vs R"
   ]
  },
  {
   "cell_type": "markdown",
   "metadata": {
    "slideshow": {
     "slide_type": "fragment"
    }
   },
   "source": [
    "* Official document: [R-Introduction](https://cran.r-project.org/doc/manuals/r-release/R-intro.pdf)"
   ]
  },
  {
   "cell_type": "markdown",
   "metadata": {
    "slideshow": {
     "slide_type": "slide"
    }
   },
   "source": [
    "## Installation\n",
    "\n",
    "R can be conveniently installed in Windows, MacOS, and Linux. \n",
    "\n",
    "* [R project](https://cran.r-project.org/mirrors.html)\n",
    "\n",
    "* [Microsoft R Open](https://mran.microsoft.com/open)"
   ]
  },
  {
   "cell_type": "markdown",
   "metadata": {
    "slideshow": {
     "slide_type": "subslide"
    }
   },
   "source": [
    "**Local interfaces**\n",
    "\n",
    "* `rgui`\n",
    "\n",
    "* [RStudio](https://www.rstudio.com/products/rstudio/download/)\n",
    "\n",
    "* Command line interface"
   ]
  },
  {
   "cell_type": "markdown",
   "metadata": {
    "slideshow": {
     "slide_type": "slide"
    }
   },
   "source": [
    "**Remote interfaces**\n",
    "\n",
    "CUHK Econ's [SCRP](https://scrp-login-2.econ.cuhk.edu.hk/) provides \n",
    "* RStudio\n",
    "* JupyterHub \n"
   ]
  },
  {
   "cell_type": "markdown",
   "metadata": {
    "slideshow": {
     "slide_type": "slide"
    },
    "tags": []
   },
   "source": [
    "## Help System\n",
    "\n",
    "* If exact name of a function known, call `help(function_name)` or `?function_name`\n",
    "* Otherwise, `??key_words`"
   ]
  },
  {
   "cell_type": "code",
   "execution_count": 1,
   "metadata": {
    "slideshow": {
     "slide_type": "subslide"
    },
    "tags": []
   },
   "outputs": [],
   "source": [
    "?seq"
   ]
  },
  {
   "cell_type": "code",
   "execution_count": null,
   "metadata": {
    "slideshow": {
     "slide_type": "fragment"
    },
    "tags": []
   },
   "outputs": [],
   "source": [
    "??sequence"
   ]
  },
  {
   "cell_type": "markdown",
   "metadata": {
    "slideshow": {
     "slide_type": "slide"
    }
   },
   "source": [
    "## Assignment\n",
    "\n",
    " * `<-` or `=`\n",
    "   * Personally I prefer \"=\" to \"<-\"."
   ]
  },
  {
   "cell_type": "code",
   "execution_count": 6,
   "metadata": {
    "slideshow": {
     "slide_type": "fragment"
    }
   },
   "outputs": [
    {
     "name": "stdout",
     "output_type": "stream",
     "text": [
      "[1] 1.048147\n"
     ]
    }
   ],
   "source": [
    "a <- 1\n",
    "b <- 2\n",
    "f = a + b # try to avoid `c`, which is an internal command\n",
    "d = log(f)\n",
    "e = sqrt(d); print(e)"
   ]
  },
  {
   "cell_type": "code",
   "execution_count": 7,
   "metadata": {
    "slideshow": {
     "slide_type": "subslide"
    }
   },
   "outputs": [
    {
     "name": "stdout",
     "output_type": "stream",
     "text": [
      "log(c) = 1.048147 is a simple calculation[1] 1.048147\n",
      "exp(e) = 2.852361 . I want a nice new line. \n",
      "[1] 1.098612\n"
     ]
    }
   ],
   "source": [
    "cat(\"log(c) =\", e, \"is a simple calculation\")\n",
    "print(e)\n",
    "cat(\"exp(e) =\", exp(e), \". I want a nice new line. \\n\")\n",
    "print(d)"
   ]
  },
  {
   "cell_type": "code",
   "execution_count": 2,
   "metadata": {
    "slideshow": {
     "slide_type": "fragment"
    }
   },
   "outputs": [
    {
     "data": {
      "text/html": [
       "<style>\n",
       ".list-inline {list-style: none; margin:0; padding: 0}\n",
       ".list-inline>li {display: inline-block}\n",
       ".list-inline>li:not(:last-child)::after {content: \"\\00b7\"; padding: 0 .5ex}\n",
       "</style>\n",
       "<ol class=list-inline><li>'a'</li><li>'b'</li><li>'d'</li><li>'e'</li><li>'f'</li></ol>\n"
      ],
      "text/latex": [
       "\\begin{enumerate*}\n",
       "\\item 'a'\n",
       "\\item 'b'\n",
       "\\item 'd'\n",
       "\\item 'e'\n",
       "\\item 'f'\n",
       "\\end{enumerate*}\n"
      ],
      "text/markdown": [
       "1. 'a'\n",
       "2. 'b'\n",
       "3. 'd'\n",
       "4. 'e'\n",
       "5. 'f'\n",
       "\n",
       "\n"
      ],
      "text/plain": [
       "[1] \"a\" \"b\" \"d\" \"e\" \"f\""
      ]
     },
     "metadata": {},
     "output_type": "display_data"
    }
   ],
   "source": [
    "ls() # display the objects in memory"
   ]
  },
  {
   "cell_type": "markdown",
   "metadata": {
    "slideshow": {
     "slide_type": "slide"
    }
   },
   "source": [
    "R is case sentitive. `a` and `A` are two different objects."
   ]
  },
  {
   "cell_type": "code",
   "execution_count": 3,
   "metadata": {
    "slideshow": {
     "slide_type": "fragment"
    }
   },
   "outputs": [
    {
     "name": "stdout",
     "output_type": "stream",
     "text": [
      "a is 1 , whereas A is  abc ."
     ]
    }
   ],
   "source": [
    "A = \"abc\"\n",
    "cat(\"a is\", a, \", whereas A is \", A, \".\")"
   ]
  },
  {
   "cell_type": "markdown",
   "metadata": {
    "slideshow": {
     "slide_type": "slide"
    }
   },
   "source": [
    "Clean up the memory. It is recommended as the first line of a clean script."
   ]
  },
  {
   "cell_type": "code",
   "execution_count": 10,
   "metadata": {
    "slideshow": {
     "slide_type": "fragment"
    }
   },
   "outputs": [],
   "source": [
    "rm(list = ls())"
   ]
  },
  {
   "cell_type": "code",
   "execution_count": 11,
   "metadata": {
    "slideshow": {
     "slide_type": "fragment"
    }
   },
   "outputs": [
    {
     "data": {
      "text/html": [],
      "text/latex": [],
      "text/markdown": [],
      "text/plain": [
       "character(0)"
      ]
     },
     "metadata": {},
     "output_type": "display_data"
    }
   ],
   "source": [
    "ls()"
   ]
  },
  {
   "cell_type": "markdown",
   "metadata": {
    "slideshow": {
     "slide_type": "slide"
    }
   },
   "source": [
    "## Vector\n",
    "\n",
    "* A collection of elements of the same type, \n",
    "  * integer\n",
    "  * logical\n",
    "  * real number\n",
    "  * complex number \n",
    "  * characters\n",
    "  * factor"
   ]
  },
  {
   "cell_type": "markdown",
   "metadata": {
    "slideshow": {
     "slide_type": "fragment"
    }
   },
   "source": [
    "  \n",
    "* R does not require explicit type declaration."
   ]
  },
  {
   "cell_type": "markdown",
   "metadata": {
    "slideshow": {
     "slide_type": "slide"
    }
   },
   "source": [
    " * `c()`  combines two or more vectors into a long vector.\n",
    " * Binary arithmetic operations\n",
    "   * element by element \n",
    "   * `+`, `-`, `*` and `/`\n",
    "   * logical operations `&` `|` `!=`"
   ]
  },
  {
   "cell_type": "code",
   "execution_count": 12,
   "metadata": {
    "slideshow": {
     "slide_type": "subslide"
    }
   },
   "outputs": [],
   "source": [
    "a = c(1,2,3, 4)"
   ]
  },
  {
   "cell_type": "code",
   "execution_count": 13,
   "metadata": {
    "slideshow": {
     "slide_type": "fragment"
    }
   },
   "outputs": [],
   "source": [
    "b = rep(c(1,2), 2)"
   ]
  },
  {
   "cell_type": "code",
   "execution_count": 14,
   "metadata": {
    "slideshow": {
     "slide_type": "fragment"
    }
   },
   "outputs": [
    {
     "name": "stdout",
     "output_type": "stream",
     "text": [
      "[1] 2 4 4 6\n",
      "[1] 1 2 3 4\n",
      "[1] 1 2 1 2\n"
     ]
    }
   ],
   "source": [
    "print(a+b)\n",
    "print(a)\n",
    "print(b)"
   ]
  },
  {
   "cell_type": "code",
   "execution_count": 5,
   "metadata": {
    "slideshow": {
     "slide_type": "subslide"
    }
   },
   "outputs": [
    {
     "name": "stdout",
     "output_type": "stream",
     "text": [
      "[1] FALSE  TRUE FALSE\n"
     ]
    }
   ],
   "source": [
    "# logical vectors\n",
    "logi_1 <- c(T, T, F)\n",
    "logi_2 <- c(F, T, T)\n",
    "\n",
    "logi_12 <- logi_1 & logi_2\n",
    "print(logi_12)"
   ]
  },
  {
   "cell_type": "markdown",
   "metadata": {
    "slideshow": {
     "slide_type": "slide"
    }
   },
   "source": [
    "Missing values in R is represented as `NA` (Not Available). "
   ]
  },
  {
   "cell_type": "code",
   "execution_count": null,
   "metadata": {
    "slideshow": {
     "slide_type": "fragment"
    }
   },
   "outputs": [],
   "source": [
    "   a = NA; b = 3; a+b"
   ]
  },
  {
   "cell_type": "markdown",
   "metadata": {
    "slideshow": {
     "slide_type": "subslide"
    }
   },
   "source": [
    "When some operations are not allowed, say, `log(-1)`, R returns  `NaN` (Not a Number)."
   ]
  },
  {
   "cell_type": "code",
   "execution_count": 6,
   "metadata": {
    "slideshow": {
     "slide_type": "fragment"
    }
   },
   "outputs": [
    {
     "name": "stderr",
     "output_type": "stream",
     "text": [
      "Warning message in log(-1):\n",
      "\"NaNs produced\"\n"
     ]
    },
    {
     "data": {
      "text/html": [
       "NaN"
      ],
      "text/latex": [
       "NaN"
      ],
      "text/markdown": [
       "NaN"
      ],
      "text/plain": [
       "[1] NaN"
      ]
     },
     "metadata": {},
     "output_type": "display_data"
    }
   ],
   "source": [
    "log(-1)"
   ]
  },
  {
   "cell_type": "code",
   "execution_count": null,
   "metadata": {
    "slideshow": {
     "slide_type": "fragment"
    }
   },
   "outputs": [],
   "source": [
    "sqrt(-1)"
   ]
  },
  {
   "cell_type": "code",
   "execution_count": null,
   "metadata": {
    "slideshow": {
     "slide_type": "fragment"
    }
   },
   "outputs": [],
   "source": [
    "a = Inf\n",
    "a+a"
   ]
  },
  {
   "cell_type": "code",
   "execution_count": null,
   "metadata": {
    "slideshow": {
     "slide_type": "fragment"
    }
   },
   "outputs": [],
   "source": [
    "b = -Inf\n",
    "a+b"
   ]
  },
  {
   "cell_type": "markdown",
   "metadata": {
    "slideshow": {
     "slide_type": "slide"
    }
   },
   "source": [
    "## Selection\n",
    "\n",
    "* Vector selection is specified in square bracket `a[ ]` \n",
    "  * by either positive integer or logical vector.\n",
    "  * Index initiates from 1, not 0 (Python's rule). "
   ]
  },
  {
   "cell_type": "code",
   "execution_count": null,
   "metadata": {
    "slideshow": {
     "slide_type": "subslide"
    }
   },
   "outputs": [],
   "source": [
    "a = 1:10\n",
    "a[5:7]"
   ]
  },
  {
   "cell_type": "code",
   "execution_count": null,
   "metadata": {
    "slideshow": {
     "slide_type": "fragment"
    }
   },
   "outputs": [],
   "source": [
    "d = seq(-1, 1, by = 0.1); print(d)\n",
    "d[5:7]"
   ]
  },
  {
   "cell_type": "code",
   "execution_count": null,
   "metadata": {
    "slideshow": {
     "slide_type": "fragment"
    }
   },
   "outputs": [],
   "source": [
    "c = c(\"a\",\"b\",\"c\",\"d\",\"e\",\"f\",\"g\",\"h\",\"i\",\"j\")\n",
    "c[5:7]"
   ]
  },
  {
   "cell_type": "code",
   "execution_count": null,
   "metadata": {
    "slideshow": {
     "slide_type": "fragment"
    }
   },
   "outputs": [],
   "source": [
    "b = \"abcdefghij\"\n",
    "b[5:7] # the indexed items do not exists"
   ]
  },
  {
   "cell_type": "markdown",
   "metadata": {
    "slideshow": {
     "slide_type": "slide"
    }
   },
   "source": [
    "## Data types\n",
    "\n",
    "* The way R stores data"
   ]
  },
  {
   "cell_type": "code",
   "execution_count": 5,
   "metadata": {
    "slideshow": {
     "slide_type": "fragment"
    }
   },
   "outputs": [
    {
     "name": "stdout",
     "output_type": "stream",
     "text": [
      "[1] \"18\"\n",
      "[1] 18\n"
     ]
    }
   ],
   "source": [
    "a <- \"18\"; print(a)\n",
    "b <- as.numeric(a); print(b)"
   ]
  },
  {
   "cell_type": "code",
   "execution_count": 2,
   "metadata": {
    "slideshow": {
     "slide_type": "fragment"
    }
   },
   "outputs": [
    {
     "name": "stdout",
     "output_type": "stream",
     "text": [
      "[1] -3.141593  0.000000  3.141593 31.415927\n"
     ]
    },
    {
     "data": {
      "text/html": [
       "<style>\n",
       ".list-inline {list-style: none; margin:0; padding: 0}\n",
       ".list-inline>li {display: inline-block}\n",
       ".list-inline>li:not(:last-child)::after {content: \"\\00b7\"; padding: 0 .5ex}\n",
       "</style>\n",
       "<ol class=list-inline><li>-3</li><li>0</li><li>3</li><li>31</li></ol>\n"
      ],
      "text/latex": [
       "\\begin{enumerate*}\n",
       "\\item -3\n",
       "\\item 0\n",
       "\\item 3\n",
       "\\item 31\n",
       "\\end{enumerate*}\n"
      ],
      "text/markdown": [
       "1. -3\n",
       "2. 0\n",
       "3. 3\n",
       "4. 31\n",
       "\n",
       "\n"
      ],
      "text/plain": [
       "[1] -3  0  3 31"
      ]
     },
     "metadata": {},
     "output_type": "display_data"
    }
   ],
   "source": [
    "x = pi * c(-1:1, 10); print(x)\n",
    "as.integer(x)"
   ]
  },
  {
   "cell_type": "code",
   "execution_count": 6,
   "metadata": {
    "slideshow": {
     "slide_type": "slide"
    }
   },
   "outputs": [
    {
     "data": {
      "text/html": [
       "FALSE"
      ],
      "text/latex": [
       "FALSE"
      ],
      "text/markdown": [
       "FALSE"
      ],
      "text/plain": [
       "[1] FALSE"
      ]
     },
     "metadata": {},
     "output_type": "display_data"
    },
    {
     "name": "stdout",
     "output_type": "stream",
     "text": [
      "[1] 3\n"
     ]
    },
    {
     "data": {
      "text/html": [
       "TRUE"
      ],
      "text/latex": [
       "TRUE"
      ],
      "text/markdown": [
       "TRUE"
      ],
      "text/plain": [
       "[1] TRUE"
      ]
     },
     "metadata": {},
     "output_type": "display_data"
    },
    {
     "data": {
      "text/html": [
       "FALSE"
      ],
      "text/latex": [
       "FALSE"
      ],
      "text/markdown": [
       "FALSE"
      ],
      "text/plain": [
       "[1] FALSE"
      ]
     },
     "metadata": {},
     "output_type": "display_data"
    },
    {
     "name": "stdout",
     "output_type": "stream",
     "text": [
      "[1] 3\n"
     ]
    }
   ],
   "source": [
    "a = 3\n",
    "is.integer(a) # it is numeric\n",
    "\n",
    "a = as.integer(3)\n",
    "print(a)\n",
    "is.integer(a)\n",
    "\n",
    "b = as.double(a)\n",
    "is.integer(b)\n",
    "print(b)"
   ]
  },
  {
   "cell_type": "markdown",
   "metadata": {
    "slideshow": {
     "slide_type": "slide"
    }
   },
   "source": [
    "## Array and Matrix\n",
    "\n",
    "* *array*: number table of multiple dimensions. \n",
    "* *matrix*: 2-dimensional array.\n",
    "\n",
    "* R is column major order\n",
    "* array arithmetic: element-by-element. "
   ]
  },
  {
   "cell_type": "code",
   "execution_count": 7,
   "metadata": {
    "slideshow": {
     "slide_type": "subslide"
    }
   },
   "outputs": [
    {
     "name": "stdout",
     "output_type": "stream",
     "text": [
      ", , 1\n",
      "\n",
      "     [,1] [,2] [,3]\n",
      "[1,]    0    2    1\n",
      "[2,]    0    1    0\n",
      "[3,]    2    3    1\n",
      "[4,]    0    4    2\n",
      "\n",
      ", , 2\n",
      "\n",
      "     [,1] [,2] [,3]\n",
      "[1,]    1    2    3\n",
      "[2,]    1    0    0\n",
      "[3,]    2    3    1\n",
      "[4,]    1    2    2\n",
      "\n"
     ]
    }
   ],
   "source": [
    "A = array(rpois(4*3*2, lambda = 1), dim = c(4,3,2)); print(A) # 3 dimensional array"
   ]
  },
  {
   "cell_type": "code",
   "execution_count": 8,
   "metadata": {
    "slideshow": {
     "slide_type": "subslide"
    }
   },
   "outputs": [
    {
     "name": "stdout",
     "output_type": "stream",
     "text": [
      ", , 1\n",
      "\n",
      "          [,1]      [,2]       [,3]\n",
      "[1,]  1.519325  0.486936  1.1795191\n",
      "[2,] -2.994508 -1.295638 -1.3991541\n",
      "[3,] -1.235188  2.174455  0.3321174\n",
      "[4,] -1.181144  1.068371 -1.2485114\n",
      "\n",
      ", , 2\n",
      "\n",
      "           [,1]      [,2]        [,3]\n",
      "[1,] -2.9899291 -1.427051  0.09607432\n",
      "[2,] -2.1203690  1.023019 -0.79512606\n",
      "[3,] -0.3524867 -1.164643  1.59907674\n",
      "[4,]  1.8086810  2.317843  1.30410865\n",
      "\n"
     ]
    }
   ],
   "source": [
    "B = A = array(rnorm(4*3*2), dim = c(4,3,2))\n",
    "print(A+B)"
   ]
  },
  {
   "cell_type": "markdown",
   "metadata": {
    "slideshow": {
     "slide_type": "subslide"
    }
   },
   "source": [
    "Caution must be exercised in binary operations involving two objects of different length. This is error-prone."
   ]
  },
  {
   "cell_type": "code",
   "execution_count": 9,
   "metadata": {
    "slideshow": {
     "slide_type": "fragment"
    }
   },
   "outputs": [
    {
     "name": "stdout",
     "output_type": "stream",
     "text": [
      "     [,1] [,2]\n",
      "[1,]    1    4\n",
      "[2,]    2    5\n",
      "[3,]    3    6\n"
     ]
    }
   ],
   "source": [
    "A = matrix(1:6, 3); print(A)"
   ]
  },
  {
   "cell_type": "code",
   "execution_count": 9,
   "metadata": {
    "slideshow": {
     "slide_type": "fragment"
    }
   },
   "outputs": [
    {
     "name": "stdout",
     "output_type": "stream",
     "text": [
      "     [,1]\n",
      "[1,]    1\n",
      "[2,]    2\n",
      "[3,]    3\n"
     ]
    }
   ],
   "source": [
    "B = matrix(1:3, 3); print(B)"
   ]
  },
  {
   "cell_type": "code",
   "execution_count": 10,
   "metadata": {
    "slideshow": {
     "slide_type": "slide"
    }
   },
   "outputs": [
    {
     "ename": "ERROR",
     "evalue": "Error in A + B: non-conformable arrays\n",
     "output_type": "error",
     "traceback": [
      "Error in A + B: non-conformable arrays\nTraceback:\n",
      "1. print(A + B)"
     ]
    }
   ],
   "source": [
    "print(A+B) # produce error message"
   ]
  },
  {
   "cell_type": "code",
   "execution_count": 11,
   "metadata": {
    "slideshow": {
     "slide_type": "fragment"
    }
   },
   "outputs": [
    {
     "name": "stdout",
     "output_type": "stream",
     "text": [
      "     [,1] [,2]\n",
      "[1,]    2    5\n",
      "[2,]    4    7\n",
      "[3,]    6    9\n"
     ]
    }
   ],
   "source": [
    "b = 1:3\n",
    "print(A+b)"
   ]
  },
  {
   "cell_type": "code",
   "execution_count": 12,
   "metadata": {
    "slideshow": {
     "slide_type": "fragment"
    }
   },
   "outputs": [
    {
     "name": "stderr",
     "output_type": "stream",
     "text": [
      "Warning message in A + d:\n",
      "\"longer object length is not a multiple of shorter object length\"\n"
     ]
    },
    {
     "name": "stdout",
     "output_type": "stream",
     "text": [
      "     [,1] [,2]\n",
      "[1,]    2    8\n",
      "[2,]    4    6\n",
      "[3,]    6    8\n"
     ]
    }
   ],
   "source": [
    "d = 1:4\n",
    "print(A+d)"
   ]
  },
  {
   "cell_type": "markdown",
   "metadata": {
    "slideshow": {
     "slide_type": "slide"
    }
   },
   "source": [
    "## Matrix Operations\n",
    "\n",
    "* `%*%`: matrix multiplication\n",
    "* `solve` matrix inverse\n",
    "* `eigen` eigenvalues and eigenvectors"
   ]
  },
  {
   "cell_type": "markdown",
   "metadata": {
    "slideshow": {
     "slide_type": "subslide"
    }
   },
   "source": [
    "**Example**: OLS estimation with one $x$ regressor and a constant.\n",
    "Graduate textbook expresses the OLS in matrix form\n",
    "$$\\hat{\\beta} = (X' X)^{-1} X'y.$$\n",
    "To conduct OLS estimation in R, we literally translate the mathematical expression into code.\n",
    "\n"
   ]
  },
  {
   "cell_type": "markdown",
   "metadata": {
    "slideshow": {
     "slide_type": "subslide"
    }
   },
   "source": [
    "Step 1: We need data $Y$ and $X$ to run OLS. We simulate an artificial dataset."
   ]
  },
  {
   "cell_type": "code",
   "execution_count": 10,
   "metadata": {
    "slideshow": {
     "slide_type": "fragment"
    }
   },
   "outputs": [],
   "source": [
    "# simulate data\n",
    "rm(list = ls())\n",
    "set.seed(111) # can be removed to allow the result to change\n",
    "\n",
    "# set the parameters\n",
    "n <- 100\n",
    "b0 <- matrix(1, nrow = 2)\n",
    "\n",
    "# generate the data\n",
    "e <- rnorm(n)\n",
    "X <- cbind(1, rnorm(n))\n",
    "Y <- X %*% b0 + e"
   ]
  },
  {
   "cell_type": "markdown",
   "metadata": {
    "slideshow": {
     "slide_type": "slide"
    }
   },
   "source": [
    "Step 2: translate the formula to code\n"
   ]
  },
  {
   "cell_type": "code",
   "execution_count": 12,
   "metadata": {
    "slideshow": {
     "slide_type": "fragment"
    }
   },
   "outputs": [
    {
     "name": "stdout",
     "output_type": "stream",
     "text": [
      "          [,1]\n",
      "[1,] 0.9861773\n",
      "[2,] 0.9404956\n"
     ]
    }
   ],
   "source": [
    "# OLS estimation\n",
    "bhat <- solve(t(X) %*% X, t(X) %*% Y); print(bhat)"
   ]
  },
  {
   "cell_type": "code",
   "execution_count": 14,
   "metadata": {
    "slideshow": {
     "slide_type": "fragment"
    }
   },
   "outputs": [
    {
     "name": "stdout",
     "output_type": "stream",
     "text": [
      "          [,1]\n",
      "[1,] 0.9861773\n",
      "[2,] 0.9404956\n"
     ]
    }
   ],
   "source": [
    "bhat <- solve( crossprod(X), crossprod(X, Y))\n",
    "print( bhat ) # equivalent computation"
   ]
  },
  {
   "cell_type": "markdown",
   "metadata": {
    "slideshow": {
     "slide_type": "slide"
    }
   },
   "source": [
    "Step 3 (additional): plot the regression graph with the scatter points and the regression line.\n",
    "\n",
    "* Further compare the regression line (black) with the true coefficient line (red).\n"
   ]
  },
  {
   "cell_type": "code",
   "execution_count": 15,
   "metadata": {
    "slideshow": {
     "slide_type": "subslide"
    }
   },
   "outputs": [
    {
     "data": {
      "image/png": "[encoded data removed]",
      "text/plain": [
       "Plot with title \"regression\""
      ]
     },
     "metadata": {
      "image/png": {
       "height": 420,
       "width": 420
      }
     },
     "output_type": "display_data"
    }
   ],
   "source": [
    "# plot\n",
    "plot(y = Y, x = X[, 2], xlab = \"X\", ylab = \"Y\", main = \"regression\")\n",
    "abline(a = bhat[1], b = bhat[2])\n",
    "abline(a = b0[1], b = b0[2], col = \"red\")\n",
    "abline(h = 0, lty = 2)\n",
    "abline(v = 0, lty = 2)\n"
   ]
  },
  {
   "cell_type": "markdown",
   "metadata": {
    "slideshow": {
     "slide_type": "slide"
    }
   },
   "source": [
    "Step 4: Hypothesis testing.\n",
    "\n",
    "The *t*-statistic is widely used.\n",
    "To test the null $H_0: \\beta_2 = 1$, we compute the associated *t*-statistic.\n",
    "Again, this is a translation.\n",
    "$$\n",
    "t  =  \\frac{\\hat{\\beta}_2 - \\beta_{02}}{ \\hat{\\sigma}_{\\hat{\\beta}_2}  }\n",
    "   =  \\frac{\\hat{\\beta}_2 - \\beta_{02}}{ \\sqrt{ \\left[ (X'X)^{-1} \\hat{\\sigma}^2 \\right]_{22} } }.\n",
    "$$\n",
    "where $[\\cdot]_{22}$ is the (2,2)-element of a matrix.\n"
   ]
  },
  {
   "cell_type": "code",
   "execution_count": 16,
   "metadata": {
    "slideshow": {
     "slide_type": "subslide"
    }
   },
   "outputs": [
    {
     "name": "stdout",
     "output_type": "stream",
     "text": [
      "The t-statistic = -0.5615293"
     ]
    }
   ],
   "source": [
    "# calculate the t-value\n",
    "bhat2 <- bhat[2] # the parameter we want to test\n",
    "e_hat <- Y - X %*% bhat\n",
    "sigma_hat_square <- sum(e_hat^2) / (n - 2)\n",
    "Sigma_B <- solve(t(X) %*% X) * sigma_hat_square\n",
    "t_value_2 <- (bhat2 - b0[2]) / sqrt(Sigma_B[2, 2])\n",
    "cat(\"The t-statistic =\", t_value_2)\n"
   ]
  },
  {
   "cell_type": "markdown",
   "metadata": {
    "slideshow": {
     "slide_type": "slide"
    }
   },
   "source": [
    "## Mixed Data Types\n",
    "\n",
    "*  *Vector* only contains one type of elements.\n",
    "* *list* is a basket for objects of various types.\n",
    "  * A container when a procedure returns more than one useful object."
   ]
  },
  {
   "cell_type": "code",
   "execution_count": 20,
   "metadata": {
    "slideshow": {
     "slide_type": "subslide"
    }
   },
   "outputs": [
    {
     "data": {
      "text/html": [
       "<dl>\n",
       "\t<dt>$dept</dt>\n",
       "\t\t<dd>'Econ'</dd>\n",
       "\t<dt>$no</dt>\n",
       "\t\t<dd>5821</dd>\n",
       "</dl>\n"
      ],
      "text/latex": [
       "\\begin{description}\n",
       "\\item[\\$dept] 'Econ'\n",
       "\\item[\\$no] 5821\n",
       "\\end{description}\n"
      ],
      "text/markdown": [
       "$dept\n",
       ":   'Econ'\n",
       "$no\n",
       ":   5821\n",
       "\n",
       "\n"
      ],
      "text/plain": [
       "$dept\n",
       "[1] \"Econ\"\n",
       "\n",
       "$no\n",
       "[1] 5821\n"
      ]
     },
     "metadata": {},
     "output_type": "display_data"
    }
   ],
   "source": [
    "Lst <- list(dept = \"Econ\", no = 5821)\n",
    "Lst"
   ]
  },
  {
   "cell_type": "code",
   "execution_count": 21,
   "metadata": {
    "slideshow": {
     "slide_type": "fragment"
    }
   },
   "outputs": [
    {
     "data": {
      "text/html": [
       "'Econ'"
      ],
      "text/latex": [
       "'Econ'"
      ],
      "text/markdown": [
       "'Econ'"
      ],
      "text/plain": [
       "[1] \"Econ\""
      ]
     },
     "metadata": {},
     "output_type": "display_data"
    }
   ],
   "source": [
    "Lst$dept"
   ]
  },
  {
   "cell_type": "code",
   "execution_count": 22,
   "metadata": {
    "slideshow": {
     "slide_type": "fragment"
    }
   },
   "outputs": [
    {
     "data": {
      "text/html": [
       "5821"
      ],
      "text/latex": [
       "5821"
      ],
      "text/markdown": [
       "5821"
      ],
      "text/plain": [
       "[1] 5821"
      ]
     },
     "metadata": {},
     "output_type": "display_data"
    }
   ],
   "source": [
    "Lst[[2]]"
   ]
  },
  {
   "cell_type": "markdown",
   "metadata": {
    "slideshow": {
     "slide_type": "slide"
    }
   },
   "source": [
    "**Example**: When we invoke `eigen`, we are\n",
    "interested in both eigenvalues and eigenvectors,\n",
    "which are stored into `$value` and `$vector`, respectively."
   ]
  },
  {
   "cell_type": "code",
   "execution_count": 23,
   "metadata": {
    "slideshow": {
     "slide_type": "fragment"
    }
   },
   "outputs": [
    {
     "data": {
      "text/plain": [
       "eigen() decomposition\n",
       "$values\n",
       "[1] 1 1\n",
       "\n",
       "$vectors\n",
       "     [,1] [,2]\n",
       "[1,]    0   -1\n",
       "[2,]    1    0\n"
      ]
     },
     "metadata": {},
     "output_type": "display_data"
    }
   ],
   "source": [
    "A = diag(2)\n",
    "eigen(A)"
   ]
  },
  {
   "cell_type": "markdown",
   "metadata": {
    "slideshow": {
     "slide_type": "slide"
    },
    "tags": []
   },
   "source": [
    "## Package\n",
    "\n",
    "* Base installation is small\n",
    "* Extensive ecosystem of add-on packages.\n",
    "* Most packages are hosted on [CRAN](https://cran.r-project.org/web/packages/).\n",
    " "
   ]
  },
  {
   "cell_type": "markdown",
   "metadata": {
    "slideshow": {
     "slide_type": "fragment"
    },
    "tags": []
   },
   "source": [
    "* Installation: `install.packages(\"package_name\")`. \n",
    "\n",
    "* Invoking: `library(package_name)` or `package_name::function_name`"
   ]
  },
  {
   "cell_type": "code",
   "execution_count": 24,
   "metadata": {
    "slideshow": {
     "slide_type": "slide"
    }
   },
   "outputs": [],
   "source": [
    "# auto install missing packages\n",
    "wanted <- c(\"magrittr\", \"AER\", \"quantmod\", \"reshape2\", \"gridExtra\")\n",
    "missing <- setdiff(wanted, installed.packages())\n",
    "\n",
    "install.packages(missing)"
   ]
  },
  {
   "cell_type": "code",
   "execution_count": 25,
   "metadata": {
    "slideshow": {
     "slide_type": "fragment"
    }
   },
   "outputs": [
    {
     "name": "stderr",
     "output_type": "stream",
     "text": [
      "Warning message:\n",
      "\"package 'magrittr' was built under R version 4.1.3\"\n"
     ]
    }
   ],
   "source": [
    "library(magrittr)"
   ]
  },
  {
   "cell_type": "markdown",
   "metadata": {
    "slideshow": {
     "slide_type": "slide"
    }
   },
   "source": [
    "# Data Frame\n",
    "\n",
    "* *data.frame* is a two-dimensional table that stores the data, \n",
    "  * similar to a spreadsheet in Excel.\n",
    "\n",
    "* *Matrix* it only accommodates one type of elements.\n",
    "\n",
    "* `tibble` is a new and refined alternative data frame type."
   ]
  },
  {
   "cell_type": "markdown",
   "metadata": {
    "slideshow": {
     "slide_type": "subslide"
    }
   },
   "source": [
    "The following is a data set in a graduate-level econometrics textbook. \n",
    "We load the data into memory and display the first 6 records."
   ]
  },
  {
   "cell_type": "code",
   "execution_count": 27,
   "metadata": {
    "slideshow": {
     "slide_type": "fragment"
    }
   },
   "outputs": [
    {
     "data": {
      "text/html": [
       "<table class=\"dataframe\">\n",
       "<caption>A data.frame: 6 × 12</caption>\n",
       "<thead>\n",
       "\t<tr><th></th><th scope=col>card</th><th scope=col>reports</th><th scope=col>age</th><th scope=col>income</th><th scope=col>share</th><th scope=col>expenditure</th><th scope=col>owner</th><th scope=col>selfemp</th><th scope=col>dependents</th><th scope=col>months</th><th scope=col>majorcards</th><th scope=col>active</th></tr>\n",
       "\t<tr><th></th><th scope=col>&lt;fct&gt;</th><th scope=col>&lt;dbl&gt;</th><th scope=col>&lt;dbl&gt;</th><th scope=col>&lt;dbl&gt;</th><th scope=col>&lt;dbl&gt;</th><th scope=col>&lt;dbl&gt;</th><th scope=col>&lt;fct&gt;</th><th scope=col>&lt;fct&gt;</th><th scope=col>&lt;dbl&gt;</th><th scope=col>&lt;dbl&gt;</th><th scope=col>&lt;dbl&gt;</th><th scope=col>&lt;dbl&gt;</th></tr>\n",
       "</thead>\n",
       "<tbody>\n",
       "\t<tr><th scope=row>1</th><td>yes</td><td>0</td><td>37.66667</td><td>4.5200</td><td>0.033269910</td><td>124.983300</td><td>yes</td><td>no</td><td>3</td><td>54</td><td>1</td><td>12</td></tr>\n",
       "\t<tr><th scope=row>2</th><td>yes</td><td>0</td><td>33.25000</td><td>2.4200</td><td>0.005216942</td><td>  9.854167</td><td>no </td><td>no</td><td>3</td><td>34</td><td>1</td><td>13</td></tr>\n",
       "\t<tr><th scope=row>3</th><td>yes</td><td>0</td><td>33.66667</td><td>4.5000</td><td>0.004155556</td><td> 15.000000</td><td>yes</td><td>no</td><td>4</td><td>58</td><td>1</td><td> 5</td></tr>\n",
       "\t<tr><th scope=row>4</th><td>yes</td><td>0</td><td>30.50000</td><td>2.5400</td><td>0.065213780</td><td>137.869200</td><td>no </td><td>no</td><td>0</td><td>25</td><td>1</td><td> 7</td></tr>\n",
       "\t<tr><th scope=row>5</th><td>yes</td><td>0</td><td>32.16667</td><td>9.7867</td><td>0.067050590</td><td>546.503300</td><td>yes</td><td>no</td><td>2</td><td>64</td><td>1</td><td> 5</td></tr>\n",
       "\t<tr><th scope=row>6</th><td>yes</td><td>0</td><td>23.25000</td><td>2.5000</td><td>0.044438400</td><td> 91.996670</td><td>no </td><td>no</td><td>0</td><td>54</td><td>1</td><td> 1</td></tr>\n",
       "</tbody>\n",
       "</table>\n"
      ],
      "text/latex": [
       "A data.frame: 6 × 12\n",
       "\\begin{tabular}{r|llllllllllll}\n",
       "  & card & reports & age & income & share & expenditure & owner & selfemp & dependents & months & majorcards & active\\\\\n",
       "  & <fct> & <dbl> & <dbl> & <dbl> & <dbl> & <dbl> & <fct> & <fct> & <dbl> & <dbl> & <dbl> & <dbl>\\\\\n",
       "\\hline\n",
       "\t1 & yes & 0 & 37.66667 & 4.5200 & 0.033269910 & 124.983300 & yes & no & 3 & 54 & 1 & 12\\\\\n",
       "\t2 & yes & 0 & 33.25000 & 2.4200 & 0.005216942 &   9.854167 & no  & no & 3 & 34 & 1 & 13\\\\\n",
       "\t3 & yes & 0 & 33.66667 & 4.5000 & 0.004155556 &  15.000000 & yes & no & 4 & 58 & 1 &  5\\\\\n",
       "\t4 & yes & 0 & 30.50000 & 2.5400 & 0.065213780 & 137.869200 & no  & no & 0 & 25 & 1 &  7\\\\\n",
       "\t5 & yes & 0 & 32.16667 & 9.7867 & 0.067050590 & 546.503300 & yes & no & 2 & 64 & 1 &  5\\\\\n",
       "\t6 & yes & 0 & 23.25000 & 2.5000 & 0.044438400 &  91.996670 & no  & no & 0 & 54 & 1 &  1\\\\\n",
       "\\end{tabular}\n"
      ],
      "text/markdown": [
       "\n",
       "A data.frame: 6 × 12\n",
       "\n",
       "| <!--/--> | card &lt;fct&gt; | reports &lt;dbl&gt; | age &lt;dbl&gt; | income &lt;dbl&gt; | share &lt;dbl&gt; | expenditure &lt;dbl&gt; | owner &lt;fct&gt; | selfemp &lt;fct&gt; | dependents &lt;dbl&gt; | months &lt;dbl&gt; | majorcards &lt;dbl&gt; | active &lt;dbl&gt; |\n",
       "|---|---|---|---|---|---|---|---|---|---|---|---|---|\n",
       "| 1 | yes | 0 | 37.66667 | 4.5200 | 0.033269910 | 124.983300 | yes | no | 3 | 54 | 1 | 12 |\n",
       "| 2 | yes | 0 | 33.25000 | 2.4200 | 0.005216942 |   9.854167 | no  | no | 3 | 34 | 1 | 13 |\n",
       "| 3 | yes | 0 | 33.66667 | 4.5000 | 0.004155556 |  15.000000 | yes | no | 4 | 58 | 1 |  5 |\n",
       "| 4 | yes | 0 | 30.50000 | 2.5400 | 0.065213780 | 137.869200 | no  | no | 0 | 25 | 1 |  7 |\n",
       "| 5 | yes | 0 | 32.16667 | 9.7867 | 0.067050590 | 546.503300 | yes | no | 2 | 64 | 1 |  5 |\n",
       "| 6 | yes | 0 | 23.25000 | 2.5000 | 0.044438400 |  91.996670 | no  | no | 0 | 54 | 1 |  1 |\n",
       "\n"
      ],
      "text/plain": [
       "  card reports age      income share       expenditure owner selfemp dependents\n",
       "1 yes  0       37.66667 4.5200 0.033269910 124.983300  yes   no      3         \n",
       "2 yes  0       33.25000 2.4200 0.005216942   9.854167  no    no      3         \n",
       "3 yes  0       33.66667 4.5000 0.004155556  15.000000  yes   no      4         \n",
       "4 yes  0       30.50000 2.5400 0.065213780 137.869200  no    no      0         \n",
       "5 yes  0       32.16667 9.7867 0.067050590 546.503300  yes   no      2         \n",
       "6 yes  0       23.25000 2.5000 0.044438400  91.996670  no    no      0         \n",
       "  months majorcards active\n",
       "1 54     1          12    \n",
       "2 34     1          13    \n",
       "3 58     1           5    \n",
       "4 25     1           7    \n",
       "5 64     1           5    \n",
       "6 54     1           1    "
      ]
     },
     "metadata": {},
     "output_type": "display_data"
    }
   ],
   "source": [
    "library(AER)\n",
    "data(\"CreditCard\")\n",
    "head(CreditCard)"
   ]
  },
  {
   "cell_type": "code",
   "execution_count": 28,
   "metadata": {
    "slideshow": {
     "slide_type": "subslide"
    }
   },
   "outputs": [
    {
     "name": "stdout",
     "output_type": "stream",
     "text": [
      "[1] 2.180 4.566 3.192 4.600 3.700 3.700\n"
     ]
    }
   ],
   "source": [
    "print(tail(CreditCard$income))"
   ]
  },
  {
   "cell_type": "markdown",
   "metadata": {
    "slideshow": {
     "slide_type": "slide"
    }
   },
   "source": [
    "## Input and Output\n",
    "\n",
    "* Raw data is often saved in ASCII file or Excel.\n",
    "* Excel spreadsheet is discouraged.\n",
    "* Recommend `csv` format"
   ]
  },
  {
   "cell_type": "markdown",
   "metadata": {
    "slideshow": {
     "slide_type": "fragment"
    }
   },
   "source": [
    "`read.table()` or `read.csv()` imports data from an ASCII file into an R session."
   ]
  },
  {
   "cell_type": "markdown",
   "metadata": {
    "slideshow": {
     "slide_type": "subslide"
    }
   },
   "source": [
    "**Example**: Acemoglu, Johnson and Robinson (2001). [Data source](https://economics.mit.edu/faculty/acemoglu/data/ajr2001). \n",
    "* This empirical example was adopted by Chang, Shi and Zhang (2022)."
   ]
  },
  {
   "cell_type": "code",
   "execution_count": 29,
   "metadata": {
    "slideshow": {
     "slide_type": "fragment"
    }
   },
   "outputs": [
    {
     "data": {
      "text/html": [
       "<table class=\"dataframe\">\n",
       "<caption>A data.frame: 6 × 17</caption>\n",
       "<thead>\n",
       "\t<tr><th></th><th scope=col>shortnam</th><th scope=col>logpgp95</th><th scope=col>loghjypl</th><th scope=col>avexpr</th><th scope=col>lat_abst</th><th scope=col>logem4</th><th scope=col>malfal94</th><th scope=col>yellow</th><th scope=col>leb95</th><th scope=col>imr95</th><th scope=col>meantemp</th><th scope=col>lt100km</th><th scope=col>euro1900</th><th scope=col>democ1</th><th scope=col>cons1</th><th scope=col>democ00a</th><th scope=col>cons00a</th></tr>\n",
       "\t<tr><th></th><th scope=col>&lt;chr&gt;</th><th scope=col>&lt;dbl&gt;</th><th scope=col>&lt;dbl&gt;</th><th scope=col>&lt;dbl&gt;</th><th scope=col>&lt;dbl&gt;</th><th scope=col>&lt;dbl&gt;</th><th scope=col>&lt;dbl&gt;</th><th scope=col>&lt;int&gt;</th><th scope=col>&lt;dbl&gt;</th><th scope=col>&lt;dbl&gt;</th><th scope=col>&lt;dbl&gt;</th><th scope=col>&lt;dbl&gt;</th><th scope=col>&lt;dbl&gt;</th><th scope=col>&lt;int&gt;</th><th scope=col>&lt;int&gt;</th><th scope=col>&lt;int&gt;</th><th scope=col>&lt;int&gt;</th></tr>\n",
       "</thead>\n",
       "<tbody>\n",
       "\t<tr><th scope=row>1</th><td>AGO</td><td>7.770645</td><td>-3.4112480</td><td>5.363636</td><td>0.1366667</td><td>5.634789</td><td>0.95000</td><td>1</td><td>46.49</td><td>125.0</td><td>22.94133</td><td>0.118758</td><td> 8</td><td> 0</td><td> 3</td><td> 0</td><td> 1</td></tr>\n",
       "\t<tr><th scope=row>2</th><td>ARG</td><td>9.133459</td><td>-0.8722738</td><td>6.386364</td><td>0.3777778</td><td>4.232656</td><td>0.00000</td><td>0</td><td>72.89</td><td> 21.8</td><td>17.10000</td><td>0.123089</td><td>60</td><td> 1</td><td> 1</td><td> 3</td><td> 3</td></tr>\n",
       "\t<tr><th scope=row>3</th><td>AUS</td><td>9.897972</td><td>-0.1707883</td><td>9.318182</td><td>0.3000000</td><td>2.145931</td><td>0.00000</td><td>1</td><td>78.25</td><td>  5.6</td><td>20.90000</td><td>0.198958</td><td>98</td><td>10</td><td> 7</td><td>10</td><td> 7</td></tr>\n",
       "\t<tr><th scope=row>4</th><td>BFA</td><td>6.845880</td><td>-3.5404590</td><td>4.454545</td><td>0.1444445</td><td>5.634789</td><td>0.95000</td><td>1</td><td>44.39</td><td> 98.8</td><td>28.10000</td><td>0.000000</td><td> 0</td><td> 0</td><td> 3</td><td> 0</td><td> 1</td></tr>\n",
       "\t<tr><th scope=row>5</th><td>BGD</td><td>6.877296</td><td>-2.0635680</td><td>5.136364</td><td>0.2666667</td><td>4.268438</td><td>0.12008</td><td>1</td><td>58.13</td><td> 78.8</td><td>25.68621</td><td>0.401598</td><td> 0</td><td> 8</td><td> 7</td><td> 0</td><td> 1</td></tr>\n",
       "\t<tr><th scope=row>6</th><td>BHS</td><td>9.285448</td><td>        NA</td><td>7.500000</td><td>0.2683333</td><td>4.442651</td><td>     NA</td><td>1</td><td>   NA</td><td>   NA</td><td>      NA</td><td>      NA</td><td>10</td><td>NA</td><td>NA</td><td>NA</td><td>NA</td></tr>\n",
       "</tbody>\n",
       "</table>\n"
      ],
      "text/latex": [
       "A data.frame: 6 × 17\n",
       "\\begin{tabular}{r|lllllllllllllllll}\n",
       "  & shortnam & logpgp95 & loghjypl & avexpr & lat\\_abst & logem4 & malfal94 & yellow & leb95 & imr95 & meantemp & lt100km & euro1900 & democ1 & cons1 & democ00a & cons00a\\\\\n",
       "  & <chr> & <dbl> & <dbl> & <dbl> & <dbl> & <dbl> & <dbl> & <int> & <dbl> & <dbl> & <dbl> & <dbl> & <dbl> & <int> & <int> & <int> & <int>\\\\\n",
       "\\hline\n",
       "\t1 & AGO & 7.770645 & -3.4112480 & 5.363636 & 0.1366667 & 5.634789 & 0.95000 & 1 & 46.49 & 125.0 & 22.94133 & 0.118758 &  8 &  0 &  3 &  0 &  1\\\\\n",
       "\t2 & ARG & 9.133459 & -0.8722738 & 6.386364 & 0.3777778 & 4.232656 & 0.00000 & 0 & 72.89 &  21.8 & 17.10000 & 0.123089 & 60 &  1 &  1 &  3 &  3\\\\\n",
       "\t3 & AUS & 9.897972 & -0.1707883 & 9.318182 & 0.3000000 & 2.145931 & 0.00000 & 1 & 78.25 &   5.6 & 20.90000 & 0.198958 & 98 & 10 &  7 & 10 &  7\\\\\n",
       "\t4 & BFA & 6.845880 & -3.5404590 & 4.454545 & 0.1444445 & 5.634789 & 0.95000 & 1 & 44.39 &  98.8 & 28.10000 & 0.000000 &  0 &  0 &  3 &  0 &  1\\\\\n",
       "\t5 & BGD & 6.877296 & -2.0635680 & 5.136364 & 0.2666667 & 4.268438 & 0.12008 & 1 & 58.13 &  78.8 & 25.68621 & 0.401598 &  0 &  8 &  7 &  0 &  1\\\\\n",
       "\t6 & BHS & 9.285448 &         NA & 7.500000 & 0.2683333 & 4.442651 &      NA & 1 &    NA &    NA &       NA &       NA & 10 & NA & NA & NA & NA\\\\\n",
       "\\end{tabular}\n"
      ],
      "text/markdown": [
       "\n",
       "A data.frame: 6 × 17\n",
       "\n",
       "| <!--/--> | shortnam &lt;chr&gt; | logpgp95 &lt;dbl&gt; | loghjypl &lt;dbl&gt; | avexpr &lt;dbl&gt; | lat_abst &lt;dbl&gt; | logem4 &lt;dbl&gt; | malfal94 &lt;dbl&gt; | yellow &lt;int&gt; | leb95 &lt;dbl&gt; | imr95 &lt;dbl&gt; | meantemp &lt;dbl&gt; | lt100km &lt;dbl&gt; | euro1900 &lt;dbl&gt; | democ1 &lt;int&gt; | cons1 &lt;int&gt; | democ00a &lt;int&gt; | cons00a &lt;int&gt; |\n",
       "|---|---|---|---|---|---|---|---|---|---|---|---|---|---|---|---|---|---|\n",
       "| 1 | AGO | 7.770645 | -3.4112480 | 5.363636 | 0.1366667 | 5.634789 | 0.95000 | 1 | 46.49 | 125.0 | 22.94133 | 0.118758 |  8 |  0 |  3 |  0 |  1 |\n",
       "| 2 | ARG | 9.133459 | -0.8722738 | 6.386364 | 0.3777778 | 4.232656 | 0.00000 | 0 | 72.89 |  21.8 | 17.10000 | 0.123089 | 60 |  1 |  1 |  3 |  3 |\n",
       "| 3 | AUS | 9.897972 | -0.1707883 | 9.318182 | 0.3000000 | 2.145931 | 0.00000 | 1 | 78.25 |   5.6 | 20.90000 | 0.198958 | 98 | 10 |  7 | 10 |  7 |\n",
       "| 4 | BFA | 6.845880 | -3.5404590 | 4.454545 | 0.1444445 | 5.634789 | 0.95000 | 1 | 44.39 |  98.8 | 28.10000 | 0.000000 |  0 |  0 |  3 |  0 |  1 |\n",
       "| 5 | BGD | 6.877296 | -2.0635680 | 5.136364 | 0.2666667 | 4.268438 | 0.12008 | 1 | 58.13 |  78.8 | 25.68621 | 0.401598 |  0 |  8 |  7 |  0 |  1 |\n",
       "| 6 | BHS | 9.285448 |         NA | 7.500000 | 0.2683333 | 4.442651 |      NA | 1 |    NA |    NA |       NA |       NA | 10 | NA | NA | NA | NA |\n",
       "\n"
      ],
      "text/plain": [
       "  shortnam logpgp95 loghjypl   avexpr   lat_abst  logem4   malfal94 yellow\n",
       "1 AGO      7.770645 -3.4112480 5.363636 0.1366667 5.634789 0.95000  1     \n",
       "2 ARG      9.133459 -0.8722738 6.386364 0.3777778 4.232656 0.00000  0     \n",
       "3 AUS      9.897972 -0.1707883 9.318182 0.3000000 2.145931 0.00000  1     \n",
       "4 BFA      6.845880 -3.5404590 4.454545 0.1444445 5.634789 0.95000  1     \n",
       "5 BGD      6.877296 -2.0635680 5.136364 0.2666667 4.268438 0.12008  1     \n",
       "6 BHS      9.285448         NA 7.500000 0.2683333 4.442651      NA  1     \n",
       "  leb95 imr95 meantemp lt100km  euro1900 democ1 cons1 democ00a cons00a\n",
       "1 46.49 125.0 22.94133 0.118758  8        0      3     0        1     \n",
       "2 72.89  21.8 17.10000 0.123089 60        1      1     3        3     \n",
       "3 78.25   5.6 20.90000 0.198958 98       10      7    10        7     \n",
       "4 44.39  98.8 28.10000 0.000000  0        0      3     0        1     \n",
       "5 58.13  78.8 25.68621 0.401598  0        8      7     0        1     \n",
       "6    NA    NA       NA       NA 10       NA     NA    NA       NA     "
      ]
     },
     "metadata": {},
     "output_type": "display_data"
    }
   ],
   "source": [
    "AJR = read.csv(\"data_example/AJR.csv\", header = TRUE)\n",
    "head(AJR)"
   ]
  },
  {
   "cell_type": "markdown",
   "metadata": {
    "slideshow": {
     "slide_type": "subslide"
    }
   },
   "source": [
    "<a id='AJR_exec'></a>\n",
    "**Exercise**\n",
    "\n",
    "Use the dataset `AJR.csv`. \n",
    "* Collect a small dataset with five columns `shortnam`, `logpgp95`, `avexpr`, `lat_abst`, `logem4` (log of mortality rate) and `cons1`.\n",
    "* If any country has one of the above variables missing, remove that country from the data. (Hint: use `apply()`.)"
   ]
  },
  {
   "cell_type": "markdown",
   "metadata": {
    "slideshow": {
     "slide_type": "slide"
    }
   },
   "source": [
    "* It is better to convert Chinese characters into the encoding `UTF-8`. \n",
    "  * Need experiment to deal with garbled texts.\n",
    "  * `Notepad++` is a free tool for conversion; check `Encoding` in its menu."
   ]
  },
  {
   "cell_type": "code",
   "execution_count": 32,
   "metadata": {
    "slideshow": {
     "slide_type": "subslide"
    }
   },
   "outputs": [
    {
     "name": "stderr",
     "output_type": "stream",
     "text": [
      "\u001b[1mRows: \u001b[22m\u001b[34m882\u001b[39m \u001b[1mColumns: \u001b[22m\u001b[34m3\u001b[39m\n",
      "\u001b[36m--\u001b[39m \u001b[1mColumn specification\u001b[22m \u001b[36m------------------------------------------------------------------------------------------------\u001b[39m\n",
      "\u001b[1mDelimiter:\u001b[22m \",\"\n",
      "\u001b[31mchr\u001b[39m (2): name, pinyin\n",
      "\u001b[32mdbl\u001b[39m (1): id\n",
      "\n",
      "\u001b[36mi\u001b[39m Use `spec()` to retrieve the full column specification for this data.\n",
      "\u001b[36mi\u001b[39m Specify the column types or set `show_col_types = FALSE` to quiet this message.\n"
     ]
    },
    {
     "data": {
      "text/html": [
       "<table class=\"dataframe\">\n",
       "<caption>A tibble: 6 × 3</caption>\n",
       "<thead>\n",
       "\t<tr><th scope=col>name</th><th scope=col>id</th><th scope=col>pinyin</th></tr>\n",
       "\t<tr><th scope=col>&lt;chr&gt;</th><th scope=col>&lt;dbl&gt;</th><th scope=col>&lt;chr&gt;</th></tr>\n",
       "</thead>\n",
       "<tbody>\n",
       "\t<tr><td>&lt;U+6D66&gt;&lt;U+53D1&gt;&lt;U+94F6&gt;&lt;U+884C&gt;</td><td>600000</td><td><span style=white-space:pre-wrap>pu fa yín háng    </span></td></tr>\n",
       "\t<tr><td>&lt;U+767D&gt;&lt;U+4E91&gt;&lt;U+673A&gt;&lt;U+573A&gt;</td><td>600004</td><td><span style=white-space:pre-wrap>bái yún ji cháng  </span></td></tr>\n",
       "\t<tr><td>&lt;U+6B66&gt;&lt;U+94A2&gt;&lt;U+80A1&gt;&lt;U+4EFD&gt;</td><td>600005</td><td><span style=white-space:pre-wrap>wu gang gu bin    </span></td></tr>\n",
       "\t<tr><td>&lt;U+4E1C&gt;&lt;U+98CE&gt;&lt;U+6C7D&gt;&lt;U+8F66&gt;</td><td>600006</td><td>dong feng gài che </td></tr>\n",
       "\t<tr><td>&lt;U+4E2D&gt;&lt;U+56FD&gt;&lt;U+56FD&gt;&lt;U+8D38&gt;</td><td>600007</td><td>zhong guó guó mào </td></tr>\n",
       "\t<tr><td>&lt;U+9996&gt;&lt;U+521B&gt;&lt;U+80A1&gt;&lt;U+4EFD&gt;</td><td>600008</td><td>shou chuang gu bin</td></tr>\n",
       "</tbody>\n",
       "</table>\n"
      ],
      "text/latex": [
       "A tibble: 6 × 3\n",
       "\\begin{tabular}{lll}\n",
       " name & id & pinyin\\\\\n",
       " <chr> & <dbl> & <chr>\\\\\n",
       "\\hline\n",
       "\t <U+6D66><U+53D1><U+94F6><U+884C> & 600000 & pu fa yín háng    \\\\\n",
       "\t <U+767D><U+4E91><U+673A><U+573A> & 600004 & bái yún ji cháng  \\\\\n",
       "\t <U+6B66><U+94A2><U+80A1><U+4EFD> & 600005 & wu gang gu bin    \\\\\n",
       "\t <U+4E1C><U+98CE><U+6C7D><U+8F66> & 600006 & dong feng gài che \\\\\n",
       "\t <U+4E2D><U+56FD><U+56FD><U+8D38> & 600007 & zhong guó guó mào \\\\\n",
       "\t <U+9996><U+521B><U+80A1><U+4EFD> & 600008 & shou chuang gu bin\\\\\n",
       "\\end{tabular}\n"
      ],
      "text/markdown": [
       "\n",
       "A tibble: 6 × 3\n",
       "\n",
       "| name &lt;chr&gt; | id &lt;dbl&gt; | pinyin &lt;chr&gt; |\n",
       "|---|---|---|\n",
       "| &lt;U+6D66&gt;&lt;U+53D1&gt;&lt;U+94F6&gt;&lt;U+884C&gt; | 600000 | pu fa yín háng     |\n",
       "| &lt;U+767D&gt;&lt;U+4E91&gt;&lt;U+673A&gt;&lt;U+573A&gt; | 600004 | bái yún ji cháng   |\n",
       "| &lt;U+6B66&gt;&lt;U+94A2&gt;&lt;U+80A1&gt;&lt;U+4EFD&gt; | 600005 | wu gang gu bin     |\n",
       "| &lt;U+4E1C&gt;&lt;U+98CE&gt;&lt;U+6C7D&gt;&lt;U+8F66&gt; | 600006 | dong feng gài che  |\n",
       "| &lt;U+4E2D&gt;&lt;U+56FD&gt;&lt;U+56FD&gt;&lt;U+8D38&gt; | 600007 | zhong guó guó mào  |\n",
       "| &lt;U+9996&gt;&lt;U+521B&gt;&lt;U+80A1&gt;&lt;U+4EFD&gt; | 600008 | shou chuang gu bin |\n",
       "\n"
      ],
      "text/plain": [
       "  name                             id     pinyin            \n",
       "1 <U+6D66><U+53D1><U+94F6><U+884C> 600000 pu fa yín háng    \n",
       "2 <U+767D><U+4E91><U+673A><U+573A> 600004 bái yún ji cháng  \n",
       "3 <U+6B66><U+94A2><U+80A1><U+4EFD> 600005 wu gang gu bin    \n",
       "4 <U+4E1C><U+98CE><U+6C7D><U+8F66> 600006 dong feng gài che \n",
       "5 <U+4E2D><U+56FD><U+56FD><U+8D38> 600007 zhong guó guó mào \n",
       "6 <U+9996><U+521B><U+80A1><U+4EFD> 600008 shou chuang gu bin"
      ]
     },
     "metadata": {},
     "output_type": "display_data"
    }
   ],
   "source": [
    "# stock_id <- readr::read_csv(\"data_example/SH_stockid_UTF8.csv\", locale = readr::locale(encoding = \"UTF-8\"))\n",
    "stock_id <- readr::read_csv(\"data_example/SH_stockid_UTF8.csv\")\n",
    "head(stock_id)"
   ]
  },
  {
   "cell_type": "markdown",
   "metadata": {
    "slideshow": {
     "slide_type": "subslide"
    }
   },
   "source": [
    "\n",
    "`write.table()` or `write.csv()` exports the data in an R session to an ASCII file."
   ]
  },
  {
   "cell_type": "code",
   "execution_count": 33,
   "metadata": {
    "slideshow": {
     "slide_type": "fragment"
    }
   },
   "outputs": [],
   "source": [
    "write.csv(CreditCard, \"CreditCard.csv\")"
   ]
  },
  {
   "cell_type": "markdown",
   "metadata": {
    "slideshow": {
     "slide_type": "slide"
    }
   },
   "source": [
    "**Example**\n",
    "\n",
    "* Download data from internet.\n",
    "\n",
    "* Retrieve the stock daily data of *Apple Inc.* from *Yahoo Finance*\n",
    "  * package `quantmod` is used."
   ]
  },
  {
   "cell_type": "code",
   "execution_count": 34,
   "metadata": {
    "slideshow": {
     "slide_type": "subslide"
    }
   },
   "outputs": [
    {
     "name": "stderr",
     "output_type": "stream",
     "text": [
      "Registered S3 method overwritten by 'quantmod':\n",
      "  method            from\n",
      "  as.zoo.data.frame zoo \n",
      "\n"
     ]
    },
    {
     "data": {
      "text/html": [
       "'AAPL'"
      ],
      "text/latex": [
       "'AAPL'"
      ],
      "text/markdown": [
       "'AAPL'"
      ],
      "text/plain": [
       "[1] \"AAPL\""
      ]
     },
     "metadata": {},
     "output_type": "display_data"
    },
    {
     "data": {
      "text/plain": [
       "           AAPL.Open AAPL.High AAPL.Low AAPL.Close AAPL.Volume AAPL.Adjusted\n",
       "2023-01-06    126.01    130.29   124.89     129.62    87686600        129.62\n",
       "2023-01-09    130.47    133.41   129.89     130.15    70790800        130.15\n",
       "2023-01-10    130.26    131.26   128.12     130.73    63896200        130.73\n",
       "2023-01-11    131.25    133.51   130.46     133.49    69458900        133.49\n",
       "2023-01-12    133.88    134.26   131.44     133.41    71379600        133.41\n",
       "2023-01-13    132.03    134.92   131.66     134.76    57758000        134.76"
      ]
     },
     "metadata": {},
     "output_type": "display_data"
    },
    {
     "data": {
      "image/png": "[encoded data removed]",
      "text/plain": [
       "plot without title"
      ]
     },
     "metadata": {
      "image/png": {
       "height": 420,
       "width": 420
      }
     },
     "output_type": "display_data"
    }
   ],
   "source": [
    "quantmod::getSymbols(\"AAPL\", src = \"yahoo\")\n",
    "tail(AAPL)\n",
    "plot(AAPL$AAPL.Close)"
   ]
  },
  {
   "cell_type": "markdown",
   "metadata": {
    "slideshow": {
     "slide_type": "subslide"
    }
   },
   "source": [
    "\n",
    "Another example: [Quarterly US Industrial Production Index](https://fred.stlouisfed.org/series/IPB50001SQ)\n"
   ]
  },
  {
   "cell_type": "code",
   "execution_count": 35,
   "metadata": {
    "slideshow": {
     "slide_type": "subslide"
    }
   },
   "outputs": [
    {
     "data": {
      "text/html": [
       "'IPB50001SQ'"
      ],
      "text/latex": [
       "'IPB50001SQ'"
      ],
      "text/markdown": [
       "'IPB50001SQ'"
      ],
      "text/plain": [
       "[1] \"IPB50001SQ\""
      ]
     },
     "metadata": {},
     "output_type": "display_data"
    },
    {
     "data": {
      "image/png": "[encoded data removed]",
      "text/plain": [
       "plot without title"
      ]
     },
     "metadata": {
      "image/png": {
       "height": 420,
       "width": 420
      }
     },
     "output_type": "display_data"
    }
   ],
   "source": [
    "quantmod::getSymbols.FRED(Symbols = c(\"IPB50001SQ\"), env = .GlobalEnv)\n",
    "plot(IPB50001SQ)"
   ]
  },
  {
   "cell_type": "markdown",
   "metadata": {
    "slideshow": {
     "slide_type": "slide"
    }
   },
   "source": [
    "## Statistics\n",
    "\n",
    "* R is created by statisticians.\n",
    "\n",
    "* `p` (probability)\n",
    "* `d` (density)\n",
    "* `q` (quantile)\n",
    "* `r` (random variable generator) "
   ]
  },
  {
   "cell_type": "markdown",
   "metadata": {
    "slideshow": {
     "slide_type": "subslide"
    }
   },
   "source": [
    "* `norm` (normal)\n",
    "* `chisq` ($\\chi^2$)\n",
    "* `t` (*t*)\n",
    "* `weibull` (Weibull)\n",
    "* `cauchy` (Cauchy)\n",
    "* `binomial` (binomial)\n",
    "* `pois` (Poisson)"
   ]
  },
  {
   "cell_type": "code",
   "execution_count": 36,
   "metadata": {
    "slideshow": {
     "slide_type": "slide"
    }
   },
   "outputs": [
    {
     "data": {
      "text/html": [
       "0.5"
      ],
      "text/latex": [
       "0.5"
      ],
      "text/markdown": [
       "0.5"
      ],
      "text/plain": [
       "[1] 0.5"
      ]
     },
     "metadata": {},
     "output_type": "display_data"
    }
   ],
   "source": [
    "pnorm(0)"
   ]
  },
  {
   "cell_type": "code",
   "execution_count": 37,
   "metadata": {
    "slideshow": {
     "slide_type": "fragment"
    }
   },
   "outputs": [
    {
     "data": {
      "text/html": [
       "1.95996398454005"
      ],
      "text/latex": [
       "1.95996398454005"
      ],
      "text/markdown": [
       "1.95996398454005"
      ],
      "text/plain": [
       "[1] 1.959964"
      ]
     },
     "metadata": {},
     "output_type": "display_data"
    }
   ],
   "source": [
    "qnorm(0.975)"
   ]
  },
  {
   "cell_type": "code",
   "execution_count": 38,
   "metadata": {
    "slideshow": {
     "slide_type": "fragment"
    }
   },
   "outputs": [
    {
     "data": {
      "text/html": [
       "<style>\n",
       ".list-inline {list-style: none; margin:0; padding: 0}\n",
       ".list-inline>li {display: inline-block}\n",
       ".list-inline>li:not(:last-child)::after {content: \"\\00b7\"; padding: 0 .5ex}\n",
       "</style>\n",
       "<ol class=list-inline><li>-0.298699732350819</li><li>-0.593535614205128</li><li>0.826703839100183</li><li>-2.16140641596862</li><li>-0.921042492750423</li></ol>\n"
      ],
      "text/latex": [
       "\\begin{enumerate*}\n",
       "\\item -0.298699732350819\n",
       "\\item -0.593535614205128\n",
       "\\item 0.826703839100183\n",
       "\\item -2.16140641596862\n",
       "\\item -0.921042492750423\n",
       "\\end{enumerate*}\n"
      ],
      "text/markdown": [
       "1. -0.298699732350819\n",
       "2. -0.593535614205128\n",
       "3. 0.826703839100183\n",
       "4. -2.16140641596862\n",
       "5. -0.921042492750423\n",
       "\n",
       "\n"
      ],
      "text/plain": [
       "[1] -0.2986997 -0.5935356  0.8267038 -2.1614064 -0.9210425"
      ]
     },
     "metadata": {},
     "output_type": "display_data"
    }
   ],
   "source": [
    "rnorm(5)"
   ]
  },
  {
   "cell_type": "code",
   "execution_count": 39,
   "metadata": {
    "slideshow": {
     "slide_type": "fragment"
    }
   },
   "outputs": [
    {
     "data": {
      "text/html": [
       "0.398942280401433"
      ],
      "text/latex": [
       "0.398942280401433"
      ],
      "text/markdown": [
       "0.398942280401433"
      ],
      "text/plain": [
       "[1] 0.3989423"
      ]
     },
     "metadata": {},
     "output_type": "display_data"
    }
   ],
   "source": [
    "dnorm(0)"
   ]
  },
  {
   "cell_type": "markdown",
   "metadata": {
    "slideshow": {
     "slide_type": "skip"
    }
   },
   "source": [
    "**Example**\n",
    "\n",
    "This example illustrates the sampling error.\n",
    "\n",
    "1. Plot the density of $\\chi^2(3)$ over an equally spaced grid system `x_axis = seq(0.01, 15, by = 0.01)` (black line).\n",
    "2. Generate 1000 observations from $\\chi^2(3)$ distribution. Plot the kernel density, a nonparametric estimation of the density (red line).\n",
    "3. Calculate the 95th quantile and the empirical probability of observing a value greater than the 95-th quantile.\n",
    "In population, this value should be 5%. What is the number in this experiment?"
   ]
  },
  {
   "cell_type": "markdown",
   "metadata": {
    "slideshow": {
     "slide_type": "skip"
    }
   },
   "source": [
    "set.seed(888)\n",
    "x_axis <- seq(0.01, 15, by = 0.01)\n",
    "\n",
    "y <- dchisq(x_axis, df = 3)\n",
    "plot(y = y, x = x_axis, type = \"l\", xlab = \"x\", ylab = \"density\")\n",
    "z <- rchisq(1000, df = 3)\n",
    "lines(density(z), col = \"red\")\n",
    "crit <- qchisq(.95, df = 3)\n",
    "\n",
    "mean(z > crit)\n"
   ]
  },
  {
   "cell_type": "markdown",
   "metadata": {
    "slideshow": {
     "slide_type": "slide"
    }
   },
   "source": [
    "## User-defined Function\n",
    "\n",
    "* Highly recommended to encapsulate repeated procedures into a user-defined function.\n",
    "\n",
    "1. In the developing stage, focus on a small chunk of code. More manageable.\n",
    "2. Variables defined inside a function are local.\n",
    "3. In revision, only need to change one place. "
   ]
  },
  {
   "cell_type": "markdown",
   "metadata": {
    "slideshow": {
     "slide_type": "subslide"
    }
   },
   "source": [
    "The format of a user-defined function is\n",
    "\n",
    "```\n",
    "function_name <- function(input) {\n",
    "  expressions\n",
    "  return(output)\n",
    "}\n",
    "```"
   ]
  },
  {
   "cell_type": "markdown",
   "metadata": {
    "slideshow": {
     "slide_type": "slide"
    }
   },
   "source": [
    "**Example**\n",
    "\n",
    "* 95% two-sided asymptotic confidence interval as\n",
    "$$\\left(\\hat{\\mu} - \\frac{1.96}{\\sqrt{n}} \\hat{\\sigma}, \\hat{\\mu} + \\frac{1.96}{\\sqrt{n}} \\hat{\\sigma} \\right)$$\n",
    "from a given sample.\n",
    "\n",
    "* An easy job, but no built-in function.\n"
   ]
  },
  {
   "cell_type": "code",
   "execution_count": 12,
   "metadata": {
    "slideshow": {
     "slide_type": "subslide"
    }
   },
   "outputs": [],
   "source": [
    "# construct confidence interval\n",
    "\n",
    "CI <- function(x) {\n",
    "  # x is a vector of random variables\n",
    "\n",
    "  n <- length(x)\n",
    "  mu <- mean(x)\n",
    "  sig <- sd(x)\n",
    "  upper <- mu + 1.96 / sqrt(n) * sig\n",
    "  lower <- mu - 1.96 / sqrt(n) * sig\n",
    "  return(list(lower = lower, upper = upper))\n",
    "}\n"
   ]
  },
  {
   "cell_type": "markdown",
   "metadata": {
    "slideshow": {
     "slide_type": "slide"
    }
   },
   "source": [
    "## Flow Control\n",
    "\n",
    "* Flow control is common in all programming languages.\n",
    "\n",
    "  * `if` is used for choice\n",
    "  * `for` or `while` is used for loops.\n"
   ]
  },
  {
   "cell_type": "markdown",
   "metadata": {
    "slideshow": {
     "slide_type": "slide"
    }
   },
   "source": [
    "**Example**\n",
    "\n",
    "Calculate the empirical coverage probability of a Poisson distribution of degrees of freedom 2.\n",
    "We conduct this experiment for 1000 times.\n"
   ]
  },
  {
   "cell_type": "code",
   "execution_count": 10,
   "metadata": {
    "slideshow": {
     "slide_type": "subslide"
    }
   },
   "outputs": [
    {
     "name": "stdout",
     "output_type": "stream",
     "text": [
      "[1] \"Asymptotic theory may work\"\n",
      "the emprical size =  0.944"
     ]
    }
   ],
   "source": [
    "Rep <- 1000\n",
    "sample_size <- 100\n",
    "capture <- rep(0, Rep)\n",
    "\n",
    "if (sample_size < 50){\n",
    "      print(\"Sample size too small. Refuse to work\")\n",
    "      } else {\n",
    "    for (i in 1:Rep) {\n",
    "      mu <- 2\n",
    "      x <- rpois(sample_size, mu)\n",
    "      bounds <- CI(x)\n",
    "      capture[i] <- ((bounds$lower <= mu) & (mu <= bounds$upper))\n",
    "    }\n",
    "    print(\"Asymptotic theory may work\")\n",
    "    cat(\"the emprical size = \", mean(capture)) # empirical size\n",
    "}"
   ]
  },
  {
   "cell_type": "markdown",
   "metadata": {
    "slideshow": {
     "slide_type": "slide"
    }
   },
   "source": [
    "## Statistical Model\n",
    "\n",
    "* `y~x`\n",
    "  * `y`: dependent variable,\n",
    "  * `x`: explanatory variable.\n",
    "* `lm(y~x, data = data_frame)`.\n"
   ]
  },
  {
   "cell_type": "markdown",
   "metadata": {
    "slideshow": {
     "slide_type": "slide"
    }
   },
   "source": [
    "### A Linear Regression \n",
    "\n",
    "This is a toy example with simulated data."
   ]
  },
  {
   "cell_type": "code",
   "execution_count": 40,
   "metadata": {
    "slideshow": {
     "slide_type": "subslide"
    }
   },
   "outputs": [
    {
     "data": {
      "text/plain": [
       "\n",
       "Call:\n",
       "lm(formula = y ~ x)\n",
       "\n",
       "Residuals:\n",
       "     Min       1Q   Median       3Q      Max \n",
       "-2.21645 -0.60012  0.08609  0.52849  3.05926 \n",
       "\n",
       "Coefficients:\n",
       "            Estimate Std. Error t value Pr(>|t|)    \n",
       "(Intercept)  0.01380    0.09772   0.141    0.888    \n",
       "x            0.94391    0.10786   8.751 6.18e-14 ***\n",
       "---\n",
       "Signif. codes:  0 '***' 0.001 '**' 0.01 '*' 0.05 '.' 0.1 ' ' 1\n",
       "\n",
       "Residual standard error: 0.9636 on 98 degrees of freedom\n",
       "Multiple R-squared:  0.4386,\tAdjusted R-squared:  0.4329 \n",
       "F-statistic: 76.58 on 1 and 98 DF,  p-value: 6.184e-14\n"
      ]
     },
     "metadata": {},
     "output_type": "display_data"
    }
   ],
   "source": [
    "\n",
    "T <- 100\n",
    "p <- 1\n",
    "\n",
    "b0 <- 1\n",
    "# Generate data\n",
    "x <- matrix(rnorm(T * p), T, 1)\n",
    "y <- x %*% b0 + rnorm(T)\n",
    "\n",
    "# Linear Model\n",
    "result <- lm(y ~ x)\n",
    "summary(result)\n"
   ]
  },
  {
   "cell_type": "markdown",
   "metadata": {
    "slideshow": {
     "slide_type": "skip"
    }
   },
   "source": [
    "The `result` object is a list containing the regression results. As shown in the results, we can easily read the estimated coefficients, t-test results, F-test results, and the R-squared.\n",
    "\n",
    "We can plot the true value of $y$ and fitted value to examine whether the regression model fit the data well.\n"
   ]
  },
  {
   "cell_type": "code",
   "execution_count": null,
   "metadata": {
    "slideshow": {
     "slide_type": "fragment"
    }
   },
   "outputs": [],
   "source": [
    "plot(result$fitted.values,\n",
    "  col = \"red\", type = \"l\", xlab = \"x\", ylab = \"y\",\n",
    "  main = \"Fitted Value\"\n",
    ")\n",
    "lines(y, col = \"blue\", type = \"l\", lty = 2)\n",
    "legend(\"bottomleft\",\n",
    "  legend = c(\"Fitted Value\", \"True Value\"),\n",
    "  col = c(\"red\", \"blue\"), lty = 1:2, cex = 0.75\n",
    ")\n"
   ]
  },
  {
   "cell_type": "markdown",
   "metadata": {
    "slideshow": {
     "slide_type": "slide"
    }
   },
   "source": [
    "\n",
    "Then we plot the best fitted line.\n"
   ]
  },
  {
   "cell_type": "code",
   "execution_count": 41,
   "metadata": {
    "slideshow": {
     "slide_type": "fragment"
    }
   },
   "outputs": [
    {
     "data": {
      "image/png": "[encoded data removed]",
      "text/plain": [
       "Plot with title \"Fitted Line\""
      ]
     },
     "metadata": {
      "image/png": {
       "height": 420,
       "width": 420
      }
     },
     "output_type": "display_data"
    }
   ],
   "source": [
    "plot(y = y, x = x, xlab = \"x\", ylab = \"y\", main = \"Fitted Line\")\n",
    "abline(a = result$coefficients[1], b = result$coefficients[2])\n",
    "abline(a = 0, b = b0, col = \"red\")\n",
    "\n",
    "legend(\"bottomright\",\n",
    "  legend = c(\"Fitted Line\", \"True Coef\"),\n",
    "  col = c(\"black\", \"red\"), lty = c(1, 1), cex = 0.75\n",
    ")\n"
   ]
  },
  {
   "cell_type": "markdown",
   "metadata": {
    "slideshow": {
     "slide_type": "slide"
    }
   },
   "source": [
    "## Regression: Real Data Example\n",
    "\n",
    "* Relationship between the height and weight of women.\n",
    "* The dataset is from the package `datasets` (a built-in package with R)\n"
   ]
  },
  {
   "cell_type": "code",
   "execution_count": 42,
   "metadata": {
    "slideshow": {
     "slide_type": "subslide"
    },
    "tags": []
   },
   "outputs": [
    {
     "data": {
      "text/plain": [
       "\n",
       "Call:\n",
       "lm(formula = height ~ weight, data = women)\n",
       "\n",
       "Residuals:\n",
       "     Min       1Q   Median       3Q      Max \n",
       "-0.83233 -0.26249  0.08314  0.34353  0.49790 \n",
       "\n",
       "Coefficients:\n",
       "             Estimate Std. Error t value Pr(>|t|)    \n",
       "(Intercept) 25.723456   1.043746   24.64 2.68e-12 ***\n",
       "weight       0.287249   0.007588   37.85 1.09e-14 ***\n",
       "---\n",
       "Signif. codes:  0 '***' 0.001 '**' 0.01 '*' 0.05 '.' 0.1 ' ' 1\n",
       "\n",
       "Residual standard error: 0.44 on 13 degrees of freedom\n",
       "Multiple R-squared:  0.991,\tAdjusted R-squared:  0.9903 \n",
       "F-statistic:  1433 on 1 and 13 DF,  p-value: 1.091e-14\n"
      ]
     },
     "metadata": {},
     "output_type": "display_data"
    },
    {
     "data": {
      "text/plain": [
       "\n",
       "Call:\n",
       "lm(formula = height ~ weight + I(weight^2), data = women)\n",
       "\n",
       "Residuals:\n",
       "      Min        1Q    Median        3Q       Max \n",
       "-0.105338 -0.035764 -0.004898  0.049430  0.141593 \n",
       "\n",
       "Coefficients:\n",
       "              Estimate Std. Error t value Pr(>|t|)    \n",
       "(Intercept) -1.175e+01  1.720e+00   -6.83 1.82e-05 ***\n",
       "weight       8.343e-01  2.502e-02   33.35 3.36e-13 ***\n",
       "I(weight^2) -1.973e-03  9.014e-05  -21.89 4.84e-11 ***\n",
       "---\n",
       "Signif. codes:  0 '***' 0.001 '**' 0.01 '*' 0.05 '.' 0.1 ' ' 1\n",
       "\n",
       "Residual standard error: 0.07158 on 12 degrees of freedom\n",
       "Multiple R-squared:  0.9998,\tAdjusted R-squared:  0.9997 \n",
       "F-statistic: 2.732e+04 on 2 and 12 DF,  p-value: < 2.2e-16\n"
      ]
     },
     "metadata": {},
     "output_type": "display_data"
    }
   ],
   "source": [
    "# univariate\n",
    "reg1 <- lm(height ~ weight, data = women)\n",
    "\n",
    "# multivariate\n",
    "reg2 <- lm(height ~ weight + I(weight^2), data = women)\n",
    "# \"weight^2\" is a square term.\n",
    "# \"I()\" is used to inhibit the formula operator \"+\"\n",
    "# from being interpreted as an arithmetical one.\n",
    "\n",
    "summary(reg1)\n",
    "summary(reg2)\n"
   ]
  },
  {
   "cell_type": "markdown",
   "metadata": {
    "slideshow": {
     "slide_type": "skip"
    }
   },
   "source": [
    "**Exercise**\n",
    "\n",
    "In a [previous exercise](#AJR_exec) we have compiled a subset of observations in `AJR.csv` with all variables `shortnam`, `logpgp95`, `avexpr`, `lat_abst`, and `logem4` and none is missing.\n",
    "Run an instrumental variable regression with `logpgp95` as the dependent variables, \n",
    "`avexpr` and `latabst` as explanatory variables, \n",
    "and `logem4` and `lat_abst` as instrumental variables. (Hint: use the function `AER::ivreg()`)\n"
   ]
  },
  {
   "cell_type": "markdown",
   "metadata": {
    "slideshow": {
     "slide_type": "slide"
    }
   },
   "source": [
    "## Reading\n",
    "\n",
    "<!-- [Wickham and Grolemund](https://r4ds.had.co.nz/): Ch 1, 2, 4, 8, 19 and 20 -->\n",
    "* A thorough reading of [R-Introduction](https://cran.r-project.org/doc/manuals/r-release/R-intro.pdf) \n",
    "* Wickham and Grolemund](https://r4ds.had.co.nz/)\n",
    "  * Ch 4: workflow:basics\n",
    "  * Ch 6: workflow:scripts\n"
   ]
  },
  {
   "cell_type": "markdown",
   "metadata": {
    "slideshow": {
     "slide_type": "notes"
    }
   },
   "source": []
  }
 ],
 "metadata": {
  "anaconda-cloud": "",
  "celltoolbar": "幻灯片",
  "kernelspec": {
   "display_name": "R",
   "language": "R",
   "name": "ir"
  },
  "language_info": {
   "codemirror_mode": "r",
   "file_extension": ".r",
   "mimetype": "text/x-r-source",
   "name": "R",
   "pygments_lexer": "r",
   "version": "4.2.0"
  },
  "rise": {
   "enable_chalkboard": true,
   "theme": "serif"
  },
  "vscode": {
   "interpreter": {
    "hash": "98c8651c14c5e67168ec7360df025b52a3dda054aca34605ea6bb4da8d25168e"
   }
  }
 },
 "nbformat": 4,
 "nbformat_minor": 4
}
