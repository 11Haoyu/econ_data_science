{
 "cells": [
  {
   "cell_type": "markdown",
   "id": "a0b040a2-dc3e-451c-bf87-4b381cd721de",
   "metadata": {},
   "source": [
    "# Time Series\n",
    "\n",
    "\n",
    "\n",
    "## Observations over time\n",
    "\n",
    "- Natural ordering of observations\n",
    "- A single realization in history"
   ]
  },
  {
   "cell_type": "code",
   "execution_count": null,
   "id": "ead16103-caed-44b5-adf3-ac0f4c06cd42",
   "metadata": {},
   "outputs": [],
   "source": [
    "library(magrittr)\n",
    "library(dplyr)\n",
    "library(doBy)\n",
    "library(zoo)\n",
    "library(rvest)\n",
    "library(Quandl)"
   ]
  },
  {
   "cell_type": "markdown",
   "id": "1e4b3a3f-8354-4e64-9ba1-f30aa7782ff0",
   "metadata": {},
   "source": [
    "- Macroeconomic applications\n",
    "  - [FRED database](https://research.stlouisfed.org/econ/mccracken/fred-databases/)\n",
    "\n",
    "- Financial applications\n",
    "  - [Yahoo Finance](https://finance.yahoo.com/)"
   ]
  },
  {
   "cell_type": "markdown",
   "id": "e3be34e6-6a1f-48dc-ad28-5e9f187f32b2",
   "metadata": {},
   "source": [
    "# Examples\n",
    "\n",
    "\n",
    "## US GDP"
   ]
  },
  {
   "cell_type": "code",
   "execution_count": null,
   "id": "5c70539a-3580-4ffe-8600-edd6fb1befdd",
   "metadata": {},
   "outputs": [],
   "source": [
    "USA= Quandl::Quandl(\"UNAE/GDPCD_USA\")\n",
    "TT = dim(USA)[1]\n",
    "USA = USA[ rev(1:TT), ]"
   ]
  },
  {
   "cell_type": "markdown",
   "id": "8e4df9cf-3b9a-476c-86eb-ae563924f551",
   "metadata": {},
   "source": [
    "## USA Industrial Production\n",
    "\n",
    "* Another example: [Quarterly US Industrial Production Index](https://fred.stlouisfed.org/series/IPB50001SQ)"
   ]
  },
  {
   "cell_type": "code",
   "execution_count": null,
   "id": "60b1a55e-190a-43e7-a29b-61fa8ee8f53b",
   "metadata": {},
   "outputs": [],
   "source": [
    "quantmod::getSymbols.FRED(Symbols = \"IPB50001SQ\", env = .GlobalEnv) \n",
    "plot(IPB50001SQ)"
   ]
  },
  {
   "cell_type": "markdown",
   "id": "d61ed6e0-ef8d-4591-8c61-7030ba834261",
   "metadata": {},
   "source": [
    "## S&P 500 Index"
   ]
  },
  {
   "cell_type": "code",
   "execution_count": null,
   "id": "21ff0701-af23-4305-8458-fd79adf79c0b",
   "metadata": {},
   "outputs": [],
   "source": [
    "SPX <- quantmod::getSymbols(\"^GSPC\",auto.assign = FALSE, from = \"2000-01-01\")$GSPC.Close\n",
    "plot(SPX)"
   ]
  },
  {
   "cell_type": "markdown",
   "id": "4a3e469a-25a5-4377-b43b-d755c251f313",
   "metadata": {},
   "source": [
    "## S&P 500 Return"
   ]
  },
  {
   "cell_type": "code",
   "execution_count": null,
   "id": "2d067f7e-9205-4082-92cf-b6b676e9d690",
   "metadata": {},
   "outputs": [],
   "source": [
    "diff( log(SPX) ) %>% plot( )"
   ]
  },
  {
   "cell_type": "markdown",
   "id": "8e0510fb-218b-498d-8d59-4b66f5fcf8ef",
   "metadata": {},
   "source": [
    "## Bitcoin"
   ]
  },
  {
   "cell_type": "code",
   "execution_count": null,
   "id": "7f22315e-c749-4624-a47b-dba5fe8faaf2",
   "metadata": {},
   "outputs": [],
   "source": [
    "BTC <- quantmod::getSymbols(\"BTC-USD\",auto.assign = FALSE, from = \"2021-07-01\")[,4]\n",
    "plot(BTC)\n",
    "\n",
    "ETH <- quantmod::getSymbols(\"ETH-USD\",auto.assign = FALSE, from = \"2021-07-01\")[,4]\n",
    "plot(ETH)\n",
    "\n",
    "\n",
    "plot( x = as.vector(ETH), y = as.vector(BTC), type = \"l\")"
   ]
  },
  {
   "cell_type": "markdown",
   "id": "440649ee-df3c-42e2-81ed-f5ae99db4bcb",
   "metadata": {},
   "source": [
    "## Bitcoin return"
   ]
  },
  {
   "cell_type": "code",
   "execution_count": null,
   "id": "f517edb9-79ad-4ff1-8791-ee43ce8ba543",
   "metadata": {},
   "outputs": [],
   "source": [
    "diff( log(BTC) ) %>% plot( )"
   ]
  },
  {
   "cell_type": "markdown",
   "id": "f28c26ef-63a1-41bc-8bc9-fa6ad22954dd",
   "metadata": {},
   "source": [
    "## Exchange rates"
   ]
  },
  {
   "cell_type": "code",
   "execution_count": null,
   "id": "e06a7ff7-70a8-4ea8-87e4-ffe4d9c5225e",
   "metadata": {},
   "outputs": [],
   "source": [
    "quantmod::getFX(\"USD/JPY\")\n",
    "quantmod::getFX(\"HKD/JPY\")\n",
    "matplot( y = cbind(USDJPY, HKDJPY*7.8), x = index(USDJPY), type = \"l\", xlab = \"time\"  )"
   ]
  },
  {
   "cell_type": "markdown",
   "id": "bfbd7fb9-2218-4dd7-857f-aced221ec35b",
   "metadata": {},
   "source": [
    "# Contents\n",
    "\n",
    "\n",
    "## Understanding time series\n",
    "\n",
    "\n",
    "* Structural versus non-structural\n",
    "* Model time series\n",
    "* Extrapolate time series\n",
    "  * Nowcast\n",
    "  * Forecast"
   ]
  },
  {
   "cell_type": "code",
   "execution_count": null,
   "id": "323c7539-7a51-4ada-b3e6-8731af3b9edd",
   "metadata": {},
   "outputs": [],
   "source": []
  }
 ],
 "metadata": {
  "kernelspec": {
   "display_name": "R [conda env:r]",
   "language": "R",
   "name": "conda-env-r-r"
  },
  "language_info": {
   "codemirror_mode": "r",
   "file_extension": ".r",
   "mimetype": "text/x-r-source",
   "name": "R",
   "pygments_lexer": "r",
   "version": "4.1.2"
  }
 },
 "nbformat": 4,
 "nbformat_minor": 5
}
