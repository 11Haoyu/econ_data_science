{
 "cells": [
  {
   "cell_type": "markdown",
   "id": "ff765d79",
   "metadata": {},
   "source": [
    "SCRP是由香港中文大学经济系管理的高性能计算集群 [登录](https://scrp-login-2.econ.cuhk.edu.hk/)\n",
    "\n",
    "我们可以用 `JupyterLab` 或 `RStudio` 来获取其权限，用`linux`进行访问，用`Git`来上传文件。"
   ]
  },
  {
   "cell_type": "markdown",
   "id": "1f3135aa",
   "metadata": {},
   "source": [
    "## 云计算\n",
    "\n",
    "如果学会如何使用云计算，在进行复杂的计算工作时，我们就不用非得自掏腰包购买昂贵高性能电脑了。一方面，我们不需要每天进行这种高强度的运算，使用共享的计算设备性价比更高；另一方面，我们并不能永远将电脑呆在身边。因此，更方便的方式是在远程服务器上进行云计算。\n",
    "\n",
    "许多人都使用过云储存功能，比如Dropbox、百度云盘等等。但是了解云计算的人并不多。实际上，本地计算和云计算并没有本质上的差异。在云端服务器中准备好代码和数据，打开一个命令行程序(shell)以下达指令，就能够运行代码并得到我们想要的运算结果。不过对于不熟悉云计算的人来说，不会使用命令行系统(command-line-based)可能是一个潜在的障碍。这样使用命令行来运行的系统是二三十年前的产物，如今我们主要使用Windows或MacOS这种图形化操作系统(graphic operating system)。对于Windows操作者来说，我推荐使用 `Git Bash`作为命令行程序，[`WinSCP`](http://winscp.net/eng/download.php)作为输入和输出的图形化操作界面。\n",
    "\n",
    "```{prf:remark}\n",
    "当然，对于想要在计算机领域更进一步的人来说，最好还是要自行学习一下`linux`系统的使用。Windows系统的使用者可以通过Windows Subsystem for Linux(WSL)在Windows系统上原生运行linux二进制可执行文件。linux有占用系统资源少，完全开源，稳定性好等优势。在云计算的过程中，我们可能会用到docker container进行环境的配置，这时候也需要用到linux以及WSL。\n",
    "```\n",
    "云计算平台尤其适合R和Python这种开源软件的使用者。只要资源允许，这些开源软件可以安装在各个远程服务器上。相反，如果要在服务器上使用付费软件，那么使用许可的价格将会十分昂贵。"
   ]
  },
  {
   "cell_type": "markdown",
   "id": "bf6a7ab7",
   "metadata": {},
   "source": [
    "云计算的概念最早在2006年被提出，随着时代和技术的发展，云计算的使用壁垒不断降低，可以说是“旧时王谢堂前燕，飞入寻常百姓家”。云桌面(远程桌面)能够最好地模拟本地设备的操作环境，但是由于它的网络延迟问题(latency)，并不为开发者们所推崇。这种延迟问题在我们移动鼠标或者键盘输入时就能明显地感觉到。\n",
    "\n",
    "远程的Jupyter和Rstudio则是不一样的工作原理。他们用浏览器作为操作界面，鼠标和键盘仍然是本地的。指令从浏览器发往远程计算机，在运算结束后再将数据发回浏览器。它们的IDEs也有文件管理功能，某种程度上可以代替WinSCP的作用。\n",
    "\n",
    "最方便的方式是命令行界面(Command-Line Interface,CLI)"
   ]
  },
  {
   "cell_type": "markdown",
   "id": "7e09e1de",
   "metadata": {},
   "source": [
    "### 命令行\n",
    "\n",
    "大多数的服务器使用的都是Unix或Linux的操作系统。下列为一些简单的指令：\n",
    "\n",
    "* `mkdir`: 设置路径\n",
    "* `cd`: 调整路径\n",
    "* `copy`: 复制文件\n",
    "* `top`: 改变登录状态\n",
    "* `screen`: 独立的显示窗口\n",
    "* `ssh`: 使用者地址\n",
    "\n",
    "我们系的运算平台的硬件条件已经改进了。老师们可以使用的是32核的服务器。学生则可以使用一个高性能的多核服务器。"
   ]
  },
  {
   "cell_type": "markdown",
   "id": "33082643",
   "metadata": {},
   "source": [
    "### 操作方法\n",
    "\n",
    "1. 登录 `econsuper.econ.cuhk.edu.hk`;\n",
    "2. 将R语言脚本和数据上传至服务器\n",
    "3. 在一个命令行界面(shell)，运行`R --vanilla <file_name.R> result_file_name.out`;\n",
    "4. 如果需要在后台运行指令，在上述指令的末尾加上 `&`。\n",
    "\n",
    "这个例子来自于{cite}`lin2020`。我们仅使用了15%的数据和稀疏的调参网格用于展示。使用24核的服务器需要用大约9分钟进行运算。"
   ]
  },
  {
   "cell_type": "markdown",
   "id": "61735904",
   "metadata": {},
   "source": [
    "```{prf:example}\n",
    "ssh ztshi@econsuper.econ.cuhk.edu.hk\n",
    "cd data_example\n",
    "R --vanilla <Beijing_housing_gbm.R> GBM_BJ.out & \n",
    "```"
   ]
  },
  {
   "cell_type": "markdown",
   "id": "ef1ebf39",
   "metadata": {},
   "source": [
    "如果一个进程需要花费大量的时间，我们最后将它放在后台进行运算，这样就能把终端(terminal)空出了用于其他的任务。另外一个重要的原因是，如果我们将运算放于后台，即使我们与服务器断开了，任务仍然处于运算中的状态。否则，当我们关闭窗口、与服务器断开、掉线时，运算任务将会被立即终止。"
   ]
  },
  {
   "cell_type": "markdown",
   "id": "de924b4e",
   "metadata": {},
   "source": [
    "使用图形化操作界面意味着我们不能直接与过程中的数据进行交互，必须提前考虑好如何取得数据结果。尽管我们总能把结果截屏保存在文本文件中，但是多数情况下我们还是需要将它们导出为可编辑的数据格式(rds, csv, xls...)或者图像文件(pdf, jpeg, png)。在运行脚本之前，最好还是在本地测试一下能否正常进行输入和输出。"
   ]
  },
  {
   "cell_type": "markdown",
   "id": "127b2d2b",
   "metadata": {},
   "source": [
    "![econ_super](graph/econ_super_top.png)\n"
   ]
  },
  {
   "cell_type": "markdown",
   "id": "53195cd5",
   "metadata": {},
   "source": [
    "### RStudio 服务器\n",
    "\n",
    "命令行程序无法通过图形化界面进行交互式数据分析。 \n",
    "[RStudio server](https://rstudio.com/products/rstudio/#rstudio-server) 则通过浏览器提供了与本地环境相似的远程服务器，我们还可以根据个人需求对于远程服务器进行配置。\n",
    "\n",
    "* `RStudio Cloud` 提供可用于教学和展示的免费服务器。它的运算能力过于薄弱，因此仅能用于展示，而无法进行实际的运算工作。\n",
    "* `Econsuper` 是我们经济系自己的服务器，它模拟了一个小型企业的工作环境。我们可以联系技术人员来实现我们的需求。只要连接校园网(VPN)，这个服务器是24小时在线的。它的运算能力远远胜过我们能够购买的最好的本地电脑。\n",
    "* `Amazon Web Service Cloud` 是一个商用服务器，人们可以依据自己的预算选择对应的档位。从简单的代码展示到大型企业的应用，它都能提供对应的服务。"
   ]
  },
  {
   "cell_type": "markdown",
   "id": "d04af960",
   "metadata": {},
   "source": [
    "![AWS](graph/AWS.png)"
   ]
  },
  {
   "cell_type": "markdown",
   "id": "e2af069b",
   "metadata": {},
   "source": [
    "### Colaboratory\n",
    "\n",
    "`Colaboratory`，简称`Colab`，是由谷歌提供的一个线上云计算平台。Colab主要支持的是Python语言，它的优势在于它能够在浏览器编写与执行Python代码并且能够免费使用GPU。同时它还拥有云储存的功能，可以线上储存你所使用的代码与数据。它的代码界面与Jupyter Notebook类似，都是以一个个代码框的形式来运行输入的代码。\n",
    "\n",
    "由于其适合Python开发者以及有高性能GPU的特性，Colab广泛受到机器学习、深度学习与人工智能开发者与学习者的喜爱。目前它有一天12小时的免费额度，对于初学者来说是完全够用的了。谷歌在这方面还是十分“大气”，在资源充裕的情况下，能够给使用者提供15G的显存。因此，如果想要用人工智能在计算机视觉等相关领域进行研究学习的同学，Colab是一个非常不错的选择。比如最近十分热门的以**NovelAI**为代表的AI绘画，就可以通过Colab进行一键部署。"
   ]
  },
  {
   "cell_type": "markdown",
   "id": "bddba634",
   "metadata": {},
   "source": [
    "### Gitpod与Codespaces\n",
    "\n",
    "对于学习代码与编程的同学来说，Github是最好的免费大学。当我们需要参考Github上其他开发者上传的优秀代码时，通常的做法是通过`git clone`指令或者Git管理软件将其下载到本地仓库，并在本地对这些代码进行测试和运行。但实际上，我们可以通过gitpod和codespaces这类在线IDES进行线上的开发调试，从而省去了下载的功夫。\n",
    "\n",
    "`gitpod`的使用方法是，在我们需要在线运行的仓库前加上 gitpod.io/#/ ,例如[econ_data_science](https://gitpod.io/#/github.com/11Haoyu/econ_data_science/tree/master)。在线gitpod的使用界面与VScode基本类似，它也能支持多种语言。我们可以通过下载不同的安装包来配置我们所需要的语言环境。\n",
    "\n",
    "另一种配置环境的方法时使用.yml文件进行配置，在Github的仓库中加上配置好的.yml文件，打开gitpod时就能够自动下载好我们需要的安装包。此外，gitpod也存在prebuild功能，它能够根据提供的.yml文件在gitpod当中提前配置好这个仓库的环境，这样下次再打开该仓库时，就无须重新下载一遍安装包，而是直接有一个预加载好的线上IDES可以使用。否则遇到需要大量安装包的情况时，它配置环境所需时间将会非常得久，每一次打开都会浪费不少的时间。\n",
    "\n",
    "```{prf:remark}\n",
    ".yml文件，或者说YAML语言，是程序员常用的一种配置文件。常见的软件Docker、kubernates以及Jupyterbook等等都会使用到这一种语言进行环境配置。这个语言直接易懂、可读性高，是一种重要的标记语言。\n",
    "```\n",
    "Codespaces是github自带的云端编译器(目前仅对github使用者开放)。它同样是基于VScode的云端IDE，因此熟悉VScode的使用者能够很快上手gitpod和codespaces的使用。Codespaces也能够与桌面版的VScode进行连接与同步。它默认安装的拓展(extension)为Python与Jupyter，如果需要运行R脚本，需要自行配置R语言的环境。"
   ]
  },
  {
   "cell_type": "markdown",
   "id": "ac8e65fc",
   "metadata": {},
   "source": [
    "## 复现性\n",
    "\n",
    "每使用一个新的设备或者服务器，配置环境总是一个费时费力又容易出错的事情。为了保证代码在不同设备的可复现性，开发者们需要保证运行代码时配置的环境是一致的。当我们使用云计算或者集群技术时，一致的环境就更加重要了。\n",
    "\n",
    "对于R语言来说，使用`renv`就能快速地复现环境。"
   ]
  },
  {
   "cell_type": "code",
   "execution_count": null,
   "id": "c56aae53",
   "metadata": {},
   "outputs": [],
   "source": [
    "renv::init() # initiate a local environment\n",
    "renv::snapshot() # scan the folder for packages and dependencies\n",
    "renv::restore() # restore the environment recorded in `renv.lock`"
   ]
  },
  {
   "cell_type": "markdown",
   "id": "2d28338f",
   "metadata": {},
   "source": [
    "Docker则是能够适用多种语言的环境配置软件。简单来说，Docker可以打包程序和运行环境，避免因为设备的不同，没有安装某些软件或者环境变量的设置问题导致程序出错。Docker是依赖于linux运行的，因此Windows用户需要在linux的虚拟环境下才能使用。我们能够通过它将程序、库和扩展包封装在一个软件包中(也叫作镜像)，之后运行容器(container)，这样就能保证环境的一致。"
   ]
  },
  {
   "cell_type": "markdown",
   "id": "79f531ea",
   "metadata": {},
   "source": [
    "## 集群网络\n",
    "\n",
    "有时候，单个服务器/本地设备运算能力有限，但是单纯依靠改进硬件来提高性能成本高昂且效率不高。为了提高运算能力以实现我们的目标，我们就可以让两个或多个运算设备并行运算，从而在不用改进硬件设备的情况下实现运算效率的提升。一个集群网络系统中有多个节点(nodes)，一个节点对应的是一个设备或服务器。我们之前提到的Docker就可以给多个设备配置一样的环境，进而使用多个环境一样的设备进行集群运算。"
   ]
  },
  {
   "cell_type": "markdown",
   "id": "be99a469",
   "metadata": {},
   "source": [
    "## 本地连接远程服务器\n",
    "\n",
    "远程服务器通过命令行驱动，有时候并不符合我们的操作习惯。同时，每次使用都要登录到远程服务器是一件非常麻烦的事情。一个更加方便的方法是将本地IDE与远程服务器连接，从而实现在本地IDE就能够控制远程服务器进行各项操作。\n",
    "\n",
    "### VScode\n",
    "\n",
    "VScode是微软提供的一款轻量级编辑器，同时它也具有连接远程服务器的功能。它的优势在于界面简单，而且为大家所熟悉，上手容易。\n",
    "\n",
    "要使用VScode进行远程连接，我们需要下载一个拓展包`Remote-SSH`。安装成功之后，在左侧的边栏会出现对应的图标。右上方的加号就可以用来新增远程服务器的连接。我们需要获取远程服务器的公网地址，并将其输入VScode，之后就可以将其写入配置文件`.ssh/config`。配置成功后，打开该地址，就会出现弹窗需要输入密码，输入正确的密码之后就可以使用VScode对于远程服务器上的文件进行编辑与运行了。通过此媒介，也能使得本地文件与云端文件的传输与交互变得更加方便。"
   ]
  }
 ],
 "metadata": {
  "kernelspec": {
   "display_name": "R",
   "language": "R",
   "name": "ir"
  },
  "language_info": {
   "codemirror_mode": "r",
   "file_extension": ".r",
   "mimetype": "text/x-r-source",
   "name": "R",
   "pygments_lexer": "r",
   "version": "4.2.0"
  }
 },
 "nbformat": 4,
 "nbformat_minor": 5
}
