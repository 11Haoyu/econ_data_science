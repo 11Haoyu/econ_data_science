{
 "cells": [
  {
   "cell_type": "markdown",
   "metadata": {
    "slideshow": {
     "slide_type": "slide"
    }
   },
   "source": [
    "# Git and Github\n",
    "\n",
    "Zhentao Shi"
   ]
  },
  {
   "cell_type": "markdown",
   "metadata": {
    "slideshow": {
     "slide_type": "slide"
    }
   },
   "source": [
    "## Version Control\n",
    "\n",
    "* Git \n",
    "  - coding projects\n",
    "  - long documents\n",
    "  \n",
    "* Github\n",
    "  - online copy\n",
    "  - collaboration\n",
    "\n",
    "* [git vs. Dropbox from a researcher's perspective](https://michaelstepner.com/blog/git-vs-dropbox/)"
   ]
  },
  {
   "cell_type": "markdown",
   "metadata": {
    "slideshow": {
     "slide_type": "slide"
    }
   },
   "source": [
    "## Tutorials\n",
    "\n",
    "* [Atlassian Online Tutorial](https://www.atlassian.com/git/tutorials) This online tutorial is a good starting point to learn the basics of Git.\n",
    "* A comprehensive reference: [Pro Git](http://git-scm.com/book/en/v2)."
   ]
  },
  {
   "cell_type": "markdown",
   "metadata": {
    "slideshow": {
     "slide_type": "slide"
    }
   },
   "source": [
    "## Interfaces\n",
    "\n",
    "* Command line\n",
    "* Graphic user interface\n",
    "  - [SourceTree](https://www.sourcetreeapp.com/)\n",
    "  \n",
    "  "
   ]
  },
  {
   "cell_type": "markdown",
   "metadata": {
    "slideshow": {
     "slide_type": "slide"
    }
   },
   "source": [
    "## Basic Commands\n",
    "\n",
    "### Identity\n",
    "\n",
    "* `git config --global user.name <name>`\n",
    "* `git config --global user.email <email>`"
   ]
  },
  {
   "cell_type": "markdown",
   "metadata": {
    "slideshow": {
     "slide_type": "slide"
    }
   },
   "source": [
    "### Local\n",
    "\n",
    "* .gitignore\n",
    "* `git help <command>` gets help for a git command\n",
    "* `git init`  creates a new git repo, with data stored in the `.git` directory\n",
    "* `git status` inspects the contents of the working directory and staging area.\n",
    "* `git add filename` adds files to the staging area from working directory.\n",
    "* `git add filename1 filename2` adds multiple files to the staging area."
   ]
  },
  {
   "cell_type": "markdown",
   "metadata": {
    "slideshow": {
     "slide_type": "subslide"
    }
   },
   "source": [
    "* `git commit` stores changes from the staging area to the repository.\n",
    "* `git commit -m \"Commit Message\"` The commit message must be in the quotation marks.\n",
    "* `git log` displays historical commits stored chronologically in the repository.\n",
    "* `git tag -a v1.0 -m 'message' [optional:commit-id]`\n",
    "* `git rm --cached filename` remove"
   ]
  },
  {
   "cell_type": "markdown",
   "metadata": {
    "slideshow": {
     "slide_type": "slide"
    }
   },
   "source": [
    "#### Eraser-like features\n",
    "\n",
    "The latest commit is called **HEAD** commit\n",
    "* `git show HEAD`  displays view the HEAD commit.\n",
    "* `git checkout HEAD filename` restores the file in the working directory to what you made in last commit.\n",
    "* `git reset HEAD filename` unstages the file from committing in the staging area. This command resets the file in the staging area to be the same as the HEAD commit. It does not discard file changes from the working directory; it just removes them from the staging area.\n",
    "* `git reset SHA` works by using **the first 7 characters** of the SHA of a previous commit."
   ]
  },
  {
   "cell_type": "markdown",
   "metadata": {
    "slideshow": {
     "slide_type": "slide"
    }
   },
   "source": [
    "#### Branch\n",
    "\n",
    "Branches can be created for new project features.\n",
    "\n",
    "The ultimate goal is to merge that feature into the master branch.\n",
    "\n",
    "* `git branch` displays the current branch.\n",
    "* `git branch brach_name` creates a new branch\n",
    "* `git checkout branch_name` switches to a branch\n",
    "* `git merge branch_name` merges the branch"
   ]
  },
  {
   "cell_type": "markdown",
   "metadata": {
    "slideshow": {
     "slide_type": "slide"
    }
   },
   "source": [
    "## Github\n",
    "\n",
    "Github is so far the most popular provider of Git repository internet hosting. Github's free account offers unlimited public repositories, and university students and teachers can register for unlimited complimentary private repositories as well. Among other internet hosts such as bitbucket and Gitlab, both of which offer unlimited private repositories for free, Github boasts the largest community of code developers."
   ]
  },
  {
   "cell_type": "markdown",
   "metadata": {
    "slideshow": {
     "slide_type": "subslide"
    }
   },
   "source": [
    "### Remote\n",
    "\n",
    "* `git clone https://github.com/user_name/repo_name`\n",
    "* `git remote add origin` adds the origin remote's URL.\n",
    "* `git remote -v` lists git project's remote copies.\n",
    "* `git push origin master` uploads local commits to the remote repository.\n",
    "* `git pull` downloads the remote copy and merge.\n",
    "* `git fetch` fetches the remote copy to the local hard disk."
   ]
  },
  {
   "cell_type": "markdown",
   "metadata": {
    "slideshow": {
     "slide_type": "subslide"
    }
   },
   "source": [
    "Collaboration typically works as follows:\n",
    "1. Fetch and merge changes from a remote repository;\n",
    "2. Create a branch to work on a new project feature;\n",
    "3. Develop the feature on your branch and commit your work;\n",
    "4. Fetch and merge from the remote again (in case other collaborators have uploaded new commits while you were working);\n",
    "5. Push your branch up to the remote for review."
   ]
  },
  {
   "cell_type": "markdown",
   "metadata": {
    "slideshow": {
     "slide_type": "subslide"
    }
   },
   "source": [
    "#### Conflict\n",
    "\n",
    "* Collaborators working separately on the same paragraph of a file may easily encounter conflicts. \n",
    "* If so, `git pull` will not merge changes from the remote into local repo. \n",
    "* Need to resolve the conflicts\n"
   ]
  },
  {
   "cell_type": "markdown",
   "metadata": {
    "slideshow": {
     "slide_type": "skip"
    }
   },
   "source": []
  }
 ],
 "metadata": {
  "celltoolbar": "Slideshow",
  "kernelspec": {
   "display_name": "R [conda env:r]",
   "language": "R",
   "name": "conda-env-r-r"
  },
  "language_info": {
   "codemirror_mode": "r",
   "file_extension": ".r",
   "mimetype": "text/x-r-source",
   "name": "R",
   "pygments_lexer": "r",
   "version": "4.1.2"
  }
 },
 "nbformat": 4,
 "nbformat_minor": 4
}
