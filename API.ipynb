{
 "cells": [
  {
   "cell_type": "markdown",
   "id": "2f7deb08",
   "metadata": {},
   "source": [
    "## HK GDP\n",
    "\n",
    "[link](https://www.censtatd.gov.hk/en/web_table.html?id=33#)\n",
    "With API"
   ]
  },
  {
   "cell_type": "code",
   "execution_count": null,
   "id": "f8d373d9",
   "metadata": {},
   "outputs": [],
   "source": [
    "# Zheng Haoyu (Jan, 2023)\n",
    "\n",
    "\n",
    "library(httr)\n",
    "library(jsonlite)\n",
    "library(\"rjson\")\n",
    "url <- \"https://www.censtatd.gov.hk/api/get.php?id=33&lang=en&param=N4IgxgbiBcoMJwJqJqAjDEAGHu+4HZ9iScQAaEAfQBcrMsLqAHe6bEAX0oEVUQM7AGJNabDpSqsGXSgHEAIgAUqYAPYBbZmoB2AUx01+AJkwF6kujMnT2GTtxABnKLBbjTlOAHkAcjABtEAAlAEMAdyoAWSoACwBrABMqRKZENUQqNETWAFIqHRAAXUcAGxgaACcAVz1OIA\"\n",
    "download.file(url,destfile=\"input.json\")\n",
    "result <- jsonlite::fromJSON(\"input.json\")\n",
    "gdp <- data.frame(result$dataSet)\n",
    "write.csv(gdp,\"GDP.csv\")\n",
    "\n"
   ]
  },
  {
   "cell_type": "markdown",
   "id": "4a48ddf6",
   "metadata": {},
   "source": [
    "HKMA [API](https://apidocs.hkma.gov.hk/documentation/market-data-and-statistics/daily-monetary-statistics/daily-figures-interbank-liquidity/)"
   ]
  },
  {
   "cell_type": "code",
   "execution_count": null,
   "id": "2c864ead",
   "metadata": {},
   "outputs": [],
   "source": [
    "library(httr)\n",
    "library(jsonlite)\n",
    "library(\"rjson\")\n",
    "url <- \"https://api.hkma.gov.hk/public/market-data-and-statistics/daily-monetary-statistics/daily-figures-interbank-liquidity\"\n",
    "download.file(url,destfile=\"input.json\")\n",
    "result <- jsonlite::fromJSON(\"input.json\")\n",
    "hkma <- data.frame(result$result)\n",
    "write.csv(hkma,\"hkma.csv\")\n",
    "\n"
   ]
  },
  {
   "cell_type": "markdown",
   "id": "35243a72",
   "metadata": {},
   "source": [
    "regular implementation"
   ]
  },
  {
   "cell_type": "code",
   "execution_count": null,
   "id": "fc221aa9",
   "metadata": {},
   "outputs": [],
   "source": [
    "# Zheng Haoyu (Jan, 2023)\n",
    "\n",
    "\n",
    "# install.packages(\"cronR\")\n",
    "library(\"cronR\")\n",
    "# This is to list all the tasks before\n",
    "cron_ls()\n",
    "# This is to clear all the tasks\n",
    "# you can choose not to run this line\n",
    "cron_clear(ask = \"FALSE\")\n",
    "# This means the crontab will run the script of test.r \n",
    "# and the output will be in the /root/test.txt\n",
    "cmd <- cron_rscript(\"HKMA_API.r\",rscript_log = \"/root/HKMAdata.csv\")\n",
    "# This means the download happens every minute with the defined id\n",
    "cron_add(cmd,frequency=\"daily\",ask = \"FALSE\",id = \"shizhentao\")"
   ]
  },
  {
   "cell_type": "markdown",
   "id": "42b4e5dd",
   "metadata": {},
   "source": [
    "CEIC"
   ]
  },
  {
   "cell_type": "code",
   "execution_count": null,
   "id": "ec7b8120",
   "metadata": {},
   "outputs": [],
   "source": [
    "# Dai Qiyu (Jan, 2023)\n",
    "\n",
    "\n",
    "#Step 1: Setup and Login------------------------------------------------------------\n",
    "#packages\n",
    "PackageList=c(\"R6\",\"xml2\",\"zoo\",\"httr\",\"getPass\") \n",
    "NewPackages=PackageList[!(PackageList %in%\n",
    "                            installed.packages()[,\"Package\"])]\n",
    "if(length(NewPackages)) install.packages(NewPackages)\n",
    "lapply(PackageList,require,character.only=TRUE)\n",
    "\n",
    "\n",
    "install.packages (\"ceic\", repos = \"https://downloads.ceicdata.com/R/\", type = \"source\")\n",
    "library(ceic)\n",
    "\n",
    "#log in\n",
    "ceic.login(username=\"cuhk_student_id@link.cuhk.edu.hk\",\n",
    "           password=\"your_password\")\n",
    "\n",
    "\n",
    "#Step 2: obtain China's quarterly GDP-----------------------------------------------\n",
    "CN_GDP_list=\n",
    "  ceic.series(c(\"2609f72b-16b5-4799-a347-35d8ac05e585\"), format = \"ts\", lang = \"zh\")\n",
    "CN_GDP=CN_GDP_list$timepoints\n",
    "CN_GDP\n",
    "\n",
    "\n",
    "#Finally, logout--------------------------------------------------------------------\n",
    "ceic.logout()\n"
   ]
  }
 ],
 "metadata": {
  "kernelspec": {
   "display_name": "R",
   "language": "R",
   "name": "ir"
  }
 },
 "nbformat": 4,
 "nbformat_minor": 5
}
