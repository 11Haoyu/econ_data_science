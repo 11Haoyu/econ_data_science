{
 "cells": [
  {
   "cell_type": "code",
   "execution_count": 9,
   "metadata": {
    "vscode": {
     "languageId": "r"
    }
   },
   "outputs": [
    {
     "name": "stderr",
     "output_type": "stream",
     "text": [
      "Parsed with column specification:\n",
      "cols(\n",
      "  name = col_character(),\n",
      "  id = col_double(),\n",
      "  pinyin = col_character()\n",
      ")\n"
     ]
    }
   ],
   "source": [
    "stock <- readr::read_csv(\n",
    "  \"data_example/SH_stockid.csv\", locale = readr::locale(encoding = \"GB2312\")\n",
    ")\n"
   ]
  },
  {
   "cell_type": "code",
   "execution_count": 11,
   "metadata": {
    "vscode": {
     "languageId": "r"
    }
   },
   "outputs": [
    {
     "data": {
      "text/html": [
       "<table>\n",
       "<thead><tr><th scope=col>name</th><th scope=col>id</th><th scope=col>pinyin</th></tr></thead>\n",
       "<tbody>\n",
       "\t<tr><td>&lt;U+6D66&gt;&lt;U+53D1&gt;&lt;U+94F6&gt;&lt;U+884C&gt;  </td><td>600000                                                    </td><td><span style=white-space:pre-wrap>pu fa yín háng    </span></td></tr>\n",
       "\t<tr><td>&lt;U+767D&gt;&lt;U+4E91&gt;&lt;U+673A&gt;&lt;U+573A&gt;  </td><td>600004                                                    </td><td><span style=white-space:pre-wrap>bái yún ji cháng  </span></td></tr>\n",
       "\t<tr><td>&lt;U+6B66&gt;&lt;U+94A2&gt;&lt;U+80A1&gt;&lt;U+4EFD&gt;  </td><td>600005                                                    </td><td><span style=white-space:pre-wrap>wu gang gu bin    </span></td></tr>\n",
       "\t<tr><td>&lt;U+4E1C&gt;&lt;U+98CE&gt;&lt;U+6C7D&gt;&lt;U+8F66&gt;</td><td>600006                                                  </td><td>dong feng gài che                                       </td></tr>\n",
       "\t<tr><td>&lt;U+4E2D&gt;&lt;U+56FD&gt;&lt;U+56FD&gt;&lt;U+8D38&gt;</td><td>600007                                                  </td><td>zhong guó guó mào                                       </td></tr>\n",
       "\t<tr><td>&lt;U+9996&gt;&lt;U+521B&gt;&lt;U+80A1&gt;&lt;U+4EFD&gt;</td><td>600008                                                  </td><td>shou chuang gu bin                                      </td></tr>\n",
       "</tbody>\n",
       "</table>\n"
      ],
      "text/latex": [
       "\\begin{tabular}{r|lll}\n",
       " name & id & pinyin\\\\\n",
       "\\hline\n",
       "\t <U+6D66><U+53D1><U+94F6><U+884C> & 600000                           & pu fa yín háng                  \\\\\n",
       "\t <U+767D><U+4E91><U+673A><U+573A> & 600004                           & bái yún ji cháng                \\\\\n",
       "\t <U+6B66><U+94A2><U+80A1><U+4EFD> & 600005                           & wu gang gu bin                  \\\\\n",
       "\t <U+4E1C><U+98CE><U+6C7D><U+8F66> & 600006                           & dong feng gài che               \\\\\n",
       "\t <U+4E2D><U+56FD><U+56FD><U+8D38> & 600007                           & zhong guó guó mào               \\\\\n",
       "\t <U+9996><U+521B><U+80A1><U+4EFD> & 600008                           & shou chuang gu bin              \\\\\n",
       "\\end{tabular}\n"
      ],
      "text/markdown": [
       "\n",
       "| name | id | pinyin |\n",
       "|---|---|---|\n",
       "| <U+6D66><U+53D1><U+94F6><U+884C> | 600000                           | pu fa yín háng                   |\n",
       "| <U+767D><U+4E91><U+673A><U+573A> | 600004                           | bái yún ji cháng                 |\n",
       "| <U+6B66><U+94A2><U+80A1><U+4EFD> | 600005                           | wu gang gu bin                   |\n",
       "| <U+4E1C><U+98CE><U+6C7D><U+8F66> | 600006                           | dong feng gài che                |\n",
       "| <U+4E2D><U+56FD><U+56FD><U+8D38> | 600007                           | zhong guó guó mào                |\n",
       "| <U+9996><U+521B><U+80A1><U+4EFD> | 600008                           | shou chuang gu bin               |\n",
       "\n"
      ],
      "text/plain": [
       "  name                             id     pinyin            \n",
       "1 <U+6D66><U+53D1><U+94F6><U+884C> 600000 pu fa yín háng    \n",
       "2 <U+767D><U+4E91><U+673A><U+573A> 600004 bái yún ji cháng  \n",
       "3 <U+6B66><U+94A2><U+80A1><U+4EFD> 600005 wu gang gu bin    \n",
       "4 <U+4E1C><U+98CE><U+6C7D><U+8F66> 600006 dong feng gài che \n",
       "5 <U+4E2D><U+56FD><U+56FD><U+8D38> 600007 zhong guó guó mào \n",
       "6 <U+9996><U+521B><U+80A1><U+4EFD> 600008 shou chuang gu bin"
      ]
     },
     "metadata": {},
     "output_type": "display_data"
    }
   ],
   "source": [
    "head(stock)"
   ]
  },
  {
   "cell_type": "code",
   "execution_count": 13,
   "metadata": {
    "vscode": {
     "languageId": "r"
    }
   },
   "outputs": [
    {
     "name": "stderr",
     "output_type": "stream",
     "text": [
      "Your code contains a unicode char which cannot be displayed in your\n",
      "current locale and R will silently convert it to an escaped form when the\n",
      "R kernel executes this code. This can lead to subtle errors if you use\n",
      "such chars to do comparisons. For more information, please see\n",
      "https://github.com/IRkernel/repr/wiki/Problems-with-unicode-on-windows"
     ]
    },
    {
     "name": "stdout",
     "output_type": "stream",
     "text": [
      "[1] \"<U+6211><U+662F><U+8C01>\"\n"
     ]
    }
   ],
   "source": [
    "print(\"我是谁\")"
   ]
  },
  {
   "cell_type": "code",
   "execution_count": null,
   "metadata": {
    "vscode": {
     "languageId": "r"
    }
   },
   "outputs": [],
   "source": []
  }
 ],
 "metadata": {
  "kernelspec": {
   "display_name": "R",
   "language": "R",
   "name": "ir"
  },
  "language_info": {
   "codemirror_mode": "r",
   "file_extension": ".r",
   "mimetype": "text/x-r-source",
   "name": "R",
   "pygments_lexer": "r",
   "version": "3.5.3"
  },
  "orig_nbformat": 4
 },
 "nbformat": 4,
 "nbformat_minor": 2
}
