{
 "cells": [
  {
   "cell_type": "markdown",
   "id": "9276a3ac",
   "metadata": {
    "slideshow": {
     "slide_type": "slide"
    }
   },
   "source": [
    "# Graphics\n",
    "\n",
    "Zhentao Shi\n",
    "\n",
    "<!-- code is tested on SCRP -->"
   ]
  },
  {
   "cell_type": "markdown",
   "id": "7b9fe25f",
   "metadata": {
    "slideshow": {
     "slide_type": "slide"
    }
   },
   "source": [
    "\n",
    "China's microeconomic datasets [link](https://zhuanlan.zhihu.com/p/30588976)\n",
    "\n",
    "Chinese Longitudinal Healthy Longevity Survey [link](https://www.icpsr.umich.edu/web/NACDA/studies/36692)\n",
    "\n",
    "China Household Finance Survey [link](https://chfs.swufe.edu.cn/)\n"
   ]
  },
  {
   "cell_type": "markdown",
   "id": "a69d2261",
   "metadata": {
    "slideshow": {
     "slide_type": "slide"
    }
   },
   "source": [
    "An English cliché says \"One picture is worth ten thousand words\".\n",
    "John Tukey, a renowned mathematical statistician, was one of the pioneers of statistical graphs\n",
    "in the computer era. "
   ]
  },
  {
   "cell_type": "markdown",
   "id": "add8d27b",
   "metadata": {
    "slideshow": {
     "slide_type": "slide"
    }
   },
   "source": [
    "Nowadays, powerful software is able to produce dazzling statistical graphs, sometimes web-based and interactive. Outside of academia, journalism hooks a wide readership with professional data-based graphs. New York Times and The Economists are first-rate examples; South China Morning Post sometimes also does a respectable job."
   ]
  },
  {
   "cell_type": "markdown",
   "id": "c4f92c15",
   "metadata": {
    "slideshow": {
     "slide_type": "slide"
    }
   },
   "source": [
    "A well designed statistical graph can deliver an intuitive and powerful message.\n",
    "I consider graph prior to table when writing a research report or an academic paper.\n",
    "Graph is lively and engaging. Table is tedious and boring."
   ]
  },
  {
   "cell_type": "markdown",
   "id": "864c3139",
   "metadata": {
    "slideshow": {
     "slide_type": "slide"
    }
   },
   "source": [
    "## Simple graphs"
   ]
  },
  {
   "cell_type": "markdown",
   "id": "6f647079",
   "metadata": {
    "slideshow": {
     "slide_type": "slide"
    }
   },
   "source": [
    "### Time Series\n",
    "\n",
    "- Natural ordering of observations\n",
    "- A single realization in history"
   ]
  },
  {
   "cell_type": "code",
   "execution_count": null,
   "id": "86325ee5",
   "metadata": {
    "slideshow": {
     "slide_type": "slide"
    }
   },
   "outputs": [],
   "source": [
    "library(magrittr)\n",
    "library(dplyr)\n",
    "library(doBy)\n",
    "library(zoo)\n",
    "library(rvest)\n",
    "library(Quandl)"
   ]
  },
  {
   "cell_type": "markdown",
   "id": "4d4bbd6b",
   "metadata": {
    "slideshow": {
     "slide_type": "slide"
    }
   },
   "source": [
    "- Macroeconomic applications\n",
    "  - 国家统计局 [National Bureau of Statistics](https://data.stats.gov.cn/easyquery.htm?cn=B01)\n",
    "  - Federal Reserve [FRED database](https://research.stlouisfed.org/econ/mccracken/fred-databases/)\n",
    "\n",
    "- Financial applications\n",
    "  - [Yahoo Finance](https://finance.yahoo.com/)"
   ]
  },
  {
   "cell_type": "markdown",
   "id": "8bf6b2c4",
   "metadata": {
    "slideshow": {
     "slide_type": "slide"
    }
   },
   "source": [
    "## HK GDP\n",
    "\n",
    "* [link](https://www.censtatd.gov.hk/en/web_table.html?id=33#)\n",
    "With API"
   ]
  },
  {
   "cell_type": "markdown",
   "id": "0f80e7d6",
   "metadata": {
    "slideshow": {
     "slide_type": "fragment"
    }
   },
   "source": [
    "## China's GDP\n",
    "\n",
    "* 国家统计局 [National Bureau of Statistics](https://data.stats.gov.cn/easyquery.htm?cn=B01)\n",
    "* API (Application Programming Interface) is provided  [FRED's webpage](https://fred.stlouisfed.org/series/MKTGDPCNA646NWDB)"
   ]
  },
  {
   "cell_type": "markdown",
   "id": "66445768",
   "metadata": {
    "slideshow": {
     "slide_type": "fragment"
    }
   },
   "source": [
    "## US GDP\n",
    "\n",
    "* GDP is provided by [BEA](https://www.bea.gov/data/gdp/gross-domestic-product)"
   ]
  },
  {
   "cell_type": "code",
   "execution_count": null,
   "id": "cda5e0d7",
   "metadata": {
    "slideshow": {
     "slide_type": "slide"
    }
   },
   "outputs": [],
   "source": [
    "quantmod::getSymbols.FRED(Symbols = \"MKTGDPCNA646NWDB\", env = .GlobalEnv) \n",
    "plot(MKTGDPCNA646NWDB)"
   ]
  },
  {
   "cell_type": "markdown",
   "id": "4a40d66c",
   "metadata": {
    "slideshow": {
     "slide_type": "slide"
    }
   },
   "source": [
    "### Shanghai Composite Index"
   ]
  },
  {
   "cell_type": "code",
   "execution_count": null,
   "id": "3471f635",
   "metadata": {
    "slideshow": {
     "slide_type": "fragment"
    }
   },
   "outputs": [],
   "source": [
    "tick = \"000001.SS\" # need to find the tick \n",
    "SH <- quantmod::getSymbols(tick, auto.assign = FALSE, \n",
    "         from = \"2000-01-01\")[, paste0(tick,\".Close\")]\n",
    "\n",
    "plot(SH)"
   ]
  },
  {
   "cell_type": "markdown",
   "id": "f15f1a2d",
   "metadata": {
    "slideshow": {
     "slide_type": "slide"
    }
   },
   "source": [
    "### 000001.SS Return"
   ]
  },
  {
   "cell_type": "code",
   "execution_count": null,
   "id": "ed9b3548",
   "metadata": {
    "slideshow": {
     "slide_type": "fragment"
    }
   },
   "outputs": [],
   "source": [
    "diff(log(HSI)) %>% plot"
   ]
  },
  {
   "cell_type": "markdown",
   "id": "4319f4cf",
   "metadata": {
    "slideshow": {
     "slide_type": "slide"
    }
   },
   "source": [
    "### Bitcoin"
   ]
  },
  {
   "cell_type": "code",
   "execution_count": null,
   "id": "9a9e69ed",
   "metadata": {
    "slideshow": {
     "slide_type": "fragment"
    }
   },
   "outputs": [],
   "source": [
    "BTC <- quantmod::getSymbols(\"BTC-USD\",auto.assign = FALSE, from = \"2021-07-01\")[,4]\n",
    "plot(BTC)\n",
    "\n",
    "ETH <- quantmod::getSymbols(\"ETH-USD\",auto.assign = FALSE, from = \"2021-07-01\")[,4]\n",
    "plot(ETH)\n",
    "\n",
    "plot( x = as.vector(ETH), y = as.vector(BTC), type = \"l\")"
   ]
  },
  {
   "cell_type": "markdown",
   "id": "84294343",
   "metadata": {
    "slideshow": {
     "slide_type": "slide"
    }
   },
   "source": [
    "### Bitcoin return"
   ]
  },
  {
   "cell_type": "code",
   "execution_count": null,
   "id": "917c8541",
   "metadata": {
    "slideshow": {
     "slide_type": "fragment"
    }
   },
   "outputs": [],
   "source": [
    "diff( log(BTC) ) %>% plot( )"
   ]
  },
  {
   "cell_type": "markdown",
   "id": "30ba843b",
   "metadata": {
    "slideshow": {
     "slide_type": "slide"
    }
   },
   "source": [
    "### Exchange rates"
   ]
  },
  {
   "cell_type": "code",
   "execution_count": null,
   "id": "abb9e210",
   "metadata": {
    "slideshow": {
     "slide_type": "fragment"
    }
   },
   "outputs": [],
   "source": [
    "quantmod::getFX(\"USD/JPY\")\n",
    "quantmod::getFX(\"HKD/JPY\")\n",
    "matplot( y = cbind(USDJPY, HKDJPY*7.8), x = index(USDJPY), type = \"l\", xlab = \"time\"  )"
   ]
  },
  {
   "cell_type": "markdown",
   "id": "a29247fa",
   "metadata": {
    "slideshow": {
     "slide_type": "slide"
    }
   },
   "source": [
    "## GGplot2"
   ]
  },
  {
   "cell_type": "markdown",
   "id": "16ba282c",
   "metadata": {
    "slideshow": {
     "slide_type": "fragment"
    }
   },
   "source": [
    "\n",
    "We have seen an example of R graph in the OLS regression linear example in Lecture 1.\n",
    "`plot` is a generic command for graphs, and is the default R graphic engine.\n",
    "It is capable of producing preliminary statistical graphs.\n",
    "\n",
    "Over the years, developers all over the world have had many proposals for\n",
    "more sophisticated statistical graphs. Hadley Wickham's \n",
    "`ggplot2` is among the most successful. \n",
    "\n"
   ]
  },
  {
   "cell_type": "markdown",
   "id": "4adeec99",
   "metadata": {
    "slideshow": {
     "slide_type": "slide"
    }
   },
   "source": [
    "`ggplot2` is an advanced graphic system that generates high-quality statistical graphs.\n",
    "It is not possible to cover it in a lecture. Fortunately, the author wrote a comprehensive reference\n",
    "[**ggplot2 book**](http://link.springer.com/book/10.1007%2F978-0-387-98141-3),\n",
    "which can be downloaded via the CUHK campus network (VPN needed)."
   ]
  },
  {
   "cell_type": "markdown",
   "id": "ea94ef94",
   "metadata": {
    "slideshow": {
     "slide_type": "slide"
    }
   },
   "source": [
    "`ggplot2` accommodates data frames of a particular format. `reshape2` is a package that helps prepare the data frames for `ggplot2`.\n",
    "\n",
    "The workflow of ggplot is to add the elements in a graph one by one, and then print out\n",
    "the graph all together.\n",
    "In contrast, `plot` draws the main graph at first, and then adds the supplementary elements later."
   ]
  },
  {
   "cell_type": "markdown",
   "id": "6e8fbf03",
   "metadata": {
    "slideshow": {
     "slide_type": "slide"
    }
   },
   "source": [
    "`ggplot2` is particularly good at drawing multiple graphs, either of the same pattern or of\n",
    "different patterns. Multiple subgraphs convey rich information and easy comparison.\n"
   ]
  },
  {
   "cell_type": "markdown",
   "id": "20a46e2a",
   "metadata": {
    "slideshow": {
     "slide_type": "slide"
    }
   },
   "source": [
    "### Example\n",
    "\n",
    "Plot the density of two estimators under three different data generating processes.\n",
    "This is an example to generate subgraphs of the same pattern.\n"
   ]
  },
  {
   "cell_type": "code",
   "execution_count": null,
   "id": "2b60cd87",
   "metadata": {
    "slideshow": {
     "slide_type": "slide"
    }
   },
   "outputs": [],
   "source": [
    "load(\"data_example/big150.Rdata\")\n",
    "library(ggplot2)\n",
    "library(reshape2)\n",
    "\n",
    "big150_1 <- big150[, c(\"typb\", \"b1\", \"b1_c\")]\n",
    "print(head(big150_1))\n",
    "\n",
    "big150_1 <- melt(big150_1, id.vars = \"typb\", measure.vars = c(\"b1\", \"b1_c\"))\n",
    "names(big150_1)[2] <- c(\"estimator\")\n",
    "print(head(big150_1))\n",
    "\n",
    "p1 <- ggplot(big150_1)\n",
    "p1 <- p1 + geom_area(\n",
    "  stat = \"density\", alpha = .25,\n",
    "  aes(x = value, fill = estimator), position = \"identity\"\n",
    ")\n",
    "p1 <- p1 + facet_grid(. ~ typb)\n",
    "p1 <- p1 + geom_vline(xintercept = 0)\n",
    "p1 <- p1 + theme_bw()\n",
    "p1 <- p1 + theme(\n",
    "  strip.text = element_text(size = 12),\n",
    "  axis.text = element_text(size = 12)\n",
    ")\n",
    "print(p1)"
   ]
  },
  {
   "cell_type": "markdown",
   "id": "2949fb7a",
   "metadata": {
    "slideshow": {
     "slide_type": "slide"
    }
   },
   "source": [
    "The function `ggplot` specifies which dataset to use for the graph. `geom_***` determines the shape to draw, for example scatter dots, lines, curves or areas. `theme` is to tune the supplementary elements like the background, the size and font of the axis text and so on."
   ]
  },
  {
   "cell_type": "markdown",
   "id": "483a1dea",
   "metadata": {
    "slideshow": {
     "slide_type": "slide"
    }
   },
   "source": [
    "### Example\n",
    "\n",
    "This example aligns two graphs of different patterns in one page.\n",
    "Similar graphs appear in [Shi and Zheng, 2018](https://onlinelibrary.wiley.com/doi/abs/10.1002/jae.2640).\n",
    "\n"
   ]
  },
  {
   "cell_type": "code",
   "execution_count": null,
   "id": "0ee3941a",
   "metadata": {
    "slideshow": {
     "slide_type": "slide"
    }
   },
   "outputs": [],
   "source": [
    "# graph packages\n",
    "library(lattice)\n",
    "library(ggplot2)\n",
    "library(reshape2)\n",
    "library(gridExtra)\n",
    "\n",
    "load(\"data_example/multigraph.Rdata\") # load data\n",
    "\n",
    "\n",
    "# unify the theme in the two graphs\n",
    "theme1 <- theme_bw() + theme(\n",
    "  axis.title.x = element_blank(),\n",
    "  strip.text = element_text(size = 12),\n",
    "  axis.text = element_text(size = 12),\n",
    "  legend.position = \"bottom\", legend.title = element_blank()\n",
    ")\n",
    "\n",
    "# sub-graph 1\n",
    "d1 <- data.frame(month = 1:480, m = m_vec)\n",
    "p1 <- qplot(x = month, y = m, data = d1, geom = \"line\")\n",
    "p1 <- p1 + theme1 + ylab(\"fraction of chartists\")\n",
    "\n",
    "\n",
    "# sug-graph 2\n",
    "d2$month <- 1:480\n",
    "p2 <- ggplot(d2)\n",
    "p2 <- p2 + geom_line(aes(x = month, y = value, col = variable))\n",
    "p2 <- p2 + theme1 + ylab(\"price and fundamental\")\n",
    "\n",
    "# generate the grahp\n",
    "grid.arrange(p1, p2, nrow = 2)\n"
   ]
  },
  {
   "cell_type": "markdown",
   "id": "7f4798ec",
   "metadata": {
    "slideshow": {
     "slide_type": "slide"
    }
   },
   "source": [
    "In order to unify the theme of the two distinctive subgraphs,\n",
    "we define an object `theme1` and apply it in both graphic objects\n",
    "`p1` and `p2`."
   ]
  },
  {
   "cell_type": "markdown",
   "id": "0eedf312",
   "metadata": {
    "slideshow": {
     "slide_type": "slide"
    }
   },
   "source": [
    "### Interactive Graph\n",
    "\n",
    "In the folder of `data_example`, we give a preliminary example \n",
    "of `flexdashboard`. It is very easy to convert a ggplot2 graph \n",
    "into an HTML interactive graph by `plotly::ggplotly()`."
   ]
  },
  {
   "cell_type": "markdown",
   "id": "15f1c9bf",
   "metadata": {
    "slideshow": {
     "slide_type": "slide"
    }
   },
   "source": [
    "## Shiny App\n",
    "\n",
    "Sometimes, we want the graphs to be interactive so the users can do more exploration with it. **Interactive Graph** means that the users can provide the customized input, and the graph will present the corresponding outcome. **Shiny App** is a web-based R package for interactive graph. The details can refer to the [tutorial](https://shiny.rstudio.com/tutorial/)"
   ]
  },
  {
   "cell_type": "markdown",
   "id": "93cbdb40",
   "metadata": {
    "slideshow": {
     "slide_type": "slide"
    }
   },
   "source": [
    "Shiny mainly consists of two equally important parts. \n",
    "\n",
    "* The UI for the interface of Shiny\n",
    "* The Server for the calculation of input data."
   ]
  },
  {
   "cell_type": "markdown",
   "id": "3b52eee9",
   "metadata": {
    "slideshow": {
     "slide_type": "slide"
    }
   },
   "source": [
    "## User Interface\n",
    "\n",
    "The user interface for Shiny is defined by codes. We can use R scripts to desige the UI on the website. For instance, we can desige a window for input of numbers, or we can define the style of the bar graph."
   ]
  },
  {
   "cell_type": "markdown",
   "id": "40797e88",
   "metadata": {
    "slideshow": {
     "slide_type": "fragment"
    }
   },
   "source": [
    "## Server\n",
    "\n",
    "If we want to calculate some statistics and summarize it to a graph. We must have the algorithm to tell the computer how to do the math. Server is the brain in the Shiny, which accounts for the remote computing. And its calculation is **reactive**. Whenever there's any new input from UI, it will automatically conduct the algorithm again and display the results."
   ]
  },
  {
   "cell_type": "markdown",
   "id": "b8fe4134",
   "metadata": {
    "slideshow": {
     "slide_type": "slide"
    }
   },
   "source": [
    "### Example\n",
    "\n",
    "Shiny has eleven built-in examples to demonstrate what it's capable of. We can learn them by `runExample()`. We also have a example for shiny in the folder `data_example`."
   ]
  },
  {
   "cell_type": "code",
   "execution_count": null,
   "id": "ec6b7b1f",
   "metadata": {
    "slideshow": {
     "slide_type": "slide"
    }
   },
   "outputs": [],
   "source": [
    "install.package(\"shiny\")"
   ]
  },
  {
   "cell_type": "code",
   "execution_count": null,
   "id": "d98e0baf",
   "metadata": {
    "slideshow": {
     "slide_type": "fragment"
    }
   },
   "outputs": [],
   "source": [
    "library(shiny)\n",
    "runExample(\"01_hello\")"
   ]
  },
  {
   "cell_type": "code",
   "execution_count": null,
   "id": "3bcf8135",
   "metadata": {
    "slideshow": {
     "slide_type": "fragment"
    }
   },
   "outputs": [],
   "source": [
    "runExample(\"02_text\")"
   ]
  },
  {
   "cell_type": "code",
   "execution_count": null,
   "id": "ae0e0316",
   "metadata": {
    "slideshow": {
     "slide_type": "fragment"
    }
   },
   "outputs": [],
   "source": [
    "runExample(\"03_reactivity\")"
   ]
  },
  {
   "cell_type": "markdown",
   "id": "d41ad810",
   "metadata": {
    "slideshow": {
     "slide_type": "slide"
    }
   },
   "source": [
    "## Example\n",
    "\n",
    "In the folder `data_example`, we also have a simple demostration for `flexdashboard`. We can use the command `plotly::ggplotly()` to covert a GGplot2 graph into an interactive HTML graph."
   ]
  }
 ],
 "metadata": {
  "celltoolbar": "幻灯片",
  "kernelspec": {
   "display_name": "R",
   "language": "R",
   "name": "ir"
  },
  "language_info": {
   "codemirror_mode": "r",
   "file_extension": ".r",
   "mimetype": "text/x-r-source",
   "name": "R",
   "pygments_lexer": "r",
   "version": "4.2.0"
  },
  "rise": {
   "enable_chalkboard": true,
   "scroll": true,
   "theme": "serif"
  }
 },
 "nbformat": 4,
 "nbformat_minor": 5
}
