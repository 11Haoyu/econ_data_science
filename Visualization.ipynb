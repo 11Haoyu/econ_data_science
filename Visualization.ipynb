{
 "cells": [
  {
   "cell_type": "markdown",
   "metadata": {},
   "source": [
    "\n",
    "\n",
    "# Graphics\n",
    "\n",
    "<!-- code is tested on SCRP -->"
   ]
  },
  {
   "cell_type": "markdown",
   "metadata": {},
   "source": [
    "\n",
    "An English cliché says \"One picture is worth ten thousand words\".\n",
    "John Tukey, a renowned mathematical statistician, was one of the pioneers of statistical graphs\n",
    "in the computer era. Nowadays, powerful software is able to produce dazzling statistical graphs,\n",
    "sometimes web-based and interactive. Outside of academia, journalism hooks a wide readership with\n",
    "professional data-based graphs. New York Times and The Economists are first-rate examples;\n",
    "South China Morning Post sometimes also does a respectable job.\n",
    "A well designed statistical graph can deliver an intuitive and powerful message.\n",
    "I consider graph prior to table when writing a research report or an academic paper.\n",
    "Graph is lively and engaging. Table is tedious and boring.\n",
    "\n",
    "We have seen an example of R graph in the OLS regression linear example in Lecture 1.\n",
    "`plot` is a generic command for graphs, and is the default R graphic engine.\n",
    "It is capable of producing preliminary statistical graphs.\n",
    "\n",
    "Over the years, developers all over the world have had many proposals for\n",
    "more sophisticated statistical graphs. Hadley Wickham's \n",
    "`ggplot2` is among the most successful. \n",
    "\n",
    "`ggplot2` is an advanced graphic system that generates high-quality statistical graphs.\n",
    "It is not possible to cover it in a lecture. Fortunately, the author wrote a comprehensive reference\n",
    "[**ggplot2 book**](http://link.springer.com/book/10.1007%2F978-0-387-98141-3),\n",
    "which can be downloaded via the CUHK campus network (VPN needed).\n",
    "\n",
    "`ggplot2` accommodates data frames of a particular format. `reshape2` is a package that helps prepare the data frames for `ggplot2`.\n",
    "\n",
    "The workflow of ggplot is to add the elements in a graph one by one, and then print out\n",
    "the graph all together.\n",
    "In contrast, `plot` draws the main graph at first, and then adds the supplementary elements later.\n",
    "\n",
    "`ggplot2` is particularly good at drawing multiple graphs, either of the same pattern or of\n",
    "different patterns. Multiple subgraphs convey rich information and easy comparison.\n",
    "\n",
    "\n",
    "**Example**\n",
    "\n",
    "Plot the density of two estimators under three different data generating processes.\n",
    "This is an example to generate subgraphs of the same pattern.\n"
   ]
  },
  {
   "cell_type": "code",
   "execution_count": null,
   "metadata": {
    "vscode": {
     "languageId": "r"
    }
   },
   "outputs": [],
   "source": [
    "load(\"data_example/big150.Rdata\")\n",
    "library(ggplot2)\n",
    "library(reshape2)\n",
    "\n",
    "big150_1 <- big150[, c(\"typb\", \"b1\", \"b1_c\")]\n",
    "print(head(big150_1))\n",
    "\n",
    "big150_1 <- melt(big150_1, id.vars = \"typb\", measure.vars = c(\"b1\", \"b1_c\"))\n",
    "names(big150_1)[2] <- c(\"estimator\")\n",
    "print(head(big150_1))\n",
    "\n",
    "p1 <- ggplot(big150_1)\n",
    "p1 <- p1 + geom_area(\n",
    "  stat = \"density\", alpha = .25,\n",
    "  aes(x = value, fill = estimator), position = \"identity\"\n",
    ")\n",
    "p1 <- p1 + facet_grid(. ~ typb)\n",
    "p1 <- p1 + geom_vline(xintercept = 0)\n",
    "p1 <- p1 + theme_bw()\n",
    "p1 <- p1 + theme(\n",
    "  strip.text = element_text(size = 12),\n",
    "  axis.text = element_text(size = 12)\n",
    ")\n",
    "print(p1)\n"
   ]
  },
  {
   "cell_type": "markdown",
   "metadata": {},
   "source": [
    "The function `ggplot` specifies which dataset to use for the graph. `geom_***` determines the shape to draw, for example scatter dots, lines, curves or areas. `theme` is to tune the supplementary elements like the background, the size and font of the axis text and so on.\n",
    "\n",
    "\n",
    "**Example**\n",
    "\n",
    "This example aligns two graphs of different patterns in one page.\n",
    "Similar graphs appear in @shi2018structural.\n"
   ]
  },
  {
   "cell_type": "code",
   "execution_count": null,
   "metadata": {
    "vscode": {
     "languageId": "r"
    }
   },
   "outputs": [],
   "source": [
    "# graph packages\n",
    "library(lattice)\n",
    "library(ggplot2)\n",
    "library(reshape2)\n",
    "library(gridExtra)\n",
    "\n",
    "load(\"data_example/multigraph.Rdata\") # load data\n",
    "\n",
    "\n",
    "# unify the theme in the two graphs\n",
    "theme1 <- theme_bw() + theme(\n",
    "  axis.title.x = element_blank(),\n",
    "  strip.text = element_text(size = 12),\n",
    "  axis.text = element_text(size = 12),\n",
    "  legend.position = \"bottom\", legend.title = element_blank()\n",
    ")\n",
    "\n",
    "# sub-graph 1\n",
    "d1 <- data.frame(month = 1:480, m = m_vec)\n",
    "p1 <- qplot(x = month, y = m, data = d1, geom = \"line\")\n",
    "p1 <- p1 + theme1 + ylab(\"fraction of chartists\")\n",
    "\n",
    "\n",
    "# sug-graph 2\n",
    "d2$month <- 1:480\n",
    "p2 <- ggplot(d2)\n",
    "p2 <- p2 + geom_line(aes(x = month, y = value, col = variable))\n",
    "p2 <- p2 + theme1 + ylab(\"price and fundamental\")\n",
    "\n",
    "# generate the grahp\n",
    "grid.arrange(p1, p2, nrow = 2)\n"
   ]
  },
  {
   "cell_type": "markdown",
   "metadata": {},
   "source": [
    "In order to unify the theme of the two distinctive subgraphs,\n",
    "we define an object `theme1` and apply it in both graphic objects\n",
    "`p1` and `p2`.\n",
    "\n",
    "### Interactive Graph\n",
    "\n",
    "In the folder of `data_example`, we give a preliminary example \n",
    "of `flexdashboard`. It is very easy to convert a ggplot2 graph \n",
    "into an HTML interactive graph by `plotly::ggplotly()`.\n",
    "\n",
    "\n",
    "\n",
    "### Future writing plan\n",
    "\n",
    "* Shiny app [tutorial](https://shiny.rstudio.com/tutorial/). I have included a shiny app in `data_example/shiny`.\n",
    "\n",
    "\n"
   ]
  },
  {
   "cell_type": "code",
   "execution_count": null,
   "metadata": {},
   "outputs": [],
   "source": []
  }
 ],
 "metadata": {
  "kernelspec": {
   "display_name": "R [conda env:r]",
   "language": "R",
   "name": "conda-env-r-r"
  },
  "language_info": {
   "codemirror_mode": "r",
   "file_extension": ".r",
   "mimetype": "text/x-r-source",
   "name": "R",
   "pygments_lexer": "r",
   "version": "4.1.2"
  }
 },
 "nbformat": 4,
 "nbformat_minor": 4
}
