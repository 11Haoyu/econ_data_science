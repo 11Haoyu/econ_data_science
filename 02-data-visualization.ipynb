{
 "cells": [
  {
   "cell_type": "markdown",
   "id": "6c3b01d1",
   "metadata": {},
   "source": [
    "# Graphics\n",
    "\n",
    "Zhentao Shi\n",
    "\n",
    "<!-- code is tested on SCRP -->"
   ]
  },
  {
   "cell_type": "markdown",
   "id": "bcc5d1ab",
   "metadata": {},
   "source": [
    "China's microeconomic datasets [link](https://zhuanlan.zhihu.com/p/30588976)\n",
    "\n",
    "Chinese Longitudinal Healthy Longevity Survey [link](https://www.icpsr.umich.edu/web/NACDA/studies/36692)\n",
    "\n",
    "China Household Finance Survey [link](https://chfs.swufe.edu.cn/)\n",
    "\n",
    "---"
   ]
  },
  {
   "cell_type": "markdown",
   "id": "96814679",
   "metadata": {},
   "source": [
    "An English cliché says \"One picture is worth ten thousand words\".\n",
    "John Tukey, a renowned mathematical statistician, was one of the pioneers of statistical graphs\n",
    "in the computer era. Nowadays, powerful software is able to produce dazzling statistical graphs,\n",
    "sometimes web-based and interactive. Outside of academia, journalism hooks a wide readership with\n",
    "professional data-based graphs. New York Times and The Economists are first-rate examples;\n",
    "South China Morning Post sometimes also does a respectable job.\n",
    "A well designed statistical graph can deliver an intuitive and powerful message.\n",
    "I consider graph prior to table when writing a research report or an academic paper.\n",
    "Graph is lively and engaging. Table is tedious and boring."
   ]
  },
  {
   "cell_type": "markdown",
   "id": "88c2be63",
   "metadata": {},
   "source": [
    "## Simple graphs\n",
    "\n",
    "### Time Series\n",
    "\n",
    "- Natural ordering of observations\n",
    "- A single realization in history"
   ]
  },
  {
   "cell_type": "code",
   "execution_count": null,
   "id": "98714440",
   "metadata": {},
   "outputs": [],
   "source": [
    "library(magrittr)\n",
    "library(dplyr)\n",
    "library(doBy)\n",
    "library(zoo)\n",
    "library(rvest)\n",
    "library(Quandl)"
   ]
  },
  {
   "cell_type": "markdown",
   "id": "2bd89074",
   "metadata": {},
   "source": [
    "- Macroeconomic applications\n",
    "  - 国家统计局 [National Bureau of Statistics](https://data.stats.gov.cn/easyquery.htm?cn=B01)\n",
    "  - Federal Reserve [FRED database](https://research.stlouisfed.org/econ/mccracken/fred-databases/)\n",
    "\n",
    "- Financial applications\n",
    "  - [Yahoo Finance](https://finance.yahoo.com/)"
   ]
  },
  {
   "cell_type": "markdown",
   "id": "42f87ed3",
   "metadata": {},
   "source": [
    "## HK GDP\n",
    "\n",
    "[link](https://www.censtatd.gov.hk/en/web_table.html?id=33#)\n",
    "With API"
   ]
  },
  {
   "cell_type": "markdown",
   "id": "de969e46",
   "metadata": {},
   "source": [
    "## China's GDP\n",
    "\n",
    "* 国家统计局 [National Bureau of Statistics](https://data.stats.gov.cn/easyquery.htm?cn=B01)\n",
    "* API (Application Programming Interface) is provided  [FRED's webpage](https://fred.stlouisfed.org/series/MKTGDPCNA646NWDB)"
   ]
  },
  {
   "cell_type": "markdown",
   "id": "80d86cb4",
   "metadata": {},
   "source": [
    "## US GDP\n",
    "\n",
    "* GDP is provided by [BEA](https://www.bea.gov/data/gdp/gross-domestic-product)"
   ]
  },
  {
   "cell_type": "code",
   "execution_count": null,
   "id": "e7e330ff",
   "metadata": {},
   "outputs": [],
   "source": [
    "quantmod::getSymbols.FRED(Symbols = \"MKTGDPCNA646NWDB\", env = .GlobalEnv) \n",
    "plot(MKTGDPCNA646NWDB)"
   ]
  },
  {
   "cell_type": "markdown",
   "id": "7a2a4efc",
   "metadata": {},
   "source": [
    "### Shanghai Composite Index"
   ]
  },
  {
   "cell_type": "code",
   "execution_count": null,
   "id": "3683841f",
   "metadata": {},
   "outputs": [],
   "source": [
    "tick = \"000001.SS\" # need to find the tick \n",
    "SH <- quantmod::getSymbols(tick, auto.assign = FALSE, \n",
    "         from = \"2000-01-01\")[, paste0(tick,\".Close\")]\n",
    "\n",
    "plot(SH)"
   ]
  },
  {
   "cell_type": "markdown",
   "id": "901d79ca",
   "metadata": {},
   "source": [
    "### 000001.SS Return"
   ]
  },
  {
   "cell_type": "code",
   "execution_count": null,
   "id": "61c191c5",
   "metadata": {},
   "outputs": [],
   "source": [
    "diff(log(HSI)) %>% plot"
   ]
  },
  {
   "cell_type": "markdown",
   "id": "e5e893c8",
   "metadata": {},
   "source": [
    "### Bitcoin"
   ]
  },
  {
   "cell_type": "code",
   "execution_count": null,
   "id": "6673b6fc",
   "metadata": {},
   "outputs": [],
   "source": [
    "BTC <- quantmod::getSymbols(\"BTC-USD\",auto.assign = FALSE, from = \"2021-07-01\")[,4]\n",
    "plot(BTC)\n",
    "\n",
    "ETH <- quantmod::getSymbols(\"ETH-USD\",auto.assign = FALSE, from = \"2021-07-01\")[,4]\n",
    "plot(ETH)\n",
    "\n",
    "plot( x = as.vector(ETH), y = as.vector(BTC), type = \"l\")"
   ]
  },
  {
   "cell_type": "markdown",
   "id": "12582a55",
   "metadata": {},
   "source": [
    "### Bitcoin return"
   ]
  },
  {
   "cell_type": "code",
   "execution_count": null,
   "id": "04773bfe",
   "metadata": {},
   "outputs": [],
   "source": [
    "diff( log(BTC) ) %>% plot( )"
   ]
  },
  {
   "cell_type": "markdown",
   "id": "bd3ff683",
   "metadata": {},
   "source": [
    "### Exchange rates"
   ]
  },
  {
   "cell_type": "code",
   "execution_count": null,
   "id": "1661421a",
   "metadata": {},
   "outputs": [],
   "source": [
    "quantmod::getFX(\"USD/JPY\")\n",
    "quantmod::getFX(\"HKD/JPY\")\n",
    "matplot( y = cbind(USDJPY, HKDJPY*7.8), x = index(USDJPY), type = \"l\", xlab = \"time\"  )"
   ]
  },
  {
   "cell_type": "markdown",
   "id": "438f2a5f",
   "metadata": {},
   "source": [
    "## GGplot2"
   ]
  },
  {
   "cell_type": "markdown",
   "id": "ce866919",
   "metadata": {},
   "source": [
    "We have seen an example of R graph in the OLS regression linear example in Lecture 1.\n",
    "`plot` is a generic command for graphs, and is the default R graphic engine.\n",
    "It is capable of producing preliminary statistical graphs.\n",
    "\n",
    "Over the years, developers all over the world have had many proposals for\n",
    "more sophisticated statistical graphs. Hadley Wickham's \n",
    "`ggplot2` is among the most successful. "
   ]
  },
  {
   "cell_type": "markdown",
   "id": "baa29a98",
   "metadata": {},
   "source": [
    "`ggplot2` is an advanced graphic system that generates high-quality statistical graphs.\n",
    "It is not possible to cover it in a lecture. Fortunately, the author wrote a comprehensive reference\n",
    "[**ggplot2 book**](http://link.springer.com/book/10.1007%2F978-0-387-98141-3),\n",
    "which can be downloaded via the CUHK campus network (VPN needed)."
   ]
  },
  {
   "cell_type": "markdown",
   "id": "85591998",
   "metadata": {},
   "source": [
    "`ggplot2` accommodates data frames of a particular format. `reshape2` is a package that helps prepare the data frames for `ggplot2`.\n",
    "\n",
    "The workflow of ggplot is to add the elements in a graph one by one, and then print out\n",
    "the graph all together.\n",
    "In contrast, `plot` draws the main graph at first, and then adds the supplementary elements later."
   ]
  },
  {
   "cell_type": "markdown",
   "id": "2c045a87",
   "metadata": {},
   "source": [
    "`ggplot2` is particularly good at drawing multiple graphs, either of the same pattern or of\n",
    "different patterns. Multiple subgraphs convey rich information and easy comparison.\n"
   ]
  },
  {
   "cell_type": "markdown",
   "id": "70b627fe",
   "metadata": {},
   "source": [
    "### Example\n",
    "\n",
    "Plot the density of two estimators under three different data generating processes.\n",
    "This is an example to generate subgraphs of the same pattern.\n"
   ]
  },
  {
   "cell_type": "code",
   "execution_count": null,
   "id": "f432ab9f",
   "metadata": {},
   "outputs": [],
   "source": [
    "load(\"data_example/big150.Rdata\")\n",
    "library(ggplot2)\n",
    "library(reshape2)\n",
    "\n",
    "big150_1 <- big150[, c(\"typb\", \"b1\", \"b1_c\")]\n",
    "print(head(big150_1))\n",
    "\n",
    "big150_1 <- melt(big150_1, id.vars = \"typb\", measure.vars = c(\"b1\", \"b1_c\"))\n",
    "names(big150_1)[2] <- c(\"estimator\")\n",
    "print(head(big150_1))\n",
    "\n",
    "p1 <- ggplot(big150_1)\n",
    "p1 <- p1 + geom_area(\n",
    "  stat = \"density\", alpha = .25,\n",
    "  aes(x = value, fill = estimator), position = \"identity\"\n",
    ")\n",
    "p1 <- p1 + facet_grid(. ~ typb)\n",
    "p1 <- p1 + geom_vline(xintercept = 0)\n",
    "p1 <- p1 + theme_bw()\n",
    "p1 <- p1 + theme(\n",
    "  strip.text = element_text(size = 12),\n",
    "  axis.text = element_text(size = 12)\n",
    ")\n",
    "print(p1)"
   ]
  },
  {
   "cell_type": "markdown",
   "id": "33e58633",
   "metadata": {},
   "source": [
    "The function `ggplot` specifies which dataset to use for the graph. `geom_***` determines the shape to draw, for example scatter dots, lines, curves or areas. `theme` is to tune the supplementary elements like the background, the size and font of the axis text and so on."
   ]
  },
  {
   "cell_type": "markdown",
   "id": "3796ad1c",
   "metadata": {},
   "source": [
    "### Example\n",
    "\n",
    "This example aligns two graphs of different patterns in one page.\n",
    "Similar graphs appear in {cite}`shi2018structral`\n"
   ]
  },
  {
   "cell_type": "code",
   "execution_count": null,
   "id": "fb871d88",
   "metadata": {},
   "outputs": [],
   "source": [
    "# graph packages\n",
    "library(lattice)\n",
    "library(ggplot2)\n",
    "library(reshape2)\n",
    "library(gridExtra)\n",
    "\n",
    "load(\"data_example/multigraph.Rdata\") # load data\n",
    "\n",
    "\n",
    "# unify the theme in the two graphs\n",
    "theme1 <- theme_bw() + theme(\n",
    "  axis.title.x = element_blank(),\n",
    "  strip.text = element_text(size = 12),\n",
    "  axis.text = element_text(size = 12),\n",
    "  legend.position = \"bottom\", legend.title = element_blank()\n",
    ")\n",
    "\n",
    "# sub-graph 1\n",
    "d1 <- data.frame(month = 1:480, m = m_vec)\n",
    "p1 <- qplot(x = month, y = m, data = d1, geom = \"line\")\n",
    "p1 <- p1 + theme1 + ylab(\"fraction of chartists\")\n",
    "\n",
    "\n",
    "# sug-graph 2\n",
    "d2$month <- 1:480\n",
    "p2 <- ggplot(d2)\n",
    "p2 <- p2 + geom_line(aes(x = month, y = value, col = variable))\n",
    "p2 <- p2 + theme1 + ylab(\"price and fundamental\")\n",
    "\n",
    "# generate the grahp\n",
    "grid.arrange(p1, p2, nrow = 2)\n"
   ]
  },
  {
   "cell_type": "markdown",
   "id": "5d0f9332",
   "metadata": {},
   "source": [
    "In order to unify the theme of the two distinctive subgraphs,\n",
    "we define an object `theme1` and apply it in both graphic objects\n",
    "`p1` and `p2`."
   ]
  },
  {
   "cell_type": "markdown",
   "id": "17a734b9",
   "metadata": {},
   "source": [
    "### Interactive Graph\n",
    "\n",
    "In the folder of `data_example`, we give a preliminary example \n",
    "of `flexdashboard`. It is very easy to convert a ggplot2 graph \n",
    "into an HTML interactive graph by `plotly::ggplotly()`."
   ]
  },
  {
   "cell_type": "markdown",
   "id": "e5d526ea",
   "metadata": {},
   "source": [
    "## Shiny App\n",
    "\n",
    "Sometimes, we want the graphs to be interactive so the users can do more exploration with it. **Interactive Graph** means that the users can provide the customized input, and the graph will present the corresponding outcome. **Shiny App** is a web-based R package for interactive graph. The details can refer to the [tutorial](https://shiny.rstudio.com/tutorial/)"
   ]
  },
  {
   "cell_type": "markdown",
   "id": "81fb975b",
   "metadata": {},
   "source": [
    "Shiny mainly consists of two equally important parts. \n",
    "\n",
    "* The UI for the interface of Shiny\n",
    "* The Server for the calculation of input data."
   ]
  },
  {
   "cell_type": "markdown",
   "id": "b8fe0ce1",
   "metadata": {},
   "source": [
    "## User Interface\n",
    "\n",
    "The user interface for Shiny is defined by codes. We can use R scripts to desige the UI on the website. For instance, we can desige a window for input of numbers, or we can define the style of the bar graph."
   ]
  },
  {
   "cell_type": "markdown",
   "id": "c5b37844",
   "metadata": {},
   "source": [
    "## Server\n",
    "\n",
    "If we want to calculate some statistics and summarize it to a graph. We must have the algorithm to tell the computer how to do the math. Server is the brain in the Shiny, which accounts for the remote computing. And its calculation is **reactive**. Whenever there's any new input from UI, it will automatically conduct the algorithm again and display the results."
   ]
  },
  {
   "cell_type": "markdown",
   "id": "01c84518",
   "metadata": {},
   "source": [
    "### Example\n",
    "\n",
    "Shiny has eleven built-in examples to demonstrate what it's capable of. We can learn them by `runExample()`. We also have a example for shiny in the folder `data_example`."
   ]
  },
  {
   "cell_type": "markdown",
   "id": "03496fcd",
   "metadata": {},
   "source": [
    "## Example\n",
    "\n",
    "In the folder `data_example`, we also have a simple demostration for `flexdashboard`. We can use the command `plotly::ggplotly()` to covert a GGplot2 graph into an interactive HTML graph."
   ]
  }
 ],
 "metadata": {
  "kernelspec": {
   "display_name": "R",
   "language": "R",
   "name": "ir"
  },
  "language_info": {
   "codemirror_mode": "r",
   "file_extension": ".r",
   "mimetype": "text/x-r-source",
   "name": "R",
   "pygments_lexer": "r",
   "version": "4.1.2"
  }
 },
 "nbformat": 4,
 "nbformat_minor": 5
}
